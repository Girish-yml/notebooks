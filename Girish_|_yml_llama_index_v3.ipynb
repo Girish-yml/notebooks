{
  "cells": [
    {
      "cell_type": "markdown",
      "metadata": {
        "id": "view-in-github",
        "colab_type": "text"
      },
      "source": [
        "<a href=\"https://colab.research.google.com/github/Girish-yml/notebooks/blob/main/Girish_%7C_yml_llama_index_v3.ipynb\" target=\"_parent\"><img src=\"https://colab.research.google.com/assets/colab-badge.svg\" alt=\"Open In Colab\"/></a>"
      ]
    },
    {
      "cell_type": "markdown",
      "metadata": {
        "id": "9c48213d-6e6a-4c10-838a-2a7c710c3a05"
      },
      "source": [
        "# 🌻 YML Fine-Tune for Humana\n",
        "\n",
        "- use Llama index\n",
        "- base on GPT3.5 LLM."
      ],
      "id": "9c48213d-6e6a-4c10-838a-2a7c710c3a05"
    },
    {
      "cell_type": "markdown",
      "metadata": {
        "id": "50d3b817-b70e-4667-be4f-d3a0fe4bd119"
      },
      "source": [
        "## Install Lib"
      ],
      "id": "50d3b817-b70e-4667-be4f-d3a0fe4bd119"
    },
    {
      "cell_type": "code",
      "execution_count": null,
      "metadata": {
        "id": "HthSr6xfqX7E"
      },
      "outputs": [],
      "source": [
        "%%capture pip_install_log\n",
        "# required libs\n",
        "!pip install openai\n",
        "!pip install llama_index\n",
        "!pip install pdf2image\n",
        "!pip install cryptography\n",
        "!pip install torch\n",
        "!pip install psutil\n",
        "!pip install pypdf\n",
        "# and other deploy lib\n",
        "!pip install gradio\n",
        "!pip install huggingface_hub"
      ],
      "id": "HthSr6xfqX7E"
    },
    {
      "cell_type": "code",
      "execution_count": null,
      "metadata": {
        "id": "2RZHcWWOYR5e"
      },
      "outputs": [],
      "source": [
        "# print(pip_install_log)"
      ],
      "id": "2RZHcWWOYR5e"
    },
    {
      "cell_type": "markdown",
      "metadata": {
        "id": "DqEJy_8iN11w"
      },
      "source": [
        "# 🐶 Monty Class"
      ],
      "id": "DqEJy_8iN11w"
    },
    {
      "cell_type": "code",
      "execution_count": null,
      "metadata": {
        "colab": {
          "base_uri": "https://localhost:8080/"
        },
        "id": "5JCX07V5OCtw",
        "outputId": "47dba4a8-f31d-476b-98f2-c5dec8dab33d"
      },
      "outputs": [
        {
          "output_type": "stream",
          "name": "stdout",
          "text": [
            "---------------------------------- : ----------------------------------\n",
            "                  Hello from class : <class '__main__.HFace_Pluto'> Class: HFace_Pluto\n",
            "                         Code name : Monty\n",
            "                         Author is : Duc Haba\n",
            "---------------------------------- : ----------------------------------\n",
            "Token is valid (permission: write).\n",
            "Your token has been saved in your configured git credential helpers (store).\n",
            "Your token has been saved to /root/.cache/huggingface/token\n",
            "Login successful\n",
            "---------------------------------- : ----------------------------------\n",
            "openai: 0.27.7,              Actual: 0.27.8\n",
            "huggingface_hub: 0.14.1,     Actual: 0.15.1\n",
            "gradio: 3.32.0,              Actual: 3.34.0\n",
            "cryptography: 3.34.0,        Actual: 40.0.2\n",
            "llama_index: 0.6.21.post1,   Actual: 0.6.25.post1\n",
            "\n",
            "---------------------------------- : ----------------------------------\n",
            "CPU usage: 15.0%\n",
            "Total memory: 12.68 GB\n",
            "Available memory: 11.36 GB\n",
            "Memory usage: 0.08%\n",
            "\n",
            "---------------------------------- : ----------------------------------\n",
            "Your GPU is the Tesla T4\n",
            "GPU ready staus True\n",
            "GPU allocated RAM: 0.0 GB\n",
            "GPU reserved RAM 0.0 GB\n",
            "\n",
            "---------------------------------- : ----------------------------------\n",
            "Hostname: 03502617c047\n",
            "IP Address: 172.28.0.12\n",
            "\n",
            "---------------------------------- : ----------------------------------\n"
          ]
        }
      ],
      "source": [
        "# %%writefile app.py\n",
        "\n",
        "## required lib, required \"pip install\"\n",
        "# import transformers\n",
        "# import accelerate\n",
        "import openai\n",
        "import llama_index\n",
        "import torch\n",
        "import cryptography\n",
        "import cryptography.fernet\n",
        "## interface libs, required \"pip install\"\n",
        "import gradio\n",
        "import huggingface_hub\n",
        "import huggingface_hub.hf_api\n",
        "## standard libs, no need to install\n",
        "import json\n",
        "import requests\n",
        "import time\n",
        "import os\n",
        "import random\n",
        "import re\n",
        "import sys\n",
        "import psutil\n",
        "import threading\n",
        "import socket\n",
        "# import PIL\n",
        "# import pandas\n",
        "import matplotlib\n",
        "class HFace_Pluto(object):\n",
        "  #\n",
        "  # initialize the object\n",
        "  def __init__(self, name=\"Pluto\",*args, **kwargs):\n",
        "    super(HFace_Pluto, self).__init__(*args, **kwargs)\n",
        "    self.author = \"Duc Haba\"\n",
        "    self.name = name\n",
        "    self._ph()\n",
        "    self._pp(\"Hello from class\", str(self.__class__) + \" Class: \" + str(self.__class__.__name__))\n",
        "    self._pp(\"Code name\", self.name)\n",
        "    self._pp(\"Author is\", self.author)\n",
        "    self._ph()\n",
        "    #\n",
        "    # define class var for stable division\n",
        "    self._device = 'cuda'\n",
        "    self._steps = [3,8,21,55,89,144]\n",
        "    self._guidances = [1.1,3.0,5.0,8.0,13.0,21.0]\n",
        "    self._xkeyfile = '.xoxo'\n",
        "    self._models = []\n",
        "    self._seed = 667 # sum of walnut in ascii (or Angle 667)\n",
        "    self._width = 512\n",
        "    self._height = 512\n",
        "    self._step = 50\n",
        "    self._guidances = 7.5\n",
        "    self._llama_query_engine = None\n",
        "    self._llama_index_doc = None\n",
        "    #self._generator = torch.Generator(device='cuda')\n",
        "    self.pipes = []\n",
        "    self.prompts = []\n",
        "    self.images = []\n",
        "    self.seeds = []\n",
        "    self.fname_id = 0\n",
        "    self.dname_img = \"img_colab/\"\n",
        "    self._huggingface_key=\"gAAAAABkgtmOIjpnjwXFWmgh1j2et2kMjHUze-ym6h3BieAp34Sqkqv3EVYvRinETvpw-kXu7RSRl5_9FqrYe-7unfakMvMkU8nHrfB3hBSC76ZTXwkVSzlN0RfBNs9NL8BGjaSJ8mz8\"\n",
        "    self._gpt_key=\"'gAAAAABkgtoTOLPegnxNIAfBfAda17h5HIHTS_65bobO3SdDlJam07AHGrcolvk9c6IWNJtTTxaCb8_JtWnLz0Y5h9doyfL-nJZggeQ6kLtaD4XwZYcG-AtYNNGCnJzVt9AaysPDnu-KWVhnJSe-DyH0oOO33doE0g=='\"\n",
        "    self._fkey=\"=cvsOPRcWD6JONmdr4Sh6-PqF6nT1InYh965mI8f_sef\"\n",
        "    self._color_primary = '#2780e3' #blue\n",
        "    self._color_secondary = '#373a3c' #dark gray\n",
        "    self._color_success = '#3fb618' #green\n",
        "    self._color_info = '#9954bb' #purple\n",
        "    self._color_warning = '#ff7518' #orange\n",
        "    self._color_danger = '#ff0039' #red\n",
        "    self._color_mid_gray = '#495057'\n",
        "    return\n",
        "  #\n",
        "  # pretty print output name-value line\n",
        "  def _pp(self, a, b,is_print=True):\n",
        "    # print(\"%34s : %s\" % (str(a), str(b)))\n",
        "    x = f'{\"%34s\" % str(a)} : {str(b)}'\n",
        "    y = None\n",
        "    if (is_print):\n",
        "      print(x)\n",
        "    else:\n",
        "      y = x\n",
        "    return y\n",
        "  #\n",
        "  # pretty print the header or footer lines\n",
        "  def _ph(self,is_print=True):\n",
        "    x = f'{\"-\"*34} : {\"-\"*34}'\n",
        "    y = None\n",
        "    if (is_print):\n",
        "      print(x)\n",
        "    else:\n",
        "      y = x\n",
        "    return y\n",
        "  #\n",
        "  # fetch huggingface file\n",
        "  def fetch_hface_files(self,\n",
        "    hf_names,\n",
        "    hf_space=\"duchaba/monty\",\n",
        "    local_dir=\"/content/\"):\n",
        "    f = str(hf_names) + \" is not iteratable, type: \" + str(type(hf_names))\n",
        "    try:\n",
        "      for f in hf_names:\n",
        "        lo = local_dir + f\n",
        "        huggingface_hub.hf_hub_download(repo_id=hf_space, filename=f,\n",
        "          use_auth_token=True,repo_type=huggingface_hub.REPO_TYPE_SPACE,\n",
        "          force_filename=lo)\n",
        "    except:\n",
        "      self._pp(\"*Error\", f)\n",
        "    return\n",
        "  #\n",
        "  #\n",
        "  def push_hface_files(self,\n",
        "    hf_names,\n",
        "    hf_space=\"duchaba/skin_cancer_diagnose\",\n",
        "    local_dir=\"/content/\"):\n",
        "    f = str(hf_names) + \" is not iteratable, type: \" + str(type(hf_names))\n",
        "    try:\n",
        "      for f in hf_names:\n",
        "        lo = local_dir + f\n",
        "        huggingface_hub.upload_file(\n",
        "          path_or_fileobj=lo,\n",
        "          path_in_repo=f,\n",
        "          repo_id=hf_space,\n",
        "          repo_type=huggingface_hub.REPO_TYPE_SPACE)\n",
        "    except Exception as e:\n",
        "      self._pp(\"*Error\", e)\n",
        "    return\n",
        "  #\n",
        "  def push_hface_folder(self, hf_folder, hf_space_id, hf_dest_folder=None):\n",
        "    api = huggingface_hub.HfApi()\n",
        "    api.upload_folder(folder_path=hf_folder,\n",
        "      repo_id=hf_space_id,\n",
        "      path_in_repo=hf_dest_folder,\n",
        "      repo_type=\"space\")\n",
        "    return\n",
        "  #\n",
        "  # Define a function to display available CPU and RAM\n",
        "  def fetch_system_info(self):\n",
        "    s=''\n",
        "    # Get CPU usage as a percentage\n",
        "    cpu_usage = psutil.cpu_percent()\n",
        "    # Get available memory in bytes\n",
        "    mem = psutil.virtual_memory()\n",
        "    # Convert bytes to gigabytes\n",
        "    mem_total_gb = mem.total / (1024 ** 3)\n",
        "    mem_available_gb = mem.available / (1024 ** 3)\n",
        "    mem_used_gb = mem.used / (1024 ** 3)\n",
        "    # Print the results\n",
        "    s += f\"CPU usage: {cpu_usage}%\\n\"\n",
        "    s += f\"Total memory: {mem_total_gb:.2f} GB\\n\"\n",
        "    s += f\"Available memory: {mem_available_gb:.2f} GB\\n\"\n",
        "    # print(f\"Used memory: {mem_used_gb:.2f} GB\")\n",
        "    s += f\"Memory usage: {mem_used_gb/mem_total_gb:.2f}%\\n\"\n",
        "    return s\n",
        "  #\n",
        "  def restart_script_periodically(self):\n",
        "    while True:\n",
        "      #random_time = random.randint(540, 600)\n",
        "      random_time = random.randint(15800, 21600)\n",
        "      time.sleep(random_time)\n",
        "      os.execl(sys.executable, sys.executable, *sys.argv)\n",
        "    return\n",
        "  #\n",
        "  def write_file(self,fname, txt):\n",
        "    f = open(fname, \"w\")\n",
        "    f.writelines(\"\\n\".join(txt))\n",
        "    f.close()\n",
        "    return\n",
        "  #\n",
        "  def fetch_gpu_info(self):\n",
        "    s=''\n",
        "    try:\n",
        "      s += f'Your GPU is the {torch.cuda.get_device_name(0)}\\n'\n",
        "      s += f'GPU ready staus {torch.cuda.is_available()}\\n'\n",
        "      s += f'GPU allocated RAM: {round(torch.cuda.memory_allocated(0)/1024**3,1)} GB\\n'\n",
        "      s += f'GPU reserved RAM {round(torch.cuda.memory_reserved(0)/1024**3,1)} GB\\n'\n",
        "    except Exception as e:\n",
        "      s += f'**Warning, No GPU: {e}'\n",
        "    return s\n",
        "  #\n",
        "  def _fetch_crypt(self,is_generate=False):\n",
        "    s=self._fkey[::-1]\n",
        "    if (is_generate):\n",
        "      s=open(self._xkeyfile, \"rb\").read()\n",
        "    return s\n",
        "  #\n",
        "  def _gen_key(self):\n",
        "    key = cryptography.fernet.Fernet.generate_key()\n",
        "    with open(self._xkeyfile, \"wb\") as key_file:\n",
        "        key_file.write(key)\n",
        "    return\n",
        "  #\n",
        "  def _decrypt_it(self, x):\n",
        "    y = self._fetch_crypt()\n",
        "    f = cryptography.fernet.Fernet(y)\n",
        "    m = f.decrypt(x)\n",
        "    return m.decode()\n",
        "  #\n",
        "  def _encrypt_it(self, x):\n",
        "    key = self._fetch_crypt()\n",
        "    p = x.encode()\n",
        "    f = cryptography.fernet.Fernet(key)\n",
        "    y = f.encrypt(p)\n",
        "    return y\n",
        "  #\n",
        "  def _login_hface(self):\n",
        "    huggingface_hub.login(self._decrypt_it(self._huggingface_key),\n",
        "      add_to_git_credential=True) # non-blocking login\n",
        "    self._ph()\n",
        "    return\n",
        "  #\n",
        "  def _fetch_version(self):\n",
        "    s = ''\n",
        "    # print(f\"{'torch: 2.0.1':<25} Actual: {torch.__version__}\")\n",
        "    # print(f\"{'transformers: 4.29.2':<25} Actual: {transformers.__version__}\")\n",
        "    s += f\"{'openai: 0.27.7,':<28} Actual: {openai.__version__}\\n\"\n",
        "    s += f\"{'huggingface_hub: 0.14.1,':<28} Actual: {huggingface_hub.__version__}\\n\"\n",
        "    s += f\"{'gradio: 3.32.0,':<28} Actual: {gradio.__version__}\\n\"\n",
        "    s += f\"{'cryptography: 3.34.0,':<28} Actual: {cryptography.__version__}\\n\"\n",
        "    s += f\"{'llama_index: 0.6.21.post1,':<28} Actual: {llama_index.__version__}\\n\"\n",
        "    return s\n",
        "  #\n",
        "  def _fetch_host_ip(self):\n",
        "    s=''\n",
        "    hostname = socket.gethostname()\n",
        "    ip_address = socket.gethostbyname(hostname)\n",
        "    s += f\"Hostname: {hostname}\\n\"\n",
        "    s += f\"IP Address: {ip_address}\\n\"\n",
        "    return s\n",
        "  #\n",
        "  def _setup_openai(self,key=None):\n",
        "    if (key is None):\n",
        "      key = self._decrypt_it(self._gpt_key)\n",
        "    #\n",
        "    openai.api_key = key\n",
        "    os.environ[\"OPENAI_API_KEY\"] = key\n",
        "    return\n",
        "  #\n",
        "  def _fetch_index_files(self,llama_ix):\n",
        "    res = []\n",
        "    x = llama_ix.ref_doc_info\n",
        "    for val in x.values():\n",
        "      jdata = json.loads(val.to_json())\n",
        "      fname = jdata['extra_info']['file_name']\n",
        "      res.append(fname)\n",
        "    # remove dublication name\n",
        "    res = list(set(res))\n",
        "    return res\n",
        "# add module/method\n",
        "#\n",
        "import functools\n",
        "def add_method(cls):\n",
        "  def decorator(func):\n",
        "    @functools.wraps(func)\n",
        "    def wrapper(*args, **kwargs):\n",
        "      return func(*args, **kwargs)\n",
        "    setattr(cls, func.__name__, wrapper)\n",
        "    return func # returning func means func can still be used normally\n",
        "  return decorator\n",
        "#\n",
        "monty = HFace_Pluto(\"Monty\")\n",
        "monty._login_hface()\n",
        "print(monty._fetch_version())\n",
        "monty._ph()\n",
        "print(monty.fetch_system_info())\n",
        "monty._ph()\n",
        "print(monty.fetch_gpu_info())\n",
        "monty._ph()\n",
        "print(monty._fetch_host_ip())\n",
        "monty._ph()\n",
        "monty._setup_openai()"
      ],
      "id": "5JCX07V5OCtw"
    },
    {
      "cell_type": "code",
      "execution_count": null,
      "metadata": {
        "id": "690a6918-7c75-4f95-9ccc-d2c4a1fe00d7"
      },
      "outputs": [],
      "source": [
        "# import logging\n",
        "# import sys\n",
        "# #\n",
        "# logging.basicConfig(stream=sys.stdout, level=logging.INFO)\n",
        "# logging.getLogger().addHandler(logging.StreamHandler(stream=sys.stdout))\n",
        "# #\n",
        "# # from llama_index import VectorStoreIndex, SimpleDirectoryReader, load_index_from_storage, StorageContext\n",
        "# # from IPython.display import Markdown, display"
      ],
      "id": "690a6918-7c75-4f95-9ccc-d2c4a1fe00d7"
    },
    {
      "cell_type": "code",
      "execution_count": null,
      "metadata": {
        "id": "9IwBW4p2C85x"
      },
      "outputs": [],
      "source": [
        "\n",
        "# monty = HFace_Pluto(\"Monty\")\n",
        "# encrpyt = monty._encrypt_it(x=\"abc\")\n",
        "# print(encrpyt)"
      ],
      "id": "9IwBW4p2C85x"
    },
    {
      "cell_type": "markdown",
      "metadata": {
        "id": "8dGAvTtsbGIe"
      },
      "source": [
        "## Set up Openai"
      ],
      "id": "8dGAvTtsbGIe"
    },
    {
      "cell_type": "code",
      "execution_count": null,
      "metadata": {
        "id": "hl49AcFiarKf"
      },
      "outputs": [],
      "source": [
        "# %%writefile -a app.py (This is only for testing , don't write to app.py)\n",
        "\n",
        "# monty._setup_openai(key='sf')"
      ],
      "id": "hl49AcFiarKf"
    },
    {
      "cell_type": "code",
      "execution_count": null,
      "metadata": {
        "colab": {
          "base_uri": "https://localhost:8080/"
        },
        "id": "M60I85XnZlwl",
        "outputId": "62847f54-0333-452e-e339-038489c59d1f"
      },
      "outputs": [
        {
          "output_type": "stream",
          "name": "stdout",
          "text": [
            "{\n",
            "  \"id\": \"cmpl-7Qx0ePQslAKDBnz7JNl0w2CpTgTzp\",\n",
            "  \"object\": \"text_completion\",\n",
            "  \"created\": 1686657716,\n",
            "  \"model\": \"text-davinci-003\",\n",
            "  \"choices\": [\n",
            "    {\n",
            "      \"text\": \"\\n\\nThe first man on the moon was Neil Armstrong. He famously declared \\\"That's one small step for [a] man, one giant leap for mankind\\\" as he became the first human to set foot on the moon on July 20, 1969.\",\n",
            "      \"index\": 0,\n",
            "      \"logprobs\": null,\n",
            "      \"finish_reason\": \"stop\"\n",
            "    }\n",
            "  ],\n",
            "  \"usage\": {\n",
            "    \"prompt_tokens\": 9,\n",
            "    \"completion_tokens\": 51,\n",
            "    \"total_tokens\": 60\n",
            "  }\n",
            "}\n"
          ]
        }
      ],
      "source": [
        "# test the key\n",
        "p = 'Who is the first man on the moon?'\n",
        "try:\n",
        "  response = openai.Completion.create(\n",
        "    model=\"text-davinci-003\",\n",
        "    prompt = p,\n",
        "    max_tokens=100\n",
        "  )\n",
        "  #\n",
        "  print(response)\n",
        "except Exception as e:\n",
        "  print(\"***ERROR: \\n\", e)\n",
        "  print(\"\\n*Solution:\\nIf it is about the incorrect Key, then generate a new OpenAI key for it.\")"
      ],
      "id": "M60I85XnZlwl"
    },
    {
      "cell_type": "markdown",
      "metadata": {
        "id": "5h1xauGoq7Ld"
      },
      "source": [
        "# Load doc"
      ],
      "id": "5h1xauGoq7Ld"
    },
    {
      "cell_type": "code",
      "execution_count": null,
      "metadata": {
        "colab": {
          "base_uri": "https://localhost:8080/"
        },
        "id": "VLeKXeTyr4UZ",
        "outputId": "9d548a3d-9cd0-4d9c-8a71-1147c06c656e"
      },
      "outputs": [
        {
          "output_type": "stream",
          "name": "stdout",
          "text": [
            "Cloning into 'sandbox_yml_humane'...\n",
            "remote: Enumerating objects: 87, done.\u001b[K\n",
            "remote: Total 87 (delta 0), reused 0 (delta 0), pack-reused 87\u001b[K\n",
            "Unpacking objects: 100% (87/87), 70.70 MiB | 12.25 MiB/s, done.\n"
          ]
        }
      ],
      "source": [
        "# download file and index tokens\n",
        "# !git clone -b test https://github.com/Girish-yml/sandbox_yml_humane.git\n",
        "!git clone https://github.com/Girish-yml/sandbox_yml_humane.git"
      ],
      "id": "VLeKXeTyr4UZ"
    },
    {
      "cell_type": "code",
      "execution_count": null,
      "metadata": {
        "colab": {
          "base_uri": "https://localhost:8080/"
        },
        "id": "EeHUPsclsCbC",
        "outputId": "0c5ff459-4955-4ee9-b0e9-fb7191f134ca"
      },
      "outputs": [
        {
          "output_type": "stream",
          "name": "stdout",
          "text": [
            "rm: cannot remove '/content/index_storage': Is a directory\n",
            "rm: cannot remove '/content/sandbox_yml_humane_org': No such file or directory\n"
          ]
        }
      ],
      "source": [
        "# clean up\n",
        "!rm /content/sandbox_yml_humane/LICENSE\n",
        "!rm /content/sandbox_yml_humane/README.md\n",
        "!mv /content/sandbox_yml_humane/index_storage /content/index_storage\n",
        "!rm /content/index_storage\n",
        "!rm /content/sandbox_yml_humane_org"
      ],
      "id": "EeHUPsclsCbC"
    },
    {
      "cell_type": "code",
      "execution_count": null,
      "metadata": {
        "id": "A5JCcrwId845"
      },
      "outputs": [],
      "source": [
        "# %%writefile -a app.py (not need for deployment cause we upload the index token files)\n",
        "\n",
        "@add_method(HFace_Pluto)\n",
        "def gen_llama_index(self, doc_path, vindex='vector_index', vpath='./index_storage'):\n",
        "  # load doc\n",
        "  doc = llama_index.SimpleDirectoryReader(doc_path).load_data()\n",
        "  # need openai key\n",
        "  self._llama_index_doc = llama_index.VectorStoreIndex.from_documents(doc)\n",
        "  # save index to disk\n",
        "  self._llama_index_doc.set_index_id(vindex)\n",
        "  self._llama_index_doc.storage_context.persist(vpath)\n",
        "  print(f'Index doc are: {self._fetch_index_files(self._llama_index_doc)}')\n",
        "  return"
      ],
      "id": "A5JCcrwId845"
    },
    {
      "cell_type": "code",
      "execution_count": null,
      "metadata": {
        "id": "a3H6Kgvzgl1k",
        "colab": {
          "base_uri": "https://localhost:8080/"
        },
        "outputId": "aff3e143-9beb-40d5-e66e-faff37d4035a"
      },
      "outputs": [
        {
          "output_type": "stream",
          "name": "stdout",
          "text": [
            "Index doc are: ['Humana Honor (PPO) H5216-329 - Summary of Benefits.pdf', 'Humana Honor (PPO) - Evidence of Coverage.pdf', 'docushare-app-6_8_2023 3_58_22 AM.pdf', 'Humana Honor (PPO) - CMS Plan Rating.pdf', 'docushare-app-6_8_2023 3_58_27 AM.pdf', 'HumanaChoice (PPO) - Evidence of Coverage.pdf', 'docushare-app-6_8_2023 3_59_37 AM.pdf', 'docushare-app-6_8_2023 3_59_48 AM.pdf', 'mydetails_all.pdf', 'docushare-app-6_8_2023 3_59_10 AM.pdf', 'Humana Gold Plus (HMO) - Evidence of Coverage.pdf', 'Pharmacy List.pdf', 'Humana Gold Plus SNP-DE (HMO-POS D-SNP) - CMS Plan Rating.pdf', 'Humana Gold Plus (HMO) - CMS Plan Rating.pdf', 'HumanaChoice H5216-318 (PPO)  - Summary of Benefits.pdf', 'pre-authorization required.pdf', 'docushare-app-6_8_2023 4_00_10 AM.pdf', 'ANOC - Humana Gold Plus SNP-DE (HMO-POS D-SNP).pdf', 'Humana Gold Plus SNP-DE (HMO-POS D-SNP) - Evidence of Coverage.pdf', 'Step Therapy.pdf', 'Humana Gold Plus SNP-DE (HMO-POS D-SNP) - Summary of Benefits.pdf', 'HumanaChoice (PPO) - CMS Plan Rating.pdf', 'covered-drugs.pdf', 'docushare-app-6_8_2023 4_00_39 AM.pdf', 'docushare-app-6_8_2023 3_59_22 AM.pdf', 'Humana Gold Plus H0028-014 (HMO) - Summary of Benefits.pdf']\n"
          ]
        }
      ],
      "source": [
        "# If first time, do not have index file then do this\n",
        "monty.gen_llama_index('/content/sandbox_yml_humane/source_document/humana')\n",
        "# monty.gen_llama_index('/content/sandbox_yml_humane')"
      ],
      "id": "a3H6Kgvzgl1k"
    },
    {
      "cell_type": "code",
      "execution_count": null,
      "metadata": {
        "id": "03d1691e-544b-454f-825b-5ee12f7faa8a"
      },
      "outputs": [],
      "source": [
        "# # load documents\n",
        "# fdoc = '/content/sandbox_yml_humane'\n",
        "# documents = llama_index.SimpleDirectoryReader(fdoc).load_data()"
      ],
      "id": "03d1691e-544b-454f-825b-5ee12f7faa8a"
    },
    {
      "cell_type": "code",
      "execution_count": null,
      "metadata": {
        "id": "ad144ee7-96da-4dd6-be00-fd6cf0c78e58",
        "scrolled": true
      },
      "outputs": [],
      "source": [
        "# # need openai key\n",
        "# index = llama_index.VectorStoreIndex.from_documents(documents)"
      ],
      "id": "ad144ee7-96da-4dd6-be00-fd6cf0c78e58"
    },
    {
      "cell_type": "code",
      "execution_count": null,
      "metadata": {
        "id": "2bbccf1d-ac39-427c-b3a3-f8e9d1d12348"
      },
      "outputs": [],
      "source": [
        "# # save index to disk\n",
        "# fvector = 'vector_index'\n",
        "# findex='./index_storage'\n",
        "# index.set_index_id(fvector)\n",
        "# index.storage_context.persist(findex)"
      ],
      "id": "2bbccf1d-ac39-427c-b3a3-f8e9d1d12348"
    },
    {
      "cell_type": "markdown",
      "metadata": {
        "id": "UsvhtZ-JA-7o"
      },
      "source": [
        "# Load in index\n",
        "\n",
        "- Does not need Loc doc if you resuse the Token."
      ],
      "id": "UsvhtZ-JA-7o"
    },
    {
      "cell_type": "code",
      "execution_count": null,
      "metadata": {
        "id": "NGeswA3ekJru"
      },
      "outputs": [],
      "source": [
        "# %%writefile -a app.py\n",
        "\n",
        "@add_method(HFace_Pluto)\n",
        "def load_llama_index(self,vindex='vector_index',vpath='./index_storage'):\n",
        "  try:\n",
        "    storage_context = llama_index.StorageContext.from_defaults(persist_dir=vpath)\n",
        "    # load index\n",
        "    self._llama_index_doc = llama_index.load_index_from_storage(storage_context, index_id=vindex)\n",
        "    print(f'Index doc are: {self._fetch_index_files(self._llama_index_doc)}')\n",
        "  except Exception as e:\n",
        "    print('**Error: can not load index, check the index_storage directory or the GPT auth token')\n",
        "    print('If do not have index tokens then run the .gen_llama_index() function')\n",
        "    print(f'Exception: {e}')\n",
        "  return"
      ],
      "id": "NGeswA3ekJru"
    },
    {
      "cell_type": "code",
      "execution_count": null,
      "metadata": {
        "colab": {
          "base_uri": "https://localhost:8080/"
        },
        "id": "iCLyK3ZImJru",
        "outputId": "65fc581e-cfda-4424-c483-5b7390d2ae9c"
      },
      "outputs": [
        {
          "output_type": "stream",
          "name": "stdout",
          "text": [
            "**Error: can not load index, check the index_storage directory or the GPT auth token\n",
            "If do not have index tokens then run the .gen_llama_index() function\n",
            "Exception: Expecting ',' delimiter: line 1 column 53477377 (char 53477376)\n"
          ]
        }
      ],
      "source": [
        "# %%writefile -a app.py\n",
        "\n",
        "monty.load_llama_index()"
      ],
      "id": "iCLyK3ZImJru"
    },
    {
      "cell_type": "code",
      "execution_count": null,
      "metadata": {
        "id": "197ca78e-1310-474d-91e3-877c3636b901"
      },
      "outputs": [],
      "source": [
        "# # rebuild storage context\n",
        "# fvector = 'vector_index'\n",
        "# findex='./index_storage'\n",
        "# storage_context = llama_index.StorageContext.from_defaults(persist_dir=findex)\n",
        "# # load index\n",
        "# index = llama_index.load_index_from_storage(storage_context, index_id=fvector)"
      ],
      "id": "197ca78e-1310-474d-91e3-877c3636b901"
    },
    {
      "cell_type": "markdown",
      "metadata": {
        "id": "b6caf93b-6345-4c65-a346-a95b0f1746c4"
      },
      "source": [
        "# 🏄 Query Index"
      ],
      "id": "b6caf93b-6345-4c65-a346-a95b0f1746c4"
    },
    {
      "cell_type": "code",
      "execution_count": null,
      "metadata": {
        "id": "eJylrDl9nfNZ"
      },
      "outputs": [],
      "source": [
        "# %%writefile -a app.py\n",
        "\n",
        "# @add_method(HFace_Pluto)\n",
        "# def ask_me(self, p):\n",
        "#   if (self._llama_query_engine is None):\n",
        "#     self._llama_query_engine = self._llama_index_doc.as_query_engine()\n",
        "#   resp = self._llama_query_engine.query(p)\n",
        "#   return resp"
      ],
      "id": "eJylrDl9nfNZ"
    },
    {
      "cell_type": "code",
      "source": [
        "# %%writefile -a app.py\n",
        "\n",
        "@add_method(HFace_Pluto)\n",
        "def ask_me(self, p, ll_sign_in_member, ll_index_name):\n",
        "  # todo: make this into a dict so not to use if/else\n",
        "  if (self._llama_query_engine is None):\n",
        "    self._llama_query_engine = self._llama_index_doc.as_query_engine()\n",
        "\n",
        "\n",
        "  if (ll_index_name is None):\n",
        "    ll_engine = self._llama_query_engine\n",
        "  elif (ll_index_name =='Humana'):\n",
        "    pass:\n",
        "\n",
        "  if(ll_sign_in_member is None):\n",
        "    ll_sign_in_member = 'Duc'\n",
        "\n",
        "  px = f'My name is {ll_sign_in_member}, and I want answer to the following: {p} , if you haven\\'t found {ll_sign_in_member} , Just say i don\\'t have much information on this.'\n",
        "  print(\"##### \" + px)\n",
        "  resp = ll_engine.query(px)\n",
        "\n",
        "  return resp"
      ],
      "metadata": {
        "colab": {
          "base_uri": "https://localhost:8080/"
        },
        "id": "0YRH7YeFpG1L",
        "outputId": "91fe8788-992d-4c21-f604-aff47d936122"
      },
      "id": "0YRH7YeFpG1L",
      "execution_count": null,
      "outputs": [
        {
          "output_type": "stream",
          "name": "stdout",
          "text": [
            "Appending to app.py\n"
          ]
        }
      ]
    },
    {
      "cell_type": "code",
      "execution_count": null,
      "metadata": {
        "colab": {
          "base_uri": "https://localhost:8080/"
        },
        "id": "Q-rvBTBDohLF",
        "outputId": "d9ce0555-47bd-4e92-b9f7-fe327fcf92c7"
      },
      "outputs": [
        {
          "output_type": "stream",
          "name": "stdout",
          "text": [
            "(Response(response='\\nYour name is Duc and your prescription is celecoxib 100 mg.', source_nodes=[NodeWithScore(node=Node(text=' Find my details below  \\n Name: Girish \\n Age: 30 \\n Health: Good \\n Prescription : ibuprofen 400 mg \\n Chronic condition: Cough \\n Insurance plan: Humana Gold Plus SNP-DE H0028-015 (HMO-POS D-SNP) \\n Favorite sport team: New York Giants \\n Bank account: Chase \\n Bank balance: $50,000 \\n Financial goal: To buy a house by the end of the year \\n Hospital : City clinic Hospital \\n Pharmacy : Family Care \\n Dosage : Take 1 tablet daily in the morning after food. \\n Doctor : Dr. Srivastava, Dr. Anil \\n Name: Duc \\n Age: 25 \\n Health: Good \\n Prescription : celecoxib 100 mg \\n Chronic condition: Cold \\n Insurance plan: Humana Gold Plus SNP-DE H0028-015 (HMO-POS D-SNP) \\n Favorite sport team: AI Giants \\n Bank account: HDFC \\n Bank balance: $50,00,000 \\n Financial goal: To build AI company \\n Hospital : Mercy Hospital Washington \\n Pharmacy : WALGREENS \\n Dosage : Take 2 tablets daily in the morning after food and one in the evening. \\n Doctor : Dr.Jackson, Dr.Jacob \\n Name: Mayo \\n Age: 20 \\n Health: Good \\n Prescription : flurbiprofen 100 mg \\n Chronic condition: Headache \\n Insurance plan: Humana Gold Plus SNP-DE H0028-015 (HMO-POS D-SNP) \\n Favorite sport team: UI Giants \\n Bank account: ICICI ', doc_id='f9c479f1-e538-4f3a-b60d-5dcdd2b660f3', embedding=None, doc_hash='928003c02dfda1660faee0701c955b7554b516a5e942038e394756aabd5f17d9', extra_info={'page_label': '1', 'file_name': 'mydetails_all.pdf'}, node_info={'start': 0, 'end': 1175, '_node_type': '1'}, relationships={<DocumentRelationship.SOURCE: '1'>: '955453e8-3f31-4c59-a5f9-49caedb43f42'}), score=0.8022702603144293), NodeWithScore(node=Node(text=\" Bank balance: $850,00,000 \\n Financial goal: To build UI company \\n Hospital : St Louis Children's Hospital \\n Pharmacy : Beverly Hills \\n Dosage : Take 2 tablets daily in the morning after food and one in the evening. \\n Doctor : Dr.Kennard \", doc_id='09e21919-5e3b-4704-b312-4e0acab53077', embedding=None, doc_hash='329d586768ef24db0d2ead71d0a2a55ceeabca6b3decb7a4dcb64b0b1f982cfa', extra_info={'page_label': '2', 'file_name': 'mydetails_all.pdf'}, node_info={'start': 0, 'end': 238, '_node_type': '1'}, relationships={<DocumentRelationship.SOURCE: '1'>: '0f1c8089-d487-4ef1-8e8e-124754b068ac'}), score=0.7925331705453695)], extra_info={'f9c479f1-e538-4f3a-b60d-5dcdd2b660f3': {'page_label': '1', 'file_name': 'mydetails_all.pdf'}, '09e21919-5e3b-4704-b312-4e0acab53077': {'page_label': '2', 'file_name': 'mydetails_all.pdf'}}), 'Duc', 'Humana')\n"
          ]
        }
      ],
      "source": [
        "p = 'What is my name and prescription?'\n",
        "q = 'Duc'\n",
        "r = 'Humana'\n",
        "resp = monty.ask_me(p,q,r)\n",
        "print(resp)"
      ],
      "id": "Q-rvBTBDohLF"
    },
    {
      "cell_type": "code",
      "source": [],
      "metadata": {
        "id": "bgveuUsSpN1_"
      },
      "id": "bgveuUsSpN1_",
      "execution_count": null,
      "outputs": []
    },
    {
      "cell_type": "markdown",
      "metadata": {
        "id": "b1OahQ_YF9DS"
      },
      "source": [
        "## Conversational Chat"
      ],
      "id": "b1OahQ_YF9DS"
    },
    {
      "cell_type": "code",
      "execution_count": null,
      "metadata": {
        "colab": {
          "base_uri": "https://localhost:8080/",
          "height": 222
        },
        "id": "-uMsUUHVF7YX",
        "outputId": "cbf76456-00e5-4058-c5d2-7cdca1fcc112"
      },
      "outputs": [
        {
          "ename": "NameError",
          "evalue": "ignored",
          "output_type": "error",
          "traceback": [
            "\u001b[0;31m---------------------------------------------------------------------------\u001b[0m",
            "\u001b[0;31mNameError\u001b[0m                                 Traceback (most recent call last)",
            "\u001b[0;32m<ipython-input-3-e0f5c20d372b>\u001b[0m in \u001b[0;36m<cell line: 10>\u001b[0;34m()\u001b[0m\n\u001b[1;32m      8\u001b[0m \u001b[0;34m\u001b[0m\u001b[0m\n\u001b[1;32m      9\u001b[0m \u001b[0mp\u001b[0m \u001b[0;34m=\u001b[0m \u001b[0;34m'How is my Humana plan chaning?'\u001b[0m\u001b[0;34m\u001b[0m\u001b[0;34m\u001b[0m\u001b[0m\n\u001b[0;32m---> 10\u001b[0;31m \u001b[0mresp\u001b[0m \u001b[0;34m=\u001b[0m \u001b[0mmonty\u001b[0m\u001b[0;34m.\u001b[0m\u001b[0mask_me\u001b[0m\u001b[0;34m(\u001b[0m\u001b[0mp\u001b[0m\u001b[0;34m)\u001b[0m\u001b[0;34m\u001b[0m\u001b[0;34m\u001b[0m\u001b[0m\n\u001b[0m\u001b[1;32m     11\u001b[0m \u001b[0mprint\u001b[0m\u001b[0;34m(\u001b[0m\u001b[0mresp\u001b[0m\u001b[0;34m)\u001b[0m\u001b[0;34m\u001b[0m\u001b[0;34m\u001b[0m\u001b[0m\n",
            "\u001b[0;31mNameError\u001b[0m: name 'monty' is not defined"
          ]
        }
      ],
      "source": [
        "# %%writefile -a app.py\n",
        "# @add_method(HFace_Pluto)\n",
        "def ask_me(self, p):\n",
        "  if (self._llama_query_engine is None):\n",
        "    self._llama_query_engine = self._llama_index_doc.as_chat_engine()\n",
        "  resp = self._llama_query_engine.chat(p)\n",
        "  return resp\n",
        "\n",
        "p = 'How is my Humana plan chaning?'\n",
        "resp = monty.ask_me(p)\n",
        "print(resp)"
      ],
      "id": "-uMsUUHVF7YX"
    },
    {
      "cell_type": "markdown",
      "metadata": {
        "id": "OaAd4XCMogvt"
      },
      "source": [
        "# Scratch space (open at your own risk)\n",
        "\n",
        "- Skip this. It is where I experiment. I will delete it after I review it to see if anything worth keeping.\n",
        "\n",
        "- GO TO Define HuggingFace section"
      ],
      "id": "OaAd4XCMogvt"
    },
    {
      "cell_type": "code",
      "execution_count": null,
      "metadata": {
        "colab": {
          "base_uri": "https://localhost:8080/"
        },
        "id": "85466fdf-93f3-4cb1-a5f9-0056a8245a6f",
        "outputId": "536d903e-230d-4886-b205-c68d02b2d415",
        "scrolled": true
      },
      "outputs": [
        {
          "name": "stdout",
          "output_type": "stream",
          "text": [
            "\n",
            "Humana Gold Plus SNP-DE H0028-015 (HMO-POS D-SNP) is a health plan offered by CHA HMO, Inc., a Humana company. This plan provides coverage for medical care costs, drug coverage, and other benefits. The plan also has a maximum out-of-pocket amount and a monthly premium. The plan has a provider and pharmacy network, and members can check the 2023 Drug Guide to make sure their drugs are still covered. Members can switch plans between October 15 and December 7, and their new coverage will start on January 1, 2023. The plan also offers free counseling about Medicare and Medicaid, and programs that help pay for prescription drugs.\n"
          ]
        }
      ],
      "source": [
        "# set Logging to DEBUG for more detailed outputs\n",
        "query_engine = index.as_query_engine()\n",
        "response = query_engine.query(\"Write a summary for the Humana Gold Plus plan.\")\n",
        "print(response)"
      ],
      "id": "85466fdf-93f3-4cb1-a5f9-0056a8245a6f"
    },
    {
      "cell_type": "code",
      "execution_count": null,
      "metadata": {
        "colab": {
          "base_uri": "https://localhost:8080/",
          "height": 104
        },
        "id": "bdda1b2c-ae46-47cf-91d7-3153e8d0473b",
        "outputId": "9950a83d-c1f7-4b91-a089-f1fb0628cbd9"
      },
      "outputs": [
        {
          "data": {
            "text/markdown": "<b>\nHumana Gold Plus SNP-DE H0028-015 (HMO-POS D-SNP) is a health plan offered by CHA HMO, Inc., a Humana company. This plan provides coverage for medical care costs, drug coverage, and other benefits. The plan also has a maximum out-of-pocket amount and a monthly premium. The plan's provider and pharmacy networks, benefits, and costs may change each year. Members can compare coverage and costs of other plans in their area and decide whether to switch plans between October 15 and December 7. The plan also offers free counseling about Medicare and Medicaid, as well as programs that help pay for prescription drugs.</b>",
            "text/plain": [
              "<IPython.core.display.Markdown object>"
            ]
          },
          "metadata": {},
          "output_type": "display_data"
        }
      ],
      "source": [
        "display(Markdown(f\"<b>{response}</b>\"))"
      ],
      "id": "bdda1b2c-ae46-47cf-91d7-3153e8d0473b"
    },
    {
      "cell_type": "code",
      "execution_count": null,
      "metadata": {
        "colab": {
          "base_uri": "https://localhost:8080/"
        },
        "id": "DN4yL68ewAKQ",
        "outputId": "b27bf7f2-53a2-4fc9-ee84-543f472e7f19"
      },
      "outputs": [
        {
          "name": "stdout",
          "output_type": "stream",
          "text": [
            "\n",
            "Humana Gold Plus SNP-DE H0028-015 (HMO-POS D-SNP) is a health plan offered by CHA HMO, Inc., a Humana company. This plan provides coverage for medical care costs, drug coverage, and other benefits. The plan also has a maximum out-of-pocket amount and a monthly premium. The plan's provider and pharmacy networks, benefits, and costs may change each year. Members can compare coverage and costs of other plans in their area and decide whether to switch plans between October 15 and December 7. The plan also offers free counseling about Medicare and Medicaid, as well as programs that help pay for prescription drugs.\n"
          ]
        }
      ],
      "source": [
        "print(response)"
      ],
      "id": "DN4yL68ewAKQ"
    },
    {
      "cell_type": "code",
      "execution_count": null,
      "metadata": {
        "colab": {
          "base_uri": "https://localhost:8080/",
          "height": 112
        },
        "id": "VrqU76Zmw0Hs",
        "outputId": "0ec3d77c-8ef8-40fb-9dff-a2b4cabe7d32"
      },
      "outputs": [
        {
          "data": {
            "text/markdown": "\nThe Humana Copay for the Gold Plus 2023 plan depends on the tier of the drug and whether or not the member qualifies for \"Extra Help\". For drugs on the Preferred Generic tier, members who qualify for \"Extra Help\" will pay $0, while those who do not qualify will pay 25% coinsurance. For drugs on the Generic tier, members who qualify for \"Extra Help\" will pay $0, while those who do not qualify will pay $20 for standard cost sharing or $9 for preferred cost sharing. For drugs on the Preferred Brand tier, members who qualify for \"Extra Help\" will pay $0, while those who do not qualify will pay $47 for standard cost sharing or 25% coinsurance for retail (standard) cost sharing.",
            "text/plain": [
              "<IPython.core.display.Markdown object>"
            ]
          },
          "metadata": {},
          "output_type": "display_data"
        }
      ],
      "source": [
        "p='What is Humana Copay for the Gold Plus 2023 plan?'\n",
        "resp=query_engine.query(p)\n",
        "display(Markdown(f\"{resp}\"))"
      ],
      "id": "VrqU76Zmw0Hs"
    },
    {
      "cell_type": "code",
      "execution_count": null,
      "metadata": {
        "id": "2LQnwYxsylfe"
      },
      "outputs": [],
      "source": [
        "svm_engine=index.as_query_engine(vector_store_query_mode='svm')\n",
        "linear_engine=index.as_query_engine(vector_store_query_mode='linear_regression')\n",
        "logistic_engine=index.as_query_engine(vector_store_query_mode='logistic_regression')"
      ],
      "id": "2LQnwYxsylfe"
    },
    {
      "cell_type": "code",
      "execution_count": null,
      "metadata": {
        "colab": {
          "base_uri": "https://localhost:8080/",
          "height": 148
        },
        "id": "YHcnUEAPw0L1",
        "outputId": "1726bc93-ecd3-4e21-885e-9ffd4945277a"
      },
      "outputs": [
        {
          "data": {
            "text/markdown": "\nThe Humana Copay for the Gold Plus 2023 plan depends on the tier of the drug and whether or not the member qualifies for \"Extra Help\". For drugs on the Preferred Generic tier, members who qualify for \"Extra Help\" will pay $0, while those who do not qualify will pay 25% coinsurance. For drugs on the Generic tier, members who qualify for \"Extra Help\" will pay $0, while those who do not qualify will pay $20 for standard cost sharing or $9 for preferred cost sharing. For drugs on the Preferred Brand tier, members who qualify for \"Extra Help\" will pay $0, while those who do not qualify will pay $47 for standard cost sharing or 25% coinsurance for retail (standard) cost sharing.",
            "text/plain": [
              "<IPython.core.display.Markdown object>"
            ]
          },
          "metadata": {},
          "output_type": "display_data"
        },
        {
          "name": "stdout",
          "output_type": "stream",
          "text": [
            "CPU times: user 324 ms, sys: 1.07 s, total: 1.39 s\n",
            "Wall time: 11.8 s\n"
          ]
        }
      ],
      "source": [
        "%%time\n",
        "p='What is Humana Copay for the Gold Plus 2023 plan?'\n",
        "resp=svm_engine.query(p)\n",
        "display(Markdown(f\"{resp}\"))"
      ],
      "id": "YHcnUEAPw0L1"
    },
    {
      "cell_type": "code",
      "execution_count": null,
      "metadata": {
        "colab": {
          "base_uri": "https://localhost:8080/",
          "height": 148
        },
        "id": "BAawsr3AyTP7",
        "outputId": "435c5d84-3a63-432d-fbb1-c4b410cb9970"
      },
      "outputs": [
        {
          "data": {
            "text/markdown": "\nThe Humana Copay for the Gold Plus 2023 plan depends on the tier of the drug and whether or not the member qualifies for \"Extra Help\". For drugs on the Preferred Generic tier, members who qualify for \"Extra Help\" will pay $0, while those who do not qualify will pay 25% coinsurance. For drugs on the Generic tier, members who qualify for \"Extra Help\" will pay $0, while those who do not qualify will pay $20 for standard cost sharing or $9 for preferred cost sharing. For drugs on the Preferred Brand tier, members who qualify for \"Extra Help\" will pay $0, while those who do not qualify will pay $47 for standard cost sharing or 25% coinsurance for retail (standard) cost sharing.",
            "text/plain": [
              "<IPython.core.display.Markdown object>"
            ]
          },
          "metadata": {},
          "output_type": "display_data"
        },
        {
          "name": "stdout",
          "output_type": "stream",
          "text": [
            "CPU times: user 302 ms, sys: 1.16 s, total: 1.46 s\n",
            "Wall time: 11.7 s\n"
          ]
        }
      ],
      "source": [
        "%%time\n",
        "p='What is Humana Copay for the Gold Plus 2023 plan?'\n",
        "resp=linear_engine.query(p)\n",
        "display(Markdown(f\"{resp}\"))"
      ],
      "id": "BAawsr3AyTP7"
    },
    {
      "cell_type": "code",
      "execution_count": null,
      "metadata": {
        "colab": {
          "base_uri": "https://localhost:8080/",
          "height": 148
        },
        "id": "fMUl5nPpyTTP",
        "outputId": "ef92ef1c-1364-457a-bc5f-cefa408f170d"
      },
      "outputs": [
        {
          "data": {
            "text/markdown": "\nThe Humana Copay for the Gold Plus 2023 plan depends on the tier of the drug and whether or not the member qualifies for \"Extra Help\". For drugs on the Preferred Generic tier, members who qualify for \"Extra Help\" will pay $0, while those who do not qualify will pay 25% coinsurance. For drugs on the Generic tier, members who qualify for \"Extra Help\" will pay $0, while those who do not qualify will pay $20 for standard cost sharing or $9 for preferred cost sharing. For drugs on the Preferred Brand tier, members who qualify for \"Extra Help\" will pay $0, while those who do not qualify will pay $47 for standard cost sharing or 25% coinsurance for retail (standard) cost sharing.",
            "text/plain": [
              "<IPython.core.display.Markdown object>"
            ]
          },
          "metadata": {},
          "output_type": "display_data"
        },
        {
          "name": "stdout",
          "output_type": "stream",
          "text": [
            "CPU times: user 323 ms, sys: 1.14 s, total: 1.46 s\n",
            "Wall time: 17 s\n"
          ]
        }
      ],
      "source": [
        "%%time\n",
        "p='What is Humana Copay for the Gold Plus 2023 plan?'\n",
        "resp=logistic_engine.query(p)\n",
        "display(Markdown(f\"{resp}\"))"
      ],
      "id": "fMUl5nPpyTTP"
    },
    {
      "cell_type": "code",
      "execution_count": null,
      "metadata": {
        "colab": {
          "base_uri": "https://localhost:8080/",
          "height": 82
        },
        "id": "n0FqvRvKyTWN",
        "outputId": "7cb16cc8-49cd-4272-8e45-0c440c5295be"
      },
      "outputs": [
        {
          "data": {
            "text/markdown": "\nHumana does not cover any treatments related to COVID-19 in the Gold Plus plan.",
            "text/plain": [
              "<IPython.core.display.Markdown object>"
            ]
          },
          "metadata": {},
          "output_type": "display_data"
        },
        {
          "name": "stdout",
          "output_type": "stream",
          "text": [
            "CPU times: user 262 ms, sys: 1.14 s, total: 1.4 s\n",
            "Wall time: 2.77 s\n"
          ]
        }
      ],
      "source": [
        "%%time\n",
        "p='What is the Humana covid-19 treatment in the Gold Plus plan?'\n",
        "resp=query_engine.query(p)\n",
        "display(Markdown(f\"{resp}\"))"
      ],
      "id": "n0FqvRvKyTWN"
    },
    {
      "cell_type": "code",
      "execution_count": null,
      "metadata": {
        "colab": {
          "base_uri": "https://localhost:8080/",
          "height": 82
        },
        "id": "BrcUcVOZz7t0",
        "outputId": "f0049b40-a3fd-43b6-8eab-dd4f2dbe5989"
      },
      "outputs": [
        {
          "data": {
            "text/markdown": "\nHumana does not cover any treatments related to COVID-19 in the Gold Plus plan.",
            "text/plain": [
              "<IPython.core.display.Markdown object>"
            ]
          },
          "metadata": {},
          "output_type": "display_data"
        },
        {
          "name": "stdout",
          "output_type": "stream",
          "text": [
            "CPU times: user 257 ms, sys: 1.15 s, total: 1.4 s\n",
            "Wall time: 3.08 s\n"
          ]
        }
      ],
      "source": [
        "%%time\n",
        "p='What is the Humana covid-19 treatment in the Gold Plus plan?'\n",
        "resp=svm_engine.query(p)\n",
        "display(Markdown(f\"{resp}\"))"
      ],
      "id": "BrcUcVOZz7t0"
    },
    {
      "cell_type": "code",
      "execution_count": null,
      "metadata": {
        "colab": {
          "base_uri": "https://localhost:8080/",
          "height": 134
        },
        "id": "bRud4CFpz7xT",
        "outputId": "17d4f674-f781-4dac-b48a-4c7dc709904e"
      },
      "outputs": [
        {
          "data": {
            "text/markdown": "\nThe Humana Gold Plus SNP-DE H0028-015 (HMO-POS D-SNP) Annual Notice of Changes for 2023 outlines changes to the plan's name, monthly premium, maximum out-of-pocket amount, provider and pharmacy networks, benefits and costs for medical services, and Part D prescription drug coverage for the year 2023. It also provides information on how to decide which plan to choose and how to change plans. Additionally, it provides contact information for programs that offer free counseling about Medicare and Medicaid, as well as programs that help pay for prescription drugs.",
            "text/plain": [
              "<IPython.core.display.Markdown object>"
            ]
          },
          "metadata": {},
          "output_type": "display_data"
        },
        {
          "name": "stdout",
          "output_type": "stream",
          "text": [
            "CPU times: user 271 ms, sys: 1.15 s, total: 1.42 s\n",
            "Wall time: 14.4 s\n"
          ]
        }
      ],
      "source": [
        "%%time\n",
        "p='Write a summarize the Humana Gold Plus SNP-DE H0028-015 (HMO-POS D-SNP) Annual Notice of Changes for 2023.'\n",
        "resp=query_engine.query(p)\n",
        "display(Markdown(f\"{resp}\"))"
      ],
      "id": "bRud4CFpz7xT"
    },
    {
      "cell_type": "code",
      "execution_count": null,
      "metadata": {
        "colab": {
          "base_uri": "https://localhost:8080/",
          "height": 117
        },
        "id": "yjol_GrAz70t",
        "outputId": "df6c94fc-9137-407f-878e-7a3b6c679943"
      },
      "outputs": [
        {
          "data": {
            "text/markdown": "\n• Plan name is changing \n• Monthly premiums, maximum out-of-pocket amounts, provider and pharmacy networks, and benefits and costs for medical services are changing \n• Options for staying in the plan or changing plans \n• Programs that offer free counseling about Medicare and Medicaid, and programs that help pay for prescription drugs \n• Contact information for helpful resources in the state listed in Exhibit A",
            "text/plain": [
              "<IPython.core.display.Markdown object>"
            ]
          },
          "metadata": {},
          "output_type": "display_data"
        },
        {
          "name": "stdout",
          "output_type": "stream",
          "text": [
            "CPU times: user 282 ms, sys: 1.15 s, total: 1.43 s\n",
            "Wall time: 8.42 s\n"
          ]
        }
      ],
      "source": [
        "%%time\n",
        "p='Write a summarize in bullet point of the Humana Gold Plus SNP-DE H0028-015 (HMO-POS D-SNP) Annual Notice of Changes for 2023.'\n",
        "resp=query_engine.query(p)\n",
        "display(Markdown(f\"{resp}\"))"
      ],
      "id": "yjol_GrAz70t"
    },
    {
      "cell_type": "code",
      "execution_count": null,
      "metadata": {
        "colab": {
          "base_uri": "https://localhost:8080/"
        },
        "id": "H7V6Ckfaz736",
        "outputId": "7918ab79-966d-4935-d927-2c6105cce2ad"
      },
      "outputs": [
        {
          "name": "stdout",
          "output_type": "stream",
          "text": [
            "\n",
            "• Plan name is changing \n",
            "• Monthly premiums, maximum out-of-pocket amounts, provider and pharmacy networks, and benefits and costs for medical services are changing \n",
            "• Options for staying in the plan or changing plans \n",
            "• Programs that offer free counseling about Medicare and Medicaid, and programs that help pay for prescription drugs \n",
            "• Contact information for helpful resources in the state listed in Exhibit A\n"
          ]
        }
      ],
      "source": [
        "print(resp)"
      ],
      "id": "H7V6Ckfaz736"
    },
    {
      "cell_type": "code",
      "execution_count": null,
      "metadata": {
        "colab": {
          "base_uri": "https://localhost:8080/",
          "height": 106
        },
        "id": "9Nukg4iPz77d",
        "outputId": "03ae1994-8583-4c67-a065-dc3ca4fbdc1a"
      },
      "outputs": [
        {
          "data": {
            "text/markdown": "\nFor a 5 year old kid, the in-network vision care plan for 2023 is VIS701. This plan includes a $0 copayment for a routine exam up to 1 per year. Additionally, there is a $400 maximum benefit coverage amount per year for contact lenses or eyeglasses-lenses and frames, fitting for eyeglasses-lenses and frames. Eyeglass lens options may be available with the maximum benefit coverage amount up to 1 pair per year. The maximum benefit coverage amount is limited to one time use per year.",
            "text/plain": [
              "<IPython.core.display.Markdown object>"
            ]
          },
          "metadata": {},
          "output_type": "display_data"
        }
      ],
      "source": [
        "p='Write about the in-network vision care plan for a 5 years old kid.'\n",
        "resp=query_engine.query(p)\n",
        "display(Markdown(f\"{resp}\"))"
      ],
      "id": "9Nukg4iPz77d"
    },
    {
      "cell_type": "code",
      "execution_count": null,
      "metadata": {
        "colab": {
          "base_uri": "https://localhost:8080/",
          "height": 98
        },
        "id": "Y8KEHfAayTZO",
        "outputId": "9e4e446b-df57-4c68-ea4e-7e38df74af78"
      },
      "outputs": [
        {
          "data": {
            "text/markdown": "\nThe Humana Notice of Privacy Practices explains how your personal and health information is used and protected. It also explains how Humana may use and disclose your information for things like providing medical care, payment activities, healthcare operations, and underwriting activities. It also explains your rights concerning your information, such as the right to access, amend, and receive a listing of disclosures. You can also opt out of certain communications, such as appointment reminders and treatment alternatives.",
            "text/plain": [
              "<IPython.core.display.Markdown object>"
            ]
          },
          "metadata": {},
          "output_type": "display_data"
        }
      ],
      "source": [
        "p='Explain to a kid about the Humana Notice of Privacy practices.'\n",
        "resp=query_engine.query(p)\n",
        "display(Markdown(f\"{resp}\"))"
      ],
      "id": "Y8KEHfAayTZO"
    },
    {
      "cell_type": "code",
      "execution_count": null,
      "metadata": {
        "colab": {
          "base_uri": "https://localhost:8080/",
          "height": 46
        },
        "id": "LTjcwKoA1c8v",
        "outputId": "a791252e-972b-47c5-a77e-a2daec53e551"
      },
      "outputs": [
        {
          "data": {
            "text/markdown": "\n$75",
            "text/plain": [
              "<IPython.core.display.Markdown object>"
            ]
          },
          "metadata": {},
          "output_type": "display_data"
        }
      ],
      "source": [
        "p='What is the maximum dollar value allowance for in-network over the counter drug?'\n",
        "resp=query_engine.query(p)\n",
        "display(Markdown(f\"{resp}\"))"
      ],
      "id": "LTjcwKoA1c8v"
    },
    {
      "cell_type": "code",
      "execution_count": null,
      "metadata": {
        "colab": {
          "base_uri": "https://localhost:8080/",
          "height": 186
        },
        "id": "3ME-1cDt1c__",
        "outputId": "932f75c4-bc4e-4b5c-b58b-cfa5f9d2a9a9"
      },
      "outputs": [
        {
          "data": {
            "text/markdown": "\nAre you looking for a health insurance plan that offers comprehensive coverage and great benefits? Look no further than Humana Gold Plus! This plan offers a wide range of coverage options, including preventive care, hospitalization, prescription drugs, and more. Plus, you can customize your plan to fit your needs and budget. \n\nHumana Gold Plus also offers great customer service. You can contact them at any time with questions or concerns, and they will be happy to help. Plus, they have a dedicated team of professionals who are committed to protecting your privacy and ensuring that your personal and health information is kept secure. \n\nIn addition, Humana Gold Plus is committed to following all federal and state laws, rules, and regulations regarding the protection of personal and health information. They also provide individuals with notice of their legal duties and privacy practices. \n\nIf you're looking for a health insurance plan that offers comprehensive coverage and great benefits, Humana Gold Plus is the perfect choice. With their commitment to protecting your privacy and providing excellent customer service, you can rest assured that you're in good hands.",
            "text/plain": [
              "<IPython.core.display.Markdown object>"
            ]
          },
          "metadata": {},
          "output_type": "display_data"
        }
      ],
      "source": [
        "p='Write a short blog post about the Humana Gold Plus plan.'\n",
        "resp=query_engine.query(p)\n",
        "display(Markdown(f\"{resp}\"))"
      ],
      "id": "3ME-1cDt1c__"
    },
    {
      "cell_type": "code",
      "execution_count": null,
      "metadata": {
        "colab": {
          "base_uri": "https://localhost:8080/",
          "height": 114
        },
        "id": "N6_WQBhw2ZLz",
        "outputId": "2be4246c-5543-4116-ea86-0b0632818508"
      },
      "outputs": [
        {
          "data": {
            "text/markdown": "\n1. Get the coverage you need with Humana Gold Plus! #Humana #GoldPlus #HealthInsurance \n2. Get the best care for you and your family with Humana Gold Plus! #Humana #GoldPlus #HealthInsurance \n3. Get the coverage you deserve with Humana Gold Plus! #Humana #GoldPlus #HealthInsurance \n4. Get the peace of mind you need with Humana Gold Plus! #Humana #GoldPlus #HealthInsurance",
            "text/plain": [
              "<IPython.core.display.Markdown object>"
            ]
          },
          "metadata": {},
          "output_type": "display_data"
        }
      ],
      "source": [
        "p='Write four good tweets about the Humana Gold Plus plan.'\n",
        "resp=query_engine.query(p)\n",
        "display(Markdown(f\"{resp}\"))"
      ],
      "id": "N6_WQBhw2ZLz"
    },
    {
      "cell_type": "code",
      "execution_count": null,
      "metadata": {
        "colab": {
          "base_uri": "https://localhost:8080/",
          "height": 81
        },
        "id": "EO4cWgIy2ZPP",
        "outputId": "20b67f7d-bfdd-46ed-869c-b83ca75f51e1"
      },
      "outputs": [
        {
          "data": {
            "text/markdown": "\nHumana Gold Plus Benefits and Costs for Medical Services may change from time to time. The changes may include changes to the types of services covered, the cost of services, or the terms of coverage. Please refer to the Notice of Privacy Practices for more information on how we use and disclose your personal and health information.",
            "text/plain": [
              "<IPython.core.display.Markdown object>"
            ]
          },
          "metadata": {},
          "output_type": "display_data"
        }
      ],
      "source": [
        "p='Please explain to me about the change to Human Gold Plus Benefits and Costs for Medical Services?'\n",
        "resp=query_engine.query(p)\n",
        "display(Markdown(f\"{resp}\"))"
      ],
      "id": "EO4cWgIy2ZPP"
    },
    {
      "cell_type": "code",
      "execution_count": null,
      "metadata": {
        "colab": {
          "base_uri": "https://localhost:8080/",
          "height": 116
        },
        "id": "Y_3gIp2R2ZTA",
        "outputId": "31b83e36-8f57-44f8-8e68-93c33cafbb59"
      },
      "outputs": [
        {
          "data": {
            "text/markdown": "\nHumana offers free counseling about Medicare and Medicaid through the State Health Insurance Assistance Program (SHIP). SHIP counselors are trained professionals who can help you understand your Medicare plan choices and answer questions about switching plans. You can call your State Health Insurance Assistance Program at the number listed in \"Exhibit A\" in the back of the Humana Annual Notice of Changes for 2023 document. For questions about your MO HealthNet (Medicaid) benefits, contact MO HealthNet (Medicaid). Ask how joining another plan or returning to Original Medicare affects how you get your MO HealthNet (Medicaid) coverage. You can call MO HealthNet (Medicaid) at the number listed in \"Exhibit A\" in the back of the document.",
            "text/plain": [
              "<IPython.core.display.Markdown object>"
            ]
          },
          "metadata": {},
          "output_type": "display_data"
        }
      ],
      "source": [
        "p='Please tell me more about the Humana Offer Free Counseling about Medicare and Medicaid'\n",
        "resp=query_engine.query(p)\n",
        "display(Markdown(f\"{resp}\"))"
      ],
      "id": "Y_3gIp2R2ZTA"
    },
    {
      "cell_type": "code",
      "execution_count": null,
      "metadata": {
        "colab": {
          "base_uri": "https://localhost:8080/",
          "height": 113
        },
        "id": "W8f2F6kN3qMd",
        "outputId": "fa7e73d4-5db1-4c6e-f0f9-7bc3e44aad3d"
      },
      "outputs": [
        {
          "data": {
            "text/markdown": "\nIn-Network: The monthly plan premium for Humana Gold Plus SNP-DE H0028-015 (HMO-POS D-SNP) in 2023 is $0 or up to $21.10, and the maximum out-of-pocket amount for covered Part A and Part B services is $8,300.\n\nOut-of-Network: The monthly plan premium for Humana Gold Plus SNP-DE H0028-015 (HMO-POS D-SNP) in 2023 is $0 or up to $36.30, and there is no maximum out-of-pocket amount for covered Part A and Part B services.",
            "text/plain": [
              "<IPython.core.display.Markdown object>"
            ]
          },
          "metadata": {},
          "output_type": "display_data"
        }
      ],
      "source": [
        "p='Compare the Humana monthly premium and maximum out-of-pocket for in-network and out-network.'\n",
        "resp=query_engine.query(p)\n",
        "display(Markdown(f\"{resp}\"))"
      ],
      "id": "W8f2F6kN3qMd"
    },
    {
      "cell_type": "code",
      "execution_count": null,
      "metadata": {
        "colab": {
          "base_uri": "https://localhost:8080/",
          "height": 46
        },
        "id": "n9vQzjdL3qPx",
        "outputId": "25795285-096a-403e-b41f-6810c5e12f64"
      },
      "outputs": [
        {
          "data": {
            "text/markdown": "\nThe California state agency contact information is not provided in the given context information.",
            "text/plain": [
              "<IPython.core.display.Markdown object>"
            ]
          },
          "metadata": {},
          "output_type": "display_data"
        }
      ],
      "source": [
        "p='Tell me about the California state agency contact information.'\n",
        "resp=query_engine.query(p)\n",
        "display(Markdown(f\"{resp}\"))"
      ],
      "id": "n9vQzjdL3qPx"
    },
    {
      "cell_type": "code",
      "execution_count": null,
      "metadata": {
        "colab": {
          "base_uri": "https://localhost:8080/"
        },
        "id": "-043AN1U3qTD",
        "outputId": "aa45d9ea-d6ed-427b-a50f-4aeafa517709"
      },
      "outputs": [
        {
          "name": "stdout",
          "output_type": "stream",
          "text": [
            "\n",
            "•Missouri SHIP Name and Contact Information: CLAIM, 1105 Lakeview Avenue, Columbia, MO 65201, 1-800-390-3330 (toll free), 1-573-817-8300 (local), http://www.missouriclaim.org\n",
            "•Quality Improvement Organization: Livanta BFCC-QIO Program, 10820 Guilford Road, Suite 202, Annapolis Junction, MD 20701, 1-888-755-5580, 1-888-985-9295 (TTY), 1-833-868-4061 (Fax), https://livantaqio.com/\n",
            "•State Medicaid Office: MO HealthNet (Medicaid), 615 Howerton Court, P.O. Box 6500, Jefferson City, MO 65102-6500, 1-855-373-4636 (toll free), 1-573-751-3425 (local), 1-800-735-2966 (TTY), http://www.dss.mo.gov/mhd/\n",
            "•State Pharmacy Assistance Program(s): Missouri RX Plan, PO Box 6500, Jefferson City, MO 65102, 1-800-375-1406 (toll free), www.morx.mo.gov/\n",
            "•AIDS Drug Assistance Program: Missouri AIDS Drug Assistance Program, Bureau of HIV, STD, and Hepatitis, Missouri Department of Health & Senior Services, PO Box 570, Jefferson City, MO 65102, 1-573-751-6439, 1-573-751-6447 (fax), http://health.mo.gov/living/healthcondiseases/communicable/hivaids/casemgmt.php\n"
          ]
        }
      ],
      "source": [
        "p='Tell me about the state agency contact information in bullet point.'\n",
        "resp=query_engine.query(p)\n",
        "print(resp)"
      ],
      "id": "-043AN1U3qTD"
    },
    {
      "cell_type": "code",
      "execution_count": null,
      "metadata": {
        "colab": {
          "base_uri": "https://localhost:8080/",
          "height": 133
        },
        "id": "29CDiAti3qV6",
        "outputId": "bbcd1cd0-0219-4570-be9c-0ff514611b55"
      },
      "outputs": [
        {
          "data": {
            "text/markdown": "\nHumana and Longevity Health Partner are companies that help people stay healthy. They provide services like medical care, health insurance, and other health-related benefits. They also offer programs to help people learn more about their health and how to take care of themselves. They provide maternity leave and disability coverage, as well as tuition assistance and internal and external learning events. They also share information with public health agencies, law enforcement, and military authorities when necessary. They also use information for research purposes in limited circumstances. People have the right to access their information, receive a reason for any adverse underwriting decisions, and receive communications in a different manner or place if needed. They also have the right to request corrections to their information, receive a list of disclosures, and opt out of certain communications.",
            "text/plain": [
              "<IPython.core.display.Markdown object>"
            ]
          },
          "metadata": {},
          "output_type": "display_data"
        }
      ],
      "source": [
        "p='Please write a summary about the Humana and Longevity Health Partner so that a kid can understand.'\n",
        "resp=query_engine.query(p)\n",
        "display(Markdown(f\"{resp}\"))"
      ],
      "id": "29CDiAti3qV6"
    },
    {
      "cell_type": "code",
      "execution_count": null,
      "metadata": {
        "colab": {
          "base_uri": "https://localhost:8080/"
        },
        "id": "cLlQ3AqD2ZWb",
        "outputId": "2bde984e-68b9-4895-ddb5-aefeeb9e4b27"
      },
      "outputs": [
        {
          "name": "stdout",
          "output_type": "stream",
          "text": [
            "\n",
            "Welcome to Humana Gold Plus! We are excited to offer our members a comprehensive health plan that provides access to quality care and coverage. Our plan includes coverage for doctor visits, hospital stays, prescription drugs, and more. \n",
            "\n",
            "Humana Gold Plus is a Medicare Advantage Special Needs Plan (SNP-DE H0028-015) that is offered by CHA HMO, Inc., a Humana company. This plan is designed to meet the needs of those who qualify for both Medicare and Medicaid. \n",
            "\n",
            "Our plan offers a variety of benefits, including: \n",
            "• Access to a wide network of doctors, hospitals, and other providers \n",
            "• Coverage for doctor visits, hospital stays, and prescription drugs \n",
            "• Low premiums and cost sharing \n",
            "• Authorization requirements for certain drugs \n",
            "• Access to additional resources, such as the Medicare Plan Finder \n",
            "\n",
            "We understand that choosing a health plan can be a difficult decision. That’s why we are here to help. Our Customer Care team is available to answer any questions you may have about our plan and to help you make the best decision for your health care needs. \n",
            "\n",
            "We look forward to helping you get the care you need. Thank you for choosing Humana Gold Plus!\n"
          ]
        }
      ],
      "source": [
        "p='Write a newsletter introducing Humana Gold Plus plan'\n",
        "resp=query_engine.query(p)\n",
        "print(resp)"
      ],
      "id": "cLlQ3AqD2ZWb"
    },
    {
      "cell_type": "code",
      "execution_count": null,
      "metadata": {
        "colab": {
          "base_uri": "https://localhost:8080/",
          "height": 443
        },
        "id": "bBR181Of1dDB",
        "outputId": "eac5e109-356b-49d9-bdb2-23eb3e3df1b4"
      },
      "outputs": [
        {
          "ename": "RetryError",
          "evalue": "ignored",
          "output_type": "error",
          "traceback": [
            "\u001b[0;31m---------------------------------------------------------------------------\u001b[0m",
            "\u001b[0;31mAuthenticationError\u001b[0m                       Traceback (most recent call last)",
            "\u001b[0;32m/usr/local/lib/python3.10/dist-packages/tenacity/__init__.py\u001b[0m in \u001b[0;36m__call__\u001b[0;34m(self, fn, *args, **kwargs)\u001b[0m\n\u001b[1;32m    381\u001b[0m                 \u001b[0;32mtry\u001b[0m\u001b[0;34m:\u001b[0m\u001b[0;34m\u001b[0m\u001b[0;34m\u001b[0m\u001b[0m\n\u001b[0;32m--> 382\u001b[0;31m                     \u001b[0mresult\u001b[0m \u001b[0;34m=\u001b[0m \u001b[0mfn\u001b[0m\u001b[0;34m(\u001b[0m\u001b[0;34m*\u001b[0m\u001b[0margs\u001b[0m\u001b[0;34m,\u001b[0m \u001b[0;34m**\u001b[0m\u001b[0mkwargs\u001b[0m\u001b[0;34m)\u001b[0m\u001b[0;34m\u001b[0m\u001b[0;34m\u001b[0m\u001b[0m\n\u001b[0m\u001b[1;32m    383\u001b[0m                 \u001b[0;32mexcept\u001b[0m \u001b[0mBaseException\u001b[0m\u001b[0;34m:\u001b[0m  \u001b[0;31m# noqa: B902\u001b[0m\u001b[0;34m\u001b[0m\u001b[0;34m\u001b[0m\u001b[0m\n",
            "\u001b[0;32m/usr/local/lib/python3.10/dist-packages/llama_index/embeddings/openai.py\u001b[0m in \u001b[0;36mget_embedding\u001b[0;34m(text, engine, **kwargs)\u001b[0m\n\u001b[1;32m    105\u001b[0m     \u001b[0mtext\u001b[0m \u001b[0;34m=\u001b[0m \u001b[0mtext\u001b[0m\u001b[0;34m.\u001b[0m\u001b[0mreplace\u001b[0m\u001b[0;34m(\u001b[0m\u001b[0;34m\"\\n\"\u001b[0m\u001b[0;34m,\u001b[0m \u001b[0;34m\" \"\u001b[0m\u001b[0;34m)\u001b[0m\u001b[0;34m\u001b[0m\u001b[0;34m\u001b[0m\u001b[0m\n\u001b[0;32m--> 106\u001b[0;31m     return openai.Embedding.create(input=[text], model=engine, **kwargs)[\"data\"][0][\n\u001b[0m\u001b[1;32m    107\u001b[0m         \u001b[0;34m\"embedding\"\u001b[0m\u001b[0;34m\u001b[0m\u001b[0;34m\u001b[0m\u001b[0m\n",
            "\u001b[0;32m/usr/local/lib/python3.10/dist-packages/openai/api_resources/embedding.py\u001b[0m in \u001b[0;36mcreate\u001b[0;34m(cls, *args, **kwargs)\u001b[0m\n\u001b[1;32m     32\u001b[0m             \u001b[0;32mtry\u001b[0m\u001b[0;34m:\u001b[0m\u001b[0;34m\u001b[0m\u001b[0;34m\u001b[0m\u001b[0m\n\u001b[0;32m---> 33\u001b[0;31m                 \u001b[0mresponse\u001b[0m \u001b[0;34m=\u001b[0m \u001b[0msuper\u001b[0m\u001b[0;34m(\u001b[0m\u001b[0;34m)\u001b[0m\u001b[0;34m.\u001b[0m\u001b[0mcreate\u001b[0m\u001b[0;34m(\u001b[0m\u001b[0;34m*\u001b[0m\u001b[0margs\u001b[0m\u001b[0;34m,\u001b[0m \u001b[0;34m**\u001b[0m\u001b[0mkwargs\u001b[0m\u001b[0;34m)\u001b[0m\u001b[0;34m\u001b[0m\u001b[0;34m\u001b[0m\u001b[0m\n\u001b[0m\u001b[1;32m     34\u001b[0m \u001b[0;34m\u001b[0m\u001b[0m\n",
            "\u001b[0;32m/usr/local/lib/python3.10/dist-packages/openai/api_resources/abstract/engine_api_resource.py\u001b[0m in \u001b[0;36mcreate\u001b[0;34m(cls, api_key, api_base, api_type, request_id, api_version, organization, **params)\u001b[0m\n\u001b[1;32m    152\u001b[0m \u001b[0;34m\u001b[0m\u001b[0m\n\u001b[0;32m--> 153\u001b[0;31m         response, _, api_key = requestor.request(\n\u001b[0m\u001b[1;32m    154\u001b[0m             \u001b[0;34m\"post\"\u001b[0m\u001b[0;34m,\u001b[0m\u001b[0;34m\u001b[0m\u001b[0;34m\u001b[0m\u001b[0m\n",
            "\u001b[0;32m/usr/local/lib/python3.10/dist-packages/openai/api_requestor.py\u001b[0m in \u001b[0;36mrequest\u001b[0;34m(self, method, url, params, headers, files, stream, request_id, request_timeout)\u001b[0m\n\u001b[1;32m    297\u001b[0m         )\n\u001b[0;32m--> 298\u001b[0;31m         \u001b[0mresp\u001b[0m\u001b[0;34m,\u001b[0m \u001b[0mgot_stream\u001b[0m \u001b[0;34m=\u001b[0m \u001b[0mself\u001b[0m\u001b[0;34m.\u001b[0m\u001b[0m_interpret_response\u001b[0m\u001b[0;34m(\u001b[0m\u001b[0mresult\u001b[0m\u001b[0;34m,\u001b[0m \u001b[0mstream\u001b[0m\u001b[0;34m)\u001b[0m\u001b[0;34m\u001b[0m\u001b[0;34m\u001b[0m\u001b[0m\n\u001b[0m\u001b[1;32m    299\u001b[0m         \u001b[0;32mreturn\u001b[0m \u001b[0mresp\u001b[0m\u001b[0;34m,\u001b[0m \u001b[0mgot_stream\u001b[0m\u001b[0;34m,\u001b[0m \u001b[0mself\u001b[0m\u001b[0;34m.\u001b[0m\u001b[0mapi_key\u001b[0m\u001b[0;34m\u001b[0m\u001b[0;34m\u001b[0m\u001b[0m\n",
            "\u001b[0;32m/usr/local/lib/python3.10/dist-packages/openai/api_requestor.py\u001b[0m in \u001b[0;36m_interpret_response\u001b[0;34m(self, result, stream)\u001b[0m\n\u001b[1;32m    699\u001b[0m             return (\n\u001b[0;32m--> 700\u001b[0;31m                 self._interpret_response_line(\n\u001b[0m\u001b[1;32m    701\u001b[0m                     \u001b[0mresult\u001b[0m\u001b[0;34m.\u001b[0m\u001b[0mcontent\u001b[0m\u001b[0;34m.\u001b[0m\u001b[0mdecode\u001b[0m\u001b[0;34m(\u001b[0m\u001b[0;34m\"utf-8\"\u001b[0m\u001b[0;34m)\u001b[0m\u001b[0;34m,\u001b[0m\u001b[0;34m\u001b[0m\u001b[0;34m\u001b[0m\u001b[0m\n",
            "\u001b[0;32m/usr/local/lib/python3.10/dist-packages/openai/api_requestor.py\u001b[0m in \u001b[0;36m_interpret_response_line\u001b[0;34m(self, rbody, rcode, rheaders, stream)\u001b[0m\n\u001b[1;32m    762\u001b[0m         \u001b[0;32mif\u001b[0m \u001b[0mstream_error\u001b[0m \u001b[0;32mor\u001b[0m \u001b[0;32mnot\u001b[0m \u001b[0;36m200\u001b[0m \u001b[0;34m<=\u001b[0m \u001b[0mrcode\u001b[0m \u001b[0;34m<\u001b[0m \u001b[0;36m300\u001b[0m\u001b[0;34m:\u001b[0m\u001b[0;34m\u001b[0m\u001b[0;34m\u001b[0m\u001b[0m\n\u001b[0;32m--> 763\u001b[0;31m             raise self.handle_error_response(\n\u001b[0m\u001b[1;32m    764\u001b[0m                 \u001b[0mrbody\u001b[0m\u001b[0;34m,\u001b[0m \u001b[0mrcode\u001b[0m\u001b[0;34m,\u001b[0m \u001b[0mresp\u001b[0m\u001b[0;34m.\u001b[0m\u001b[0mdata\u001b[0m\u001b[0;34m,\u001b[0m \u001b[0mrheaders\u001b[0m\u001b[0;34m,\u001b[0m \u001b[0mstream_error\u001b[0m\u001b[0;34m=\u001b[0m\u001b[0mstream_error\u001b[0m\u001b[0;34m\u001b[0m\u001b[0;34m\u001b[0m\u001b[0m\n",
            "\u001b[0;31mAuthenticationError\u001b[0m: <empty message>",
            "\nThe above exception was the direct cause of the following exception:\n",
            "\u001b[0;31mRetryError\u001b[0m                                Traceback (most recent call last)",
            "\u001b[0;32m<ipython-input-91-b91cf37048ba>\u001b[0m in \u001b[0;36m<cell line: 2>\u001b[0;34m()\u001b[0m\n\u001b[1;32m      1\u001b[0m \u001b[0mp\u001b[0m\u001b[0;34m=\u001b[0m\u001b[0;34m'Write a newsletter introducing Humana Gold Plus plan, and target it to senior citizen demographic.'\u001b[0m\u001b[0;34m\u001b[0m\u001b[0;34m\u001b[0m\u001b[0m\n\u001b[0;32m----> 2\u001b[0;31m \u001b[0mresp\u001b[0m\u001b[0;34m=\u001b[0m\u001b[0mquery_engine\u001b[0m\u001b[0;34m.\u001b[0m\u001b[0mquery\u001b[0m\u001b[0;34m(\u001b[0m\u001b[0mp\u001b[0m\u001b[0;34m)\u001b[0m\u001b[0;34m\u001b[0m\u001b[0;34m\u001b[0m\u001b[0m\n\u001b[0m\u001b[1;32m      3\u001b[0m \u001b[0mprint\u001b[0m\u001b[0;34m(\u001b[0m\u001b[0mresp\u001b[0m\u001b[0;34m)\u001b[0m\u001b[0;34m\u001b[0m\u001b[0;34m\u001b[0m\u001b[0m\n",
            "\u001b[0;32m/usr/local/lib/python3.10/dist-packages/llama_index/indices/query/base.py\u001b[0m in \u001b[0;36mquery\u001b[0;34m(self, str_or_query_bundle)\u001b[0m\n\u001b[1;32m     21\u001b[0m             \u001b[0;32mif\u001b[0m \u001b[0misinstance\u001b[0m\u001b[0;34m(\u001b[0m\u001b[0mstr_or_query_bundle\u001b[0m\u001b[0;34m,\u001b[0m \u001b[0mstr\u001b[0m\u001b[0;34m)\u001b[0m\u001b[0;34m:\u001b[0m\u001b[0;34m\u001b[0m\u001b[0;34m\u001b[0m\u001b[0m\n\u001b[1;32m     22\u001b[0m                 \u001b[0mstr_or_query_bundle\u001b[0m \u001b[0;34m=\u001b[0m \u001b[0mQueryBundle\u001b[0m\u001b[0;34m(\u001b[0m\u001b[0mstr_or_query_bundle\u001b[0m\u001b[0;34m)\u001b[0m\u001b[0;34m\u001b[0m\u001b[0;34m\u001b[0m\u001b[0m\n\u001b[0;32m---> 23\u001b[0;31m             \u001b[0mresponse\u001b[0m \u001b[0;34m=\u001b[0m \u001b[0mself\u001b[0m\u001b[0;34m.\u001b[0m\u001b[0m_query\u001b[0m\u001b[0;34m(\u001b[0m\u001b[0mstr_or_query_bundle\u001b[0m\u001b[0;34m)\u001b[0m\u001b[0;34m\u001b[0m\u001b[0;34m\u001b[0m\u001b[0m\n\u001b[0m\u001b[1;32m     24\u001b[0m             \u001b[0;32mreturn\u001b[0m \u001b[0mresponse\u001b[0m\u001b[0;34m\u001b[0m\u001b[0;34m\u001b[0m\u001b[0m\n\u001b[1;32m     25\u001b[0m \u001b[0;34m\u001b[0m\u001b[0m\n",
            "\u001b[0;32m/usr/local/lib/python3.10/dist-packages/llama_index/query_engine/retriever_query_engine.py\u001b[0m in \u001b[0;36m_query\u001b[0;34m(self, query_bundle)\u001b[0m\n\u001b[1;32m    140\u001b[0m \u001b[0;34m\u001b[0m\u001b[0m\n\u001b[1;32m    141\u001b[0m         \u001b[0mretrieve_id\u001b[0m \u001b[0;34m=\u001b[0m \u001b[0mself\u001b[0m\u001b[0;34m.\u001b[0m\u001b[0mcallback_manager\u001b[0m\u001b[0;34m.\u001b[0m\u001b[0mon_event_start\u001b[0m\u001b[0;34m(\u001b[0m\u001b[0mCBEventType\u001b[0m\u001b[0;34m.\u001b[0m\u001b[0mRETRIEVE\u001b[0m\u001b[0;34m)\u001b[0m\u001b[0;34m\u001b[0m\u001b[0;34m\u001b[0m\u001b[0m\n\u001b[0;32m--> 142\u001b[0;31m         \u001b[0mnodes\u001b[0m \u001b[0;34m=\u001b[0m \u001b[0mself\u001b[0m\u001b[0;34m.\u001b[0m\u001b[0m_retriever\u001b[0m\u001b[0;34m.\u001b[0m\u001b[0mretrieve\u001b[0m\u001b[0;34m(\u001b[0m\u001b[0mquery_bundle\u001b[0m\u001b[0;34m)\u001b[0m\u001b[0;34m\u001b[0m\u001b[0;34m\u001b[0m\u001b[0m\n\u001b[0m\u001b[1;32m    143\u001b[0m         self.callback_manager.on_event_end(\n\u001b[1;32m    144\u001b[0m             \u001b[0mCBEventType\u001b[0m\u001b[0;34m.\u001b[0m\u001b[0mRETRIEVE\u001b[0m\u001b[0;34m,\u001b[0m \u001b[0mpayload\u001b[0m\u001b[0;34m=\u001b[0m\u001b[0;34m{\u001b[0m\u001b[0;34m\"nodes\"\u001b[0m\u001b[0;34m:\u001b[0m \u001b[0mnodes\u001b[0m\u001b[0;34m}\u001b[0m\u001b[0;34m,\u001b[0m \u001b[0mevent_id\u001b[0m\u001b[0;34m=\u001b[0m\u001b[0mretrieve_id\u001b[0m\u001b[0;34m\u001b[0m\u001b[0;34m\u001b[0m\u001b[0m\n",
            "\u001b[0;32m/usr/local/lib/python3.10/dist-packages/llama_index/indices/base_retriever.py\u001b[0m in \u001b[0;36mretrieve\u001b[0;34m(self, str_or_query_bundle)\u001b[0m\n\u001b[1;32m     19\u001b[0m         \u001b[0;32mif\u001b[0m \u001b[0misinstance\u001b[0m\u001b[0;34m(\u001b[0m\u001b[0mstr_or_query_bundle\u001b[0m\u001b[0;34m,\u001b[0m \u001b[0mstr\u001b[0m\u001b[0;34m)\u001b[0m\u001b[0;34m:\u001b[0m\u001b[0;34m\u001b[0m\u001b[0;34m\u001b[0m\u001b[0m\n\u001b[1;32m     20\u001b[0m             \u001b[0mstr_or_query_bundle\u001b[0m \u001b[0;34m=\u001b[0m \u001b[0mQueryBundle\u001b[0m\u001b[0;34m(\u001b[0m\u001b[0mstr_or_query_bundle\u001b[0m\u001b[0;34m)\u001b[0m\u001b[0;34m\u001b[0m\u001b[0;34m\u001b[0m\u001b[0m\n\u001b[0;32m---> 21\u001b[0;31m         \u001b[0;32mreturn\u001b[0m \u001b[0mself\u001b[0m\u001b[0;34m.\u001b[0m\u001b[0m_retrieve\u001b[0m\u001b[0;34m(\u001b[0m\u001b[0mstr_or_query_bundle\u001b[0m\u001b[0;34m)\u001b[0m\u001b[0;34m\u001b[0m\u001b[0;34m\u001b[0m\u001b[0m\n\u001b[0m\u001b[1;32m     22\u001b[0m \u001b[0;34m\u001b[0m\u001b[0m\n\u001b[1;32m     23\u001b[0m     \u001b[0;34m@\u001b[0m\u001b[0mabstractmethod\u001b[0m\u001b[0;34m\u001b[0m\u001b[0;34m\u001b[0m\u001b[0m\n",
            "\u001b[0;32m/usr/local/lib/python3.10/dist-packages/llama_index/token_counter/token_counter.py\u001b[0m in \u001b[0;36mwrapped_llm_predict\u001b[0;34m(_self, *args, **kwargs)\u001b[0m\n\u001b[1;32m     76\u001b[0m         \u001b[0;32mdef\u001b[0m \u001b[0mwrapped_llm_predict\u001b[0m\u001b[0;34m(\u001b[0m\u001b[0m_self\u001b[0m\u001b[0;34m:\u001b[0m \u001b[0mAny\u001b[0m\u001b[0;34m,\u001b[0m \u001b[0;34m*\u001b[0m\u001b[0margs\u001b[0m\u001b[0;34m:\u001b[0m \u001b[0mAny\u001b[0m\u001b[0;34m,\u001b[0m \u001b[0;34m**\u001b[0m\u001b[0mkwargs\u001b[0m\u001b[0;34m:\u001b[0m \u001b[0mAny\u001b[0m\u001b[0;34m)\u001b[0m \u001b[0;34m->\u001b[0m \u001b[0mAny\u001b[0m\u001b[0;34m:\u001b[0m\u001b[0;34m\u001b[0m\u001b[0;34m\u001b[0m\u001b[0m\n\u001b[1;32m     77\u001b[0m             \u001b[0;32mwith\u001b[0m \u001b[0mwrapper_logic\u001b[0m\u001b[0;34m(\u001b[0m\u001b[0m_self\u001b[0m\u001b[0;34m)\u001b[0m\u001b[0;34m:\u001b[0m\u001b[0;34m\u001b[0m\u001b[0;34m\u001b[0m\u001b[0m\n\u001b[0;32m---> 78\u001b[0;31m                 \u001b[0mf_return_val\u001b[0m \u001b[0;34m=\u001b[0m \u001b[0mf\u001b[0m\u001b[0;34m(\u001b[0m\u001b[0m_self\u001b[0m\u001b[0;34m,\u001b[0m \u001b[0;34m*\u001b[0m\u001b[0margs\u001b[0m\u001b[0;34m,\u001b[0m \u001b[0;34m**\u001b[0m\u001b[0mkwargs\u001b[0m\u001b[0;34m)\u001b[0m\u001b[0;34m\u001b[0m\u001b[0;34m\u001b[0m\u001b[0m\n\u001b[0m\u001b[1;32m     79\u001b[0m \u001b[0;34m\u001b[0m\u001b[0m\n\u001b[1;32m     80\u001b[0m             \u001b[0;32mreturn\u001b[0m \u001b[0mf_return_val\u001b[0m\u001b[0;34m\u001b[0m\u001b[0;34m\u001b[0m\u001b[0m\n",
            "\u001b[0;32m/usr/local/lib/python3.10/dist-packages/llama_index/indices/vector_store/retrievers/retriever.py\u001b[0m in \u001b[0;36m_retrieve\u001b[0;34m(self, query_bundle)\u001b[0m\n\u001b[1;32m     68\u001b[0m             \u001b[0;32mif\u001b[0m \u001b[0mquery_bundle\u001b[0m\u001b[0;34m.\u001b[0m\u001b[0membedding\u001b[0m \u001b[0;32mis\u001b[0m \u001b[0;32mNone\u001b[0m\u001b[0;34m:\u001b[0m\u001b[0;34m\u001b[0m\u001b[0;34m\u001b[0m\u001b[0m\n\u001b[1;32m     69\u001b[0m                 query_bundle.embedding = (\n\u001b[0;32m---> 70\u001b[0;31m                     self._service_context.embed_model.get_agg_embedding_from_queries(\n\u001b[0m\u001b[1;32m     71\u001b[0m                         \u001b[0mquery_bundle\u001b[0m\u001b[0;34m.\u001b[0m\u001b[0membedding_strs\u001b[0m\u001b[0;34m\u001b[0m\u001b[0;34m\u001b[0m\u001b[0m\n\u001b[1;32m     72\u001b[0m                     )\n",
            "\u001b[0;32m/usr/local/lib/python3.10/dist-packages/llama_index/embeddings/base.py\u001b[0m in \u001b[0;36mget_agg_embedding_from_queries\u001b[0;34m(self, queries, agg_fn)\u001b[0m\n\u001b[1;32m     89\u001b[0m     ) -> List[float]:\n\u001b[1;32m     90\u001b[0m         \u001b[0;34m\"\"\"Get aggregated embedding from multiple queries.\"\"\"\u001b[0m\u001b[0;34m\u001b[0m\u001b[0;34m\u001b[0m\u001b[0m\n\u001b[0;32m---> 91\u001b[0;31m         \u001b[0mquery_embeddings\u001b[0m \u001b[0;34m=\u001b[0m \u001b[0;34m[\u001b[0m\u001b[0mself\u001b[0m\u001b[0;34m.\u001b[0m\u001b[0mget_query_embedding\u001b[0m\u001b[0;34m(\u001b[0m\u001b[0mquery\u001b[0m\u001b[0;34m)\u001b[0m \u001b[0;32mfor\u001b[0m \u001b[0mquery\u001b[0m \u001b[0;32min\u001b[0m \u001b[0mqueries\u001b[0m\u001b[0;34m]\u001b[0m\u001b[0;34m\u001b[0m\u001b[0;34m\u001b[0m\u001b[0m\n\u001b[0m\u001b[1;32m     92\u001b[0m         \u001b[0magg_fn\u001b[0m \u001b[0;34m=\u001b[0m \u001b[0magg_fn\u001b[0m \u001b[0;32mor\u001b[0m \u001b[0mmean_agg\u001b[0m\u001b[0;34m\u001b[0m\u001b[0;34m\u001b[0m\u001b[0m\n\u001b[1;32m     93\u001b[0m         \u001b[0;32mreturn\u001b[0m \u001b[0magg_fn\u001b[0m\u001b[0;34m(\u001b[0m\u001b[0mquery_embeddings\u001b[0m\u001b[0;34m)\u001b[0m\u001b[0;34m\u001b[0m\u001b[0;34m\u001b[0m\u001b[0m\n",
            "\u001b[0;32m/usr/local/lib/python3.10/dist-packages/llama_index/embeddings/base.py\u001b[0m in \u001b[0;36m<listcomp>\u001b[0;34m(.0)\u001b[0m\n\u001b[1;32m     89\u001b[0m     ) -> List[float]:\n\u001b[1;32m     90\u001b[0m         \u001b[0;34m\"\"\"Get aggregated embedding from multiple queries.\"\"\"\u001b[0m\u001b[0;34m\u001b[0m\u001b[0;34m\u001b[0m\u001b[0m\n\u001b[0;32m---> 91\u001b[0;31m         \u001b[0mquery_embeddings\u001b[0m \u001b[0;34m=\u001b[0m \u001b[0;34m[\u001b[0m\u001b[0mself\u001b[0m\u001b[0;34m.\u001b[0m\u001b[0mget_query_embedding\u001b[0m\u001b[0;34m(\u001b[0m\u001b[0mquery\u001b[0m\u001b[0;34m)\u001b[0m \u001b[0;32mfor\u001b[0m \u001b[0mquery\u001b[0m \u001b[0;32min\u001b[0m \u001b[0mqueries\u001b[0m\u001b[0;34m]\u001b[0m\u001b[0;34m\u001b[0m\u001b[0;34m\u001b[0m\u001b[0m\n\u001b[0m\u001b[1;32m     92\u001b[0m         \u001b[0magg_fn\u001b[0m \u001b[0;34m=\u001b[0m \u001b[0magg_fn\u001b[0m \u001b[0;32mor\u001b[0m \u001b[0mmean_agg\u001b[0m\u001b[0;34m\u001b[0m\u001b[0;34m\u001b[0m\u001b[0m\n\u001b[1;32m     93\u001b[0m         \u001b[0;32mreturn\u001b[0m \u001b[0magg_fn\u001b[0m\u001b[0;34m(\u001b[0m\u001b[0mquery_embeddings\u001b[0m\u001b[0;34m)\u001b[0m\u001b[0;34m\u001b[0m\u001b[0;34m\u001b[0m\u001b[0m\n",
            "\u001b[0;32m/usr/local/lib/python3.10/dist-packages/llama_index/embeddings/base.py\u001b[0m in \u001b[0;36mget_query_embedding\u001b[0;34m(self, query)\u001b[0m\n\u001b[1;32m     75\u001b[0m         \u001b[0;34m\"\"\"Get query embedding.\"\"\"\u001b[0m\u001b[0;34m\u001b[0m\u001b[0;34m\u001b[0m\u001b[0m\n\u001b[1;32m     76\u001b[0m         \u001b[0mevent_id\u001b[0m \u001b[0;34m=\u001b[0m \u001b[0mself\u001b[0m\u001b[0;34m.\u001b[0m\u001b[0mcallback_manager\u001b[0m\u001b[0;34m.\u001b[0m\u001b[0mon_event_start\u001b[0m\u001b[0;34m(\u001b[0m\u001b[0mCBEventType\u001b[0m\u001b[0;34m.\u001b[0m\u001b[0mEMBEDDING\u001b[0m\u001b[0;34m)\u001b[0m\u001b[0;34m\u001b[0m\u001b[0;34m\u001b[0m\u001b[0m\n\u001b[0;32m---> 77\u001b[0;31m         \u001b[0mquery_embedding\u001b[0m \u001b[0;34m=\u001b[0m \u001b[0mself\u001b[0m\u001b[0;34m.\u001b[0m\u001b[0m_get_query_embedding\u001b[0m\u001b[0;34m(\u001b[0m\u001b[0mquery\u001b[0m\u001b[0;34m)\u001b[0m\u001b[0;34m\u001b[0m\u001b[0;34m\u001b[0m\u001b[0m\n\u001b[0m\u001b[1;32m     78\u001b[0m         \u001b[0mquery_tokens_count\u001b[0m \u001b[0;34m=\u001b[0m \u001b[0mlen\u001b[0m\u001b[0;34m(\u001b[0m\u001b[0mself\u001b[0m\u001b[0;34m.\u001b[0m\u001b[0m_tokenizer\u001b[0m\u001b[0;34m(\u001b[0m\u001b[0mquery\u001b[0m\u001b[0;34m)\u001b[0m\u001b[0;34m)\u001b[0m\u001b[0;34m\u001b[0m\u001b[0;34m\u001b[0m\u001b[0m\n\u001b[1;32m     79\u001b[0m         \u001b[0mself\u001b[0m\u001b[0;34m.\u001b[0m\u001b[0m_total_tokens_used\u001b[0m \u001b[0;34m+=\u001b[0m \u001b[0mquery_tokens_count\u001b[0m\u001b[0;34m\u001b[0m\u001b[0;34m\u001b[0m\u001b[0m\n",
            "\u001b[0;32m/usr/local/lib/python3.10/dist-packages/llama_index/embeddings/openai.py\u001b[0m in \u001b[0;36m_get_query_embedding\u001b[0;34m(self, query)\u001b[0m\n\u001b[1;32m    233\u001b[0m     \u001b[0;32mdef\u001b[0m \u001b[0m_get_query_embedding\u001b[0m\u001b[0;34m(\u001b[0m\u001b[0mself\u001b[0m\u001b[0;34m,\u001b[0m \u001b[0mquery\u001b[0m\u001b[0;34m:\u001b[0m \u001b[0mstr\u001b[0m\u001b[0;34m)\u001b[0m \u001b[0;34m->\u001b[0m \u001b[0mList\u001b[0m\u001b[0;34m[\u001b[0m\u001b[0mfloat\u001b[0m\u001b[0;34m]\u001b[0m\u001b[0;34m:\u001b[0m\u001b[0;34m\u001b[0m\u001b[0;34m\u001b[0m\u001b[0m\n\u001b[1;32m    234\u001b[0m         \u001b[0;34m\"\"\"Get query embedding.\"\"\"\u001b[0m\u001b[0;34m\u001b[0m\u001b[0;34m\u001b[0m\u001b[0m\n\u001b[0;32m--> 235\u001b[0;31m         return get_embedding(\n\u001b[0m\u001b[1;32m    236\u001b[0m             \u001b[0mquery\u001b[0m\u001b[0;34m,\u001b[0m\u001b[0;34m\u001b[0m\u001b[0;34m\u001b[0m\u001b[0m\n\u001b[1;32m    237\u001b[0m             \u001b[0mengine\u001b[0m\u001b[0;34m=\u001b[0m\u001b[0mself\u001b[0m\u001b[0;34m.\u001b[0m\u001b[0mquery_engine\u001b[0m\u001b[0;34m,\u001b[0m\u001b[0;34m\u001b[0m\u001b[0;34m\u001b[0m\u001b[0m\n",
            "\u001b[0;32m/usr/local/lib/python3.10/dist-packages/tenacity/__init__.py\u001b[0m in \u001b[0;36mwrapped_f\u001b[0;34m(*args, **kw)\u001b[0m\n\u001b[1;32m    287\u001b[0m         \u001b[0;34m@\u001b[0m\u001b[0mfunctools\u001b[0m\u001b[0;34m.\u001b[0m\u001b[0mwraps\u001b[0m\u001b[0;34m(\u001b[0m\u001b[0mf\u001b[0m\u001b[0;34m)\u001b[0m\u001b[0;34m\u001b[0m\u001b[0;34m\u001b[0m\u001b[0m\n\u001b[1;32m    288\u001b[0m         \u001b[0;32mdef\u001b[0m \u001b[0mwrapped_f\u001b[0m\u001b[0;34m(\u001b[0m\u001b[0;34m*\u001b[0m\u001b[0margs\u001b[0m\u001b[0;34m:\u001b[0m \u001b[0mt\u001b[0m\u001b[0;34m.\u001b[0m\u001b[0mAny\u001b[0m\u001b[0;34m,\u001b[0m \u001b[0;34m**\u001b[0m\u001b[0mkw\u001b[0m\u001b[0;34m:\u001b[0m \u001b[0mt\u001b[0m\u001b[0;34m.\u001b[0m\u001b[0mAny\u001b[0m\u001b[0;34m)\u001b[0m \u001b[0;34m->\u001b[0m \u001b[0mt\u001b[0m\u001b[0;34m.\u001b[0m\u001b[0mAny\u001b[0m\u001b[0;34m:\u001b[0m\u001b[0;34m\u001b[0m\u001b[0;34m\u001b[0m\u001b[0m\n\u001b[0;32m--> 289\u001b[0;31m             \u001b[0;32mreturn\u001b[0m \u001b[0mself\u001b[0m\u001b[0;34m(\u001b[0m\u001b[0mf\u001b[0m\u001b[0;34m,\u001b[0m \u001b[0;34m*\u001b[0m\u001b[0margs\u001b[0m\u001b[0;34m,\u001b[0m \u001b[0;34m**\u001b[0m\u001b[0mkw\u001b[0m\u001b[0;34m)\u001b[0m\u001b[0;34m\u001b[0m\u001b[0;34m\u001b[0m\u001b[0m\n\u001b[0m\u001b[1;32m    290\u001b[0m \u001b[0;34m\u001b[0m\u001b[0m\n\u001b[1;32m    291\u001b[0m         \u001b[0;32mdef\u001b[0m \u001b[0mretry_with\u001b[0m\u001b[0;34m(\u001b[0m\u001b[0;34m*\u001b[0m\u001b[0margs\u001b[0m\u001b[0;34m:\u001b[0m \u001b[0mt\u001b[0m\u001b[0;34m.\u001b[0m\u001b[0mAny\u001b[0m\u001b[0;34m,\u001b[0m \u001b[0;34m**\u001b[0m\u001b[0mkwargs\u001b[0m\u001b[0;34m:\u001b[0m \u001b[0mt\u001b[0m\u001b[0;34m.\u001b[0m\u001b[0mAny\u001b[0m\u001b[0;34m)\u001b[0m \u001b[0;34m->\u001b[0m \u001b[0mWrappedFn\u001b[0m\u001b[0;34m:\u001b[0m\u001b[0;34m\u001b[0m\u001b[0;34m\u001b[0m\u001b[0m\n",
            "\u001b[0;32m/usr/local/lib/python3.10/dist-packages/tenacity/__init__.py\u001b[0m in \u001b[0;36m__call__\u001b[0;34m(self, fn, *args, **kwargs)\u001b[0m\n\u001b[1;32m    377\u001b[0m         \u001b[0mretry_state\u001b[0m \u001b[0;34m=\u001b[0m \u001b[0mRetryCallState\u001b[0m\u001b[0;34m(\u001b[0m\u001b[0mretry_object\u001b[0m\u001b[0;34m=\u001b[0m\u001b[0mself\u001b[0m\u001b[0;34m,\u001b[0m \u001b[0mfn\u001b[0m\u001b[0;34m=\u001b[0m\u001b[0mfn\u001b[0m\u001b[0;34m,\u001b[0m \u001b[0margs\u001b[0m\u001b[0;34m=\u001b[0m\u001b[0margs\u001b[0m\u001b[0;34m,\u001b[0m \u001b[0mkwargs\u001b[0m\u001b[0;34m=\u001b[0m\u001b[0mkwargs\u001b[0m\u001b[0;34m)\u001b[0m\u001b[0;34m\u001b[0m\u001b[0;34m\u001b[0m\u001b[0m\n\u001b[1;32m    378\u001b[0m         \u001b[0;32mwhile\u001b[0m \u001b[0;32mTrue\u001b[0m\u001b[0;34m:\u001b[0m\u001b[0;34m\u001b[0m\u001b[0;34m\u001b[0m\u001b[0m\n\u001b[0;32m--> 379\u001b[0;31m             \u001b[0mdo\u001b[0m \u001b[0;34m=\u001b[0m \u001b[0mself\u001b[0m\u001b[0;34m.\u001b[0m\u001b[0miter\u001b[0m\u001b[0;34m(\u001b[0m\u001b[0mretry_state\u001b[0m\u001b[0;34m=\u001b[0m\u001b[0mretry_state\u001b[0m\u001b[0;34m)\u001b[0m\u001b[0;34m\u001b[0m\u001b[0;34m\u001b[0m\u001b[0m\n\u001b[0m\u001b[1;32m    380\u001b[0m             \u001b[0;32mif\u001b[0m \u001b[0misinstance\u001b[0m\u001b[0;34m(\u001b[0m\u001b[0mdo\u001b[0m\u001b[0;34m,\u001b[0m \u001b[0mDoAttempt\u001b[0m\u001b[0;34m)\u001b[0m\u001b[0;34m:\u001b[0m\u001b[0;34m\u001b[0m\u001b[0;34m\u001b[0m\u001b[0m\n\u001b[1;32m    381\u001b[0m                 \u001b[0;32mtry\u001b[0m\u001b[0;34m:\u001b[0m\u001b[0;34m\u001b[0m\u001b[0;34m\u001b[0m\u001b[0m\n",
            "\u001b[0;32m/usr/local/lib/python3.10/dist-packages/tenacity/__init__.py\u001b[0m in \u001b[0;36miter\u001b[0;34m(self, retry_state)\u001b[0m\n\u001b[1;32m    324\u001b[0m             \u001b[0;32mif\u001b[0m \u001b[0mself\u001b[0m\u001b[0;34m.\u001b[0m\u001b[0mreraise\u001b[0m\u001b[0;34m:\u001b[0m\u001b[0;34m\u001b[0m\u001b[0;34m\u001b[0m\u001b[0m\n\u001b[1;32m    325\u001b[0m                 \u001b[0;32mraise\u001b[0m \u001b[0mretry_exc\u001b[0m\u001b[0;34m.\u001b[0m\u001b[0mreraise\u001b[0m\u001b[0;34m(\u001b[0m\u001b[0;34m)\u001b[0m\u001b[0;34m\u001b[0m\u001b[0;34m\u001b[0m\u001b[0m\n\u001b[0;32m--> 326\u001b[0;31m             \u001b[0;32mraise\u001b[0m \u001b[0mretry_exc\u001b[0m \u001b[0;32mfrom\u001b[0m \u001b[0mfut\u001b[0m\u001b[0;34m.\u001b[0m\u001b[0mexception\u001b[0m\u001b[0;34m(\u001b[0m\u001b[0;34m)\u001b[0m\u001b[0;34m\u001b[0m\u001b[0;34m\u001b[0m\u001b[0m\n\u001b[0m\u001b[1;32m    327\u001b[0m \u001b[0;34m\u001b[0m\u001b[0m\n\u001b[1;32m    328\u001b[0m         \u001b[0;32mif\u001b[0m \u001b[0mself\u001b[0m\u001b[0;34m.\u001b[0m\u001b[0mwait\u001b[0m\u001b[0;34m:\u001b[0m\u001b[0;34m\u001b[0m\u001b[0;34m\u001b[0m\u001b[0m\n",
            "\u001b[0;31mRetryError\u001b[0m: RetryError[<Future at 0x7f50f5ce2320 state=finished raised AuthenticationError>]"
          ]
        }
      ],
      "source": [
        "p='Write a newsletter introducing Humana Gold Plus plan, and target it to senior citizen demographic.'\n",
        "resp=query_engine.query(p)\n",
        "print(resp)"
      ],
      "id": "bBR181Of1dDB"
    },
    {
      "cell_type": "markdown",
      "metadata": {
        "id": "c80abba3-d338-42fd-9df3-b4e5ceb01cdf"
      },
      "source": [
        "**Query Index with SVM/Linear Regression**\n",
        "\n",
        "Use Karpathy's [SVM-based](https://twitter.com/karpathy/status/1647025230546886658?s=20) approach. Set query as positive example, all other datapoints as negative examples, and then fit a hyperplane."
      ],
      "id": "c80abba3-d338-42fd-9df3-b4e5ceb01cdf"
    },
    {
      "cell_type": "code",
      "execution_count": null,
      "metadata": {
        "colab": {
          "base_uri": "https://localhost:8080/",
          "height": 759
        },
        "id": "35e029e6-467b-4533-b566-a1568cc5f361",
        "outputId": "2ccbf635-d495-4f53-cad5-5a6b27dc4961"
      },
      "outputs": [
        {
          "name": "stdout",
          "output_type": "stream",
          "text": [
            "Query mode: svm\n",
            "\n"
          ]
        },
        {
          "data": {
            "text/markdown": "\nThe Humana Gold Plus plan is a health plan offered by Humana Health Plan of California, Inc., Humana Health Plan of Ohio, Inc., Humana Health Plan of Texas, Inc., Humana Health Plan, Inc., Humana Health Plans of Puerto Rico, Inc., Humana Insurance Company, Humana Insurance Company of Kentucky, Humana Insurance Company of New York, Humana Insurance of Puerto Rico, Inc., Humana Medical Plan, Inc., Humana Medical Plan of Michigan, Inc., Humana Medical Plan of Pennsylvania, Inc., Humana Medical Plan of Utah, Inc., Humana Regional Health Plan, Inc., Humana Wisconsin Health Organization Insurance Corporation, Go365 by Humana for Healthy Horizons, and Managed Care Indemnity, Inc. The plan includes benefits and costs, a drug list, and a provider directory. Starting October 15, 2022, members can view the 2023 plan documents online at Humana.com/PlanDocuments. Paper copies of the documents can be requested online or by calling 800-457-4708 (TTY: 711).<p>\n",
            "text/plain": [
              "<IPython.core.display.Markdown object>"
            ]
          },
          "metadata": {},
          "output_type": "display_data"
        },
        {
          "name": "stderr",
          "output_type": "stream",
          "text": [
            "WARNING:langchain.llms.openai:Retrying langchain.llms.openai.completion_with_retry.<locals>._completion_with_retry in 4.0 seconds as it raised RateLimitError: That model is currently overloaded with other requests. You can retry your request, or contact us through our help center at help.openai.com if the error persists. (Please include the request ID a35cd428bf59d13a63ef815484b3d899 in your message.).\n"
          ]
        },
        {
          "name": "stdout",
          "output_type": "stream",
          "text": [
            "Retrying langchain.llms.openai.completion_with_retry.<locals>._completion_with_retry in 4.0 seconds as it raised RateLimitError: That model is currently overloaded with other requests. You can retry your request, or contact us through our help center at help.openai.com if the error persists. (Please include the request ID a35cd428bf59d13a63ef815484b3d899 in your message.).\n",
            "Retrying langchain.llms.openai.completion_with_retry.<locals>._completion_with_retry in 4.0 seconds as it raised RateLimitError: That model is currently overloaded with other requests. You can retry your request, or contact us through our help center at help.openai.com if the error persists. (Please include the request ID a35cd428bf59d13a63ef815484b3d899 in your message.).\n"
          ]
        },
        {
          "name": "stderr",
          "output_type": "stream",
          "text": [
            "WARNING:langchain.llms.openai:Retrying langchain.llms.openai.completion_with_retry.<locals>._completion_with_retry in 4.0 seconds as it raised RateLimitError: The server had an error while processing your request. Sorry about that!.\n"
          ]
        },
        {
          "name": "stdout",
          "output_type": "stream",
          "text": [
            "Retrying langchain.llms.openai.completion_with_retry.<locals>._completion_with_retry in 4.0 seconds as it raised RateLimitError: The server had an error while processing your request. Sorry about that!.\n",
            "Retrying langchain.llms.openai.completion_with_retry.<locals>._completion_with_retry in 4.0 seconds as it raised RateLimitError: The server had an error while processing your request. Sorry about that!.\n",
            "Query mode: linear_regression\n",
            "\n"
          ]
        },
        {
          "data": {
            "text/markdown": "\nThe Humana Gold Plus plan is a health plan offered by Humana Health Plan of California, Inc., Humana Health Plan of Ohio, Inc., Humana Health Plan of Texas, Inc., Humana Health Plan, Inc., Humana Health Plans of Puerto Rico, Inc., Humana Insurance Company, Humana Insurance Company of Kentucky, Humana Insurance Company of New York, Humana Insurance of Puerto Rico, Inc., Humana Medical Plan, Inc., Humana Medical Plan of Michigan, Inc., Humana Medical Plan of Pennsylvania, Inc., Humana Medical Plan of Utah, Inc., Humana Regional Health Plan, Inc., Humana Wisconsin Health Organization Insurance Corporation, Go365 by Humana for Healthy Horizons, and Managed Care Indemnity, Inc. The plan includes benefits and costs, a drug list, and a provider directory. Starting October 15, 2022, members can view the 2023 plan documents online at Humana.com/PlanDocuments. Paper copies of the documents can be requested online or by calling 800-457-4708 (TTY: 711).<p>\n",
            "text/plain": [
              "<IPython.core.display.Markdown object>"
            ]
          },
          "metadata": {},
          "output_type": "display_data"
        },
        {
          "name": "stderr",
          "output_type": "stream",
          "text": [
            "WARNING:langchain.llms.openai:Retrying langchain.llms.openai.completion_with_retry.<locals>._completion_with_retry in 4.0 seconds as it raised RateLimitError: The server had an error while processing your request. Sorry about that!.\n"
          ]
        },
        {
          "name": "stdout",
          "output_type": "stream",
          "text": [
            "Retrying langchain.llms.openai.completion_with_retry.<locals>._completion_with_retry in 4.0 seconds as it raised RateLimitError: The server had an error while processing your request. Sorry about that!.\n",
            "Retrying langchain.llms.openai.completion_with_retry.<locals>._completion_with_retry in 4.0 seconds as it raised RateLimitError: The server had an error while processing your request. Sorry about that!.\n"
          ]
        },
        {
          "name": "stderr",
          "output_type": "stream",
          "text": [
            "WARNING:langchain.llms.openai:Retrying langchain.llms.openai.completion_with_retry.<locals>._completion_with_retry in 4.0 seconds as it raised RateLimitError: The server had an error while processing your request. Sorry about that!.\n"
          ]
        },
        {
          "name": "stdout",
          "output_type": "stream",
          "text": [
            "Retrying langchain.llms.openai.completion_with_retry.<locals>._completion_with_retry in 4.0 seconds as it raised RateLimitError: The server had an error while processing your request. Sorry about that!.\n",
            "Retrying langchain.llms.openai.completion_with_retry.<locals>._completion_with_retry in 4.0 seconds as it raised RateLimitError: The server had an error while processing your request. Sorry about that!.\n",
            "Query mode: logistic_regression\n",
            "\n"
          ]
        },
        {
          "data": {
            "text/markdown": "\nThe Humana Gold Plus plan is a health plan offered by Humana Health Plan of California, Inc., Humana Health Plan of Ohio, Inc., Humana Health Plan of Texas, Inc., Humana Health Plan, Inc., Humana Health Plans of Puerto Rico, Inc., Humana Insurance Company, Humana Insurance Company of Kentucky, Humana Insurance Company of New York, Humana Insurance of Puerto Rico, Inc., Humana Medical Plan, Inc., Humana Medical Plan of Michigan, Inc., Humana Medical Plan of Pennsylvania, Inc., Humana Medical Plan of Utah, Inc., Humana Regional Health Plan, Inc., Humana Wisconsin Health Organization Insurance Corporation, Go365 by Humana for Healthy Horizons, and Managed Care Indemnity, Inc. The plan includes an Evidence of Coverage document that outlines the benefits and costs of the plan, a Drug List of covered drugs, and a Provider Directory of providers in the plan's network. Starting October 15, 2022, members can view the 2023 plan documents online at Humana.com/PlanDocuments. Paper copies of the documents can be requested online or by calling 800-457-4708 (TTY: 711).<p>\n",
            "text/plain": [
              "<IPython.core.display.Markdown object>"
            ]
          },
          "metadata": {},
          "output_type": "display_data"
        }
      ],
      "source": [
        "query_modes = [\n",
        "    \"svm\",\n",
        "    \"linear_regression\",\n",
        "    \"logistic_regression\",\n",
        "]\n",
        "for query_mode in query_modes:\n",
        "# set Logging to DEBUG for more detailed outputs\n",
        "    query_engine = index.as_query_engine(\n",
        "        vector_store_query_mode=query_mode\n",
        "    )\n",
        "    response = query_engine.query(\n",
        "        \"Write a summary for the Humana Gold Plus plan.\"\n",
        "    )\n",
        "    print(f\"Query mode: {query_mode}\\n\")\n",
        "    display(Markdown(f\"{response}<p>\\n\"))"
      ],
      "id": "35e029e6-467b-4533-b566-a1568cc5f361"
    },
    {
      "cell_type": "code",
      "execution_count": null,
      "metadata": {
        "id": "0bab9fd7-b0b9-4be1-8f05-eeb19bbe287a"
      },
      "outputs": [],
      "source": [
        "display(Markdown(f\"<b>{response}</b>\"))"
      ],
      "id": "0bab9fd7-b0b9-4be1-8f05-eeb19bbe287a"
    },
    {
      "cell_type": "code",
      "execution_count": null,
      "metadata": {
        "id": "c9f256c8-b5ed-42db-b4de-8bd78a9540b0"
      },
      "outputs": [],
      "source": [
        "print(response.source_nodes[0].source_text)"
      ],
      "id": "c9f256c8-b5ed-42db-b4de-8bd78a9540b0"
    },
    {
      "cell_type": "markdown",
      "metadata": {
        "id": "0da9092e"
      },
      "source": [
        "**Query Index with custom embedding string**"
      ],
      "id": "0da9092e"
    },
    {
      "cell_type": "code",
      "execution_count": null,
      "metadata": {
        "id": "d57f2c87"
      },
      "outputs": [],
      "source": [
        "from llama_index.indices.query.schema import QueryBundle"
      ],
      "id": "d57f2c87"
    },
    {
      "cell_type": "code",
      "execution_count": null,
      "metadata": {
        "id": "bbecbdb5"
      },
      "outputs": [],
      "source": [
        "query_bundle = QueryBundle(\n",
        "    query_str=\"What did the author do growing up?\",\n",
        "    custom_embedding_strs=['The author grew up painting.']\n",
        ")\n",
        "query_engine = index.as_query_engine()\n",
        "response = query_engine.query(query_bundle)"
      ],
      "id": "bbecbdb5"
    },
    {
      "cell_type": "code",
      "execution_count": null,
      "metadata": {
        "id": "d4d1e028"
      },
      "outputs": [],
      "source": [
        "display(Markdown(f\"<b>{response}</b>\"))"
      ],
      "id": "d4d1e028"
    },
    {
      "cell_type": "markdown",
      "metadata": {
        "id": "5636a15c-8938-4809-958b-03b8c445ecbd"
      },
      "source": [
        "#### Get Sources"
      ],
      "id": "5636a15c-8938-4809-958b-03b8c445ecbd"
    },
    {
      "cell_type": "code",
      "execution_count": null,
      "metadata": {
        "colab": {
          "base_uri": "https://localhost:8080/"
        },
        "id": "db22a939-497b-4b1f-9aed-f22d9ca58c92",
        "outputId": "36c6abd3-55ae-44fe-c7f4-91dbb54ce6f6"
      },
      "outputs": [
        {
          "name": "stdout",
          "output_type": "stream",
          "text": [
            "> Source (Doc id: 6c86e940-a895-48d1-b52e-93b0a8009c70): page_label: 31\n",
            "file_name: Humana_ANOC_gold_plus_2023.pdf\n",
            "\n",
            "Humana Health Plan of California, Inc.\n",
            "...\n",
            "\n",
            "> Source (Doc id: bcc3cff2-d3db-40b1-85f8-a87807667b66): page_label: 35\n",
            "file_name: Humana_ANOC_gold_plus_2023.pdf\n",
            "\n",
            "The information you need  \n",
            "is just a cl...\n"
          ]
        }
      ],
      "source": [
        "print(response.get_formatted_sources())"
      ],
      "id": "db22a939-497b-4b1f-9aed-f22d9ca58c92"
    },
    {
      "cell_type": "markdown",
      "metadata": {
        "id": "c0c5d984-db20-4679-adb1-1ea956a64150"
      },
      "source": [
        "#### Query Index with LlamaLogger\n",
        "\n",
        "Log intermediate outputs and view/use them."
      ],
      "id": "c0c5d984-db20-4679-adb1-1ea956a64150"
    },
    {
      "cell_type": "code",
      "execution_count": null,
      "metadata": {
        "id": "59b8379d-f08f-4334-8525-6ddf4d13e33f"
      },
      "outputs": [],
      "source": [
        "from llama_index.logger import LlamaLogger\n",
        "from llama_index import ServiceContext\n",
        "\n",
        "llama_logger = LlamaLogger()\n",
        "service_context = ServiceContext.from_defaults(llama_logger=llama_logger)"
      ],
      "id": "59b8379d-f08f-4334-8525-6ddf4d13e33f"
    },
    {
      "cell_type": "code",
      "execution_count": null,
      "metadata": {
        "colab": {
          "base_uri": "https://localhost:8080/"
        },
        "id": "aa281be0-1c7d-4d9c-a208-0ee5b7ab9953",
        "outputId": "09534196-c759-4662-bc75-467a44a2cea1"
      },
      "outputs": [
        {
          "name": "stdout",
          "output_type": "stream",
          "text": [
            "\n",
            "Welcome to Humana Gold Plus! We are excited to offer our members a comprehensive health plan that provides access to quality care and coverage. Our plan includes coverage for doctor visits, hospital stays, prescription drugs, and more. \n",
            "\n",
            "Humana Gold Plus is a Medicare Advantage Special Needs Plan (SNP-DE H0028-015) that is offered by CHA HMO, Inc., a Humana company. This plan is designed to meet the needs of those who qualify for both Medicare and Medicaid. \n",
            "\n",
            "Our plan offers a variety of benefits, including: \n",
            "• Access to a wide network of doctors, hospitals, and other providers \n",
            "• Coverage for doctor visits, hospital stays, and prescription drugs \n",
            "• Low premiums and cost sharing \n",
            "• Authorization requirements for certain drugs \n",
            "• Access to additional resources, such as the Medicare Plan Finder \n",
            "\n",
            "We understand that choosing a health plan can be a difficult decision. That’s why we are here to help. Our Customer Care team is available to answer any questions you may have about our plan. We also have an Evidence of Coverage document available on our website that provides more information about costs, benefits, and rules. \n",
            "\n",
            "We look forward to helping you get the coverage you need. Thank you for considering Humana Gold Plus!\n"
          ]
        }
      ],
      "source": [
        "query_engine = index.as_query_engine(\n",
        "    service_context=service_context,\n",
        "    similarity_top_k=2,\n",
        "    # response_mode=\"tree_summarize\"\n",
        ")\n",
        "response = query_engine.query(\n",
        "    \"Write a newsletter introducing Humana Gold Plus plan\",\n",
        ")\n",
        "print(response)"
      ],
      "id": "aa281be0-1c7d-4d9c-a208-0ee5b7ab9953"
    },
    {
      "cell_type": "code",
      "execution_count": null,
      "metadata": {
        "colab": {
          "base_uri": "https://localhost:8080/"
        },
        "id": "7d65c9ce-45e2-4655-adb1-0883470f2490",
        "outputId": "cc728875-51f2-4869-8769-7689c1447528"
      },
      "outputs": [
        {
          "data": {
            "text/plain": [
              "[{'formatted_prompt_template': 'Context information is below. \\n---------------------\\npage_label: 3\\nfile_name: Humana_ANOC_gold_plus_2023.pdf\\n\\nOMB Approval 0938-1051 (Expires: February 29, 2024)Humana Gold Plus SNP-DE H0028-015 (HMO-POS D-SNP) offered by CHA HMO, Inc., a Humana company.\\nAnnual Notice of Changes for 2023\\nYou are currently enrolled as a member of Humana Gold Plus SNP-DE H0028-015 (HMO D-SNP). Next year, there  \\nwill be changes to the plan\\'s costs and benefits. Please see page 6 for a Summary of Important Costs, including  \\nPremium.\\nThis document tells about the changes to your plan. To get more information about costs, benefits, or rules please  \\nreview the Evidence of Coverage, which is located on our website at Humana.com/PlanDocuments. You may also  \\ncall Customer Care to ask us to mail you an Evidence of Coverage.\\nWhat to do now \\n1. ASK: Which changes apply to you\\nCheck the changes to our benefits and costs to see if they affect you. \\n•Review the changes to Medical care costs (doctor, hospital).\\n•Review the changes to our drug coverage, including authorization requirements and costs.\\n•Think about how much you will spend on premiums, deductibles, and cost sharing.\\nCheck the changes in the 2023 Drug Guide to make sure the drugs you currently take are still covered.\\nCheck to see if your primary care doctors, specialists, hospitals and other providers, including pharmacies will  \\nbe in our network next year.\\nThink about whether you are happy with our plan.\\n2. COMPARE: Learn about other plan choices\\nCheck coverage and costs of plans in your area. Use the Medicare Plan Finder at \\nwww.medicare.gov/plan-compare website or review the list in the back of your Medicare & You 2023 handbook.\\nOnce you narrow your choice to a preferred plan, confirm your costs and coverage on the plan’s website.\\n3. CHOOSE: Decide whether you want to change your plan\\n•If you don\\'t join another plan by December 7, 2022, you will stay in Humana Gold Plus SNP-DE H0028-015  \\n(HMO-POS D-SNP).\\n•To change to a different plan, you can switch plans between October 15 and December 7. Your new  \\ncoverage will start on January 1, 2023. This will end your enrollment with Humana Gold Plus SNP-DE  \\nH0028-015 (HMO-POS D-SNP).\\n•Look in section 3.2 to learn more about your choices.\\n•If you recently moved into, currently live in, or just moved out of an institution (like a skilled nursing facility or  \\nlong-term care hospital), you can switch plans or switch to Original Medicare (either with or without a  \\nseparate Medicare prescription drug plan) at any time.\\nAdditional Resources\\n•This document is available for free in Spanish.\\n\\npage_label: 26\\nfile_name: Humana_ANOC_gold_plus_2023.pdf\\n\\nHumana Gold Plus SNP-DE H0028-015 (HMO-POS D-SNP) Annual Notice of Changes for 2023 26\\nSection 7.3 - Getting Help from Medicaid\\nTo get information from Medicaid, you can call MO HealthNet (Medicaid) at the numbers listed in \"Exhibit A\" in the \\nback of this document.\\n---------------------\\nGiven the context information and not prior knowledge, answer the question: Write a newsletter introducing Humana Gold Plus plan\\n'},\n",
              " {'initial_response': '\\nWelcome to Humana Gold Plus! We are excited to offer our members a comprehensive health plan that provides access to quality care and coverage. Our plan includes coverage for doctor visits, hospital stays, prescription drugs, and more. \\n\\nHumana Gold Plus is a Medicare Advantage Special Needs Plan (SNP-DE H0028-015) that is offered by CHA HMO, Inc., a Humana company. This plan is designed to meet the needs of those who qualify for both Medicare and Medicaid. \\n\\nOur plan offers a variety of benefits, including: \\n• Access to a wide network of doctors, hospitals, and other providers \\n• Coverage for doctor visits, hospital stays, and prescription drugs \\n• Low premiums and cost sharing \\n• Authorization requirements for certain drugs \\n• Access to additional resources, such as the Medicare Plan Finder \\n\\nWe understand that choosing a health plan can be a difficult decision. That’s why we are here to help. Our Customer Care team is available to answer any questions you may have about our plan. We also have an Evidence of Coverage document available on our website that provides more information about costs, benefits, and rules. \\n\\nWe look forward to helping you get the coverage you need. Thank you for considering Humana Gold Plus!'}]"
            ]
          },
          "execution_count": 63,
          "metadata": {},
          "output_type": "execute_result"
        }
      ],
      "source": [
        "# get logs\n",
        "service_context.llama_logger.get_logs()"
      ],
      "id": "7d65c9ce-45e2-4655-adb1-0883470f2490"
    },
    {
      "cell_type": "markdown",
      "metadata": {
        "id": "3XD_8yq-CRsh"
      },
      "source": [],
      "id": "3XD_8yq-CRsh"
    },
    {
      "cell_type": "markdown",
      "metadata": {
        "id": "SUxCxAw7CRvs"
      },
      "source": [],
      "id": "SUxCxAw7CRvs"
    },
    {
      "cell_type": "markdown",
      "metadata": {
        "id": "FbSS_XQVCRy2"
      },
      "source": [],
      "id": "FbSS_XQVCRy2"
    },
    {
      "cell_type": "markdown",
      "metadata": {
        "id": "rqiP3ho3JbKW"
      },
      "source": [
        "# 🤗 Define HuggingFace Gradio Interface"
      ],
      "id": "rqiP3ho3JbKW"
    },
    {
      "cell_type": "code",
      "execution_count": null,
      "metadata": {
        "id": "5_72pI4jG1V7"
      },
      "outputs": [],
      "source": [
        "# !pip install gradio\n",
        "# import gradio"
      ],
      "id": "5_72pI4jG1V7"
    },
    {
      "cell_type": "code",
      "execution_count": null,
      "metadata": {
        "colab": {
          "base_uri": "https://localhost:8080/"
        },
        "id": "pG2CCHyo1KTN",
        "outputId": "77e24d3d-d360-44fe-81d3-5f53b7e278e3"
      },
      "outputs": [
        {
          "output_type": "stream",
          "name": "stdout",
          "text": [
            "Appending to app.py\n"
          ]
        }
      ],
      "source": [
        "# %%writefile -a app.py\n",
        "\n",
        "in_box = [gradio.Textbox(lines=1, label=\"Your Humana request\", placeholder=\"Your Humana request...see example if you need help.\")\n",
        "  ,gradio.Radio([\"Duc\", \"Girish\", \"Mayo\"], label=\"Login Member\", value='Duc', info=\"Who had login?\")\n",
        "  ,gradio.Radio([\"Humana\", \"Kohli Fighters\", \"Ally Bank\"], label=\"Login Member\", value='Humana', info=\"Fine-Tune LLM for:\")\n",
        "  ]\n",
        "out_box = [gradio.Textbox(label=\"Humana response:\")]\n",
        "#\n",
        "\n",
        "title = \"Humana and YML Fine-tune LLM model\"\n",
        "desc = '*Note: This model is fine-tuned by YML using GPT3.5 as the base LLM.'\n",
        "arti = f'<ul><li>The documents for fine-tuning are:</li>{monty.self._fetch_index_files(monty._llama_index_doc)}'\n",
        "arti += '<li><i>**Note: You can add more documentation. The more documentation the model has the smarter it will be.</i></li></ul>'\n",
        "exp = [\n",
        "  ['Tell me the Humana Gold Plus plan.'],\n",
        "  ['Please write a summary in bullet point of the Humana Gold Plus SNP-DE H0028-015 (HMO-POS D-SNP) Annual Notice of Changes for 2023.'],\n",
        "  ['Compare the Humana monthly premium and maximum out-of-pocket for in-network and out-network.'],\n",
        "  ['What is the maximum dollar value allowance for in-network over the counter drug?'],\n",
        "  ['Write a newsletter introducing Humana Gold Plus plan, and target it to senior citizen demographic.'],\n",
        "  ['Please write a summary about the Humana and Longevity Health Partner so that a teenage can understand.'],\n",
        "  ['Tell me about the state agency contact information in bullet point.'],\n",
        "  ['Please tell me more about the Humana Offer Free Counseling about Medicare and Medicaid'],\n",
        "  ['Write four engaging tweets about the Humana Gold Plus plan.'],\n",
        "  ['Tell me something funny about Humana.'],\n",
        "  ['Is Humana is same as human?']\n",
        " ]\n",
        "flag_opt = [': Good', ': Bad']\n",
        "flag_dir = './user_feed_back'"
      ],
      "id": "pG2CCHyo1KTN"
    },
    {
      "cell_type": "markdown",
      "metadata": {
        "id": "GzCOApzwIC7V"
      },
      "source": [
        "## 🍒 Test it locally"
      ],
      "id": "GzCOApzwIC7V"
    },
    {
      "cell_type": "code",
      "execution_count": null,
      "metadata": {
        "colab": {
          "base_uri": "https://localhost:8080/"
        },
        "id": "-iWoYGTY7th8",
        "outputId": "984c1134-0949-4241-817a-1e9586466986"
      },
      "outputs": [
        {
          "output_type": "stream",
          "name": "stdout",
          "text": [
            "Appending to app.py\n"
          ]
        }
      ],
      "source": [
        "# %%writefile -a app.py\n",
        "\n",
        "gradio.Interface(fn=monty.ask_me,\n",
        "  inputs=in_box,\n",
        "  outputs=out_box,\n",
        "  examples=exp,\n",
        "  title=title,\n",
        "  description=desc,\n",
        "  article=arti,\n",
        "  flagging_options=flag_options).launch(debug=True)"
      ],
      "id": "-iWoYGTY7th8"
    },
    {
      "cell_type": "markdown",
      "metadata": {
        "id": "DvXJqP41ATns"
      },
      "source": [
        "# 🤗 Deploy to Hugging face\n",
        "\n",
        "- Read the tutorial above if you are confused.\n",
        "\n",
        "- It is easy. \"app.py\" and \"requirements.txt\" are the two files that you need to upload.\n",
        "  - Link to create the app.py file on huggingface web: https://huggingface.co/spaces/duchaba/yml_loki/new/main?filename=app.py\n",
        "\n",
        "- Optional are depending on your more fancy layout/output"
      ],
      "id": "DvXJqP41ATns"
    },
    {
      "cell_type": "markdown",
      "metadata": {
        "id": "anKLQ3g8vlZm"
      },
      "source": [
        "## Write/create required files"
      ],
      "id": "anKLQ3g8vlZm"
    },
    {
      "cell_type": "code",
      "execution_count": null,
      "metadata": {
        "id": "fE3_ezCcKNjR"
      },
      "outputs": [],
      "source": [
        "# define the huggingface name\n",
        "monty.hface_space = 'GirishKiran/yml'"
      ],
      "id": "fE3_ezCcKNjR"
    },
    {
      "cell_type": "code",
      "execution_count": null,
      "metadata": {
        "id": "xn_RtPBoJnIG"
      },
      "outputs": [],
      "source": [
        "# openai: 0.27.7,              Actual: 0.27.7\n",
        "# huggingface_hub: 0.14.1,     Actual: 0.15.1\n",
        "# gradio: 3.32.0,              Actual: 3.32.0\n",
        "# cryptography: 40.0.2,        Actual: 40.0.2\n",
        "#\n",
        "# # required libs\n",
        "# !pip install openai\n",
        "# !pip install llama_index\n",
        "# !pip install pdf2image\n",
        "# !pip install cryptography\n",
        "# !pip install torch\n",
        "# !pip install psutil\n",
        "# !pip install pypdf\n",
        "# # and other deploy lib\n",
        "# !pip install gradio\n",
        "# !pip install huggingface_hub"
      ],
      "id": "xn_RtPBoJnIG"
    },
    {
      "cell_type": "code",
      "execution_count": null,
      "metadata": {
        "id": "N6r8821ktW9Y"
      },
      "outputs": [],
      "source": [
        "# create the requirements.txt file\n",
        "txt = [\"openai>=0.27.7\", \"llama_index\",\n",
        "  \"pdf2image\", \"cryptography\", \"torch\", \"psutil\", \"pypdf\",\n",
        "  \"gradio>=3.23.0\"]\n",
        "monty.write_file(\"requirements.txt\", txt)"
      ],
      "id": "N6r8821ktW9Y"
    },
    {
      "cell_type": "code",
      "execution_count": null,
      "metadata": {
        "colab": {
          "base_uri": "https://localhost:8080/"
        },
        "id": "pSm8cahGvFxI",
        "outputId": "72f16af6-fb1f-4064-80d7-3c5f4b6a1e2b"
      },
      "outputs": [
        {
          "output_type": "stream",
          "name": "stdout",
          "text": [
            "openai>=0.27.7\n",
            "llama_index\n",
            "pdf2image\n",
            "cryptography\n",
            "torch\n",
            "psutil\n",
            "pypdf\n",
            "gradio>=3.23.0"
          ]
        }
      ],
      "source": [
        "# optional double check it\n",
        "!cat requirements.txt"
      ],
      "id": "pSm8cahGvFxI"
    },
    {
      "cell_type": "code",
      "execution_count": null,
      "metadata": {
        "id": "HDS8KtUEtXAo"
      },
      "outputs": [],
      "source": [
        "# uncomment the %%write code cell about to create app.py\n",
        "# then double check it\n",
        "!cat app.py"
      ],
      "id": "HDS8KtUEtXAo"
    },
    {
      "cell_type": "markdown",
      "metadata": {
        "id": "TsF4xLdREBx8"
      },
      "source": [
        "## Create the HuggingFace page (Optional)\n",
        "\n",
        "- Choose a unique file-space, like yml_loki\n",
        "\n",
        "- First option, do it on huggingface.com website (recomented)\n",
        "\n",
        "- Second option, do it programatically (optional, uncomment below)"
      ],
      "id": "TsF4xLdREBx8"
    },
    {
      "cell_type": "code",
      "execution_count": null,
      "metadata": {
        "id": "dulzFow1AT68"
      },
      "outputs": [],
      "source": [
        "# # second option\n",
        "# api = huggingface_hub.HfApi()\n",
        "# api.create_repo(repo_id=pluto.hface_name, private=False)"
      ],
      "id": "dulzFow1AT68"
    },
    {
      "cell_type": "markdown",
      "metadata": {
        "id": "BPQFNwRXv80u"
      },
      "source": [
        "## Push to files to Hugging face"
      ],
      "id": "BPQFNwRXv80u"
    },
    {
      "cell_type": "code",
      "execution_count": null,
      "metadata": {
        "colab": {
          "base_uri": "https://localhost:8080/",
          "height": 113,
          "referenced_widgets": [
            "a2cb759a15434d4b95676dffe50630c6",
            "6cc3aad93229407e9b1d5ad01461393c",
            "bde3a912ba6e4474bfccd42ce0ddda3e",
            "c4a308b0ad3347e8a998ae9335f8ee95",
            "1b143acae10845f2804d1d4937f161c6",
            "852c95db5adc4f1c9f44d1415c8da0fc",
            "8691237bace547018674d7278f31916c",
            "d7dc68eb1afb4281a38959423356bd88",
            "df4fa9baa30b4ac3b88df56805802973",
            "a585a9968f3247868af523180b2d6ed7",
            "a008446de83a4f5cb0d04ca63be53991",
            "bfc3b9d68c8e42e3b88bf6593c3238e6",
            "d7004c23819c4824862976edb1c103f8",
            "48662b95e79742ebba276a1ffcfe1aa9",
            "55e398dacb7745d19b7bcd88d5028180",
            "c141ca86425245f99d5577301c60eb4f",
            "df3992c799dd40e3a0271cadb76a02a8",
            "1c2c4c74fcc84789a64323d6bffb73e0",
            "779ba9b5398440be8842658057d0c9b5",
            "ace8b5a96ac64793b97b03cdae55ec51",
            "442b611faf474e9199c87319cdb7d211",
            "b3662dbcccc24c9b87a79614c7d9a826",
            "6f66d1d0445e412da1ba3ef7930c60d6",
            "32ba80e043f8451c96f37e7648eb0fd7",
            "f85e94c7fe3b4b7eb2d4545044fa8ee3",
            "b80c035805f945b18fe70002a01b4bb6",
            "3f721df8a59248a192a282b6a42cd0ad",
            "0bc5ea46572b4da08927d5153465f9aa",
            "eef9f4035bf1463b9287a3c000c5cabb",
            "4037f5d5be094947ad050296ba105669",
            "b32b94ad8b3c46d4b21d5a0714835d5e",
            "3e50f013da1b4eb595b2bd28dc43d639",
            "5a21072e7adc43bb9e51cb5d96232b41"
          ]
        },
        "id": "o9oI15Lqqa3Y",
        "outputId": "1f750003-c3d8-41cf-b402-5edf50d81eb0"
      },
      "outputs": [
        {
          "output_type": "display_data",
          "data": {
            "text/plain": [
              "vector_store.json:   0%|          | 0.00/309M [00:00<?, ?B/s]"
            ],
            "application/vnd.jupyter.widget-view+json": {
              "version_major": 2,
              "version_minor": 0,
              "model_id": "a2cb759a15434d4b95676dffe50630c6"
            }
          },
          "metadata": {}
        },
        {
          "output_type": "display_data",
          "data": {
            "text/plain": [
              "docstore.json:   0%|          | 0.00/24.8M [00:00<?, ?B/s]"
            ],
            "application/vnd.jupyter.widget-view+json": {
              "version_major": 2,
              "version_minor": 0,
              "model_id": "bfc3b9d68c8e42e3b88bf6593c3238e6"
            }
          },
          "metadata": {}
        },
        {
          "output_type": "display_data",
          "data": {
            "text/plain": [
              "Upload 2 LFS files:   0%|          | 0/2 [00:00<?, ?it/s]"
            ],
            "application/vnd.jupyter.widget-view+json": {
              "version_major": 2,
              "version_minor": 0,
              "model_id": "6f66d1d0445e412da1ba3ef7930c60d6"
            }
          },
          "metadata": {}
        }
      ],
      "source": [
        "up_folder = './index_storage'\n",
        "dest_folder = 'index_storage'\n",
        "monty.push_hface_folder(up_folder, monty.hface_space, dest_folder)"
      ],
      "id": "o9oI15Lqqa3Y"
    },
    {
      "cell_type": "code",
      "execution_count": null,
      "metadata": {
        "id": "yWkJsiH9AT-N"
      },
      "outputs": [],
      "source": [
        "up_files = [\"app.py\", \"requirements.txt\"]\n",
        "monty.push_hface_files(up_files, hf_space=monty.hface_space)"
      ],
      "id": "yWkJsiH9AT-N"
    },
    {
      "cell_type": "markdown",
      "metadata": {
        "id": "5i2I-Y8XQ88C"
      },
      "source": [
        "# QA it"
      ],
      "id": "5i2I-Y8XQ88C"
    },
    {
      "cell_type": "code",
      "execution_count": null,
      "metadata": {
        "colab": {
          "base_uri": "https://localhost:8080/"
        },
        "id": "tXzSFXj-0reI",
        "outputId": "0044acfb-5db4-46a6-f27c-1c63bd871ae7"
      },
      "outputs": [
        {
          "name": "stdout",
          "output_type": "stream",
          "text": [
            "https://huggingface.co/spaces/duchaba/yml_hackathon_moderation_molly\n"
          ]
        }
      ],
      "source": [
        "# test it\n",
        "print(f'https://huggingface.co/spaces/{monty.hface_space}')"
      ],
      "id": "tXzSFXj-0reI"
    },
    {
      "cell_type": "code",
      "execution_count": null,
      "metadata": {
        "id": "AoWPl9AJRCYL"
      },
      "outputs": [],
      "source": [
        "# !pip install gradio_client"
      ],
      "id": "AoWPl9AJRCYL"
    },
    {
      "cell_type": "code",
      "execution_count": null,
      "metadata": {
        "colab": {
          "base_uri": "https://localhost:8080/"
        },
        "id": "c1c5ab85-25e4-4460-8b6a-3c119d92ba48",
        "outputId": "91387c9d-e1b7-4e31-fede-407b71a5f2f2"
      },
      "outputs": [
        {
          "name": "stdout",
          "output_type": "stream",
          "text": [
            "Loaded as API: https://duchaba-yml-humana.hf.space/ ✔\n",
            "\n",
            "To compare the cost of Humana Gold Plus plan with other insurance plans, you can use the Medicare Plan Finder at www.medicare.gov/plan-compare website or review the list in the back of your Medicare & You 2023 handbook. Once you narrow your choice to a preferred plan, you can confirm your costs and coverage on the plan’s website.\n"
          ]
        }
      ],
      "source": [
        "from gradio_client import Client\n",
        "\n",
        "client = Client(\"https://duchaba-yml-humana.hf.space/\")\n",
        "result = client.predict(\n",
        "  \"Compare the cost of Humana Gold Plus plan with other insurance plan.\",\t# str  in 'Your Humana request' Textbox component\n",
        "  api_name=\"/predict\"\n",
        ")\n",
        "print(result)"
      ],
      "id": "c1c5ab85-25e4-4460-8b6a-3c119d92ba48"
    },
    {
      "cell_type": "markdown",
      "metadata": {
        "id": "1SYjKjQvgvZU"
      },
      "source": [
        "## Using POST"
      ],
      "id": "1SYjKjQvgvZU"
    },
    {
      "cell_type": "code",
      "execution_count": null,
      "metadata": {
        "colab": {
          "base_uri": "https://localhost:8080/"
        },
        "id": "NWjVrz9Rgvnl",
        "outputId": "15d6893f-eac1-46f6-f6e3-758b4a8b5cdb"
      },
      "outputs": [
        {
          "name": "stdout",
          "output_type": "stream",
          "text": [
            "['\\nTo compare the cost of Humana Gold Plus plan with other insurance plans, you can use the Medicare Plan Finder at www.medicare.gov/plan-compare website or review the list in the back of your Medicare & You 2023 handbook. Once you narrow your choice to a preferred plan, you can confirm your costs and coverage on the plan’s website.']\n"
          ]
        }
      ],
      "source": [
        "import requests\n",
        "\n",
        "end_point = 'https://duchaba-yml-humana.hf.space/run/predict'\n",
        "response = requests.post(end_point, json={\n",
        "  \"data\": [\n",
        "    \"Compare the cost of Humana Gold Plus plan with other insurance plan.\",\n",
        "]}).json()\n",
        "\n",
        "data = response[\"data\"]\n",
        "print(data)"
      ],
      "id": "NWjVrz9Rgvnl"
    },
    {
      "cell_type": "code",
      "execution_count": null,
      "metadata": {
        "id": "qVPYY-A4hbQF"
      },
      "outputs": [],
      "source": [
        "# # javascript\n",
        "\n",
        "# end_point = 'https://duchaba-yml-humana.hf.space/run/predict';\n",
        "# p = 'Compare the cost of Humana Gold Plus plan with other insurance plan.';\n",
        "# fetch(end_point, {\n",
        "#   method: \"POST\",\n",
        "#   headers: { \"Content-Type\": \"application/json\" },\n",
        "#   body: JSON.stringify({\n",
        "#     data: [\n",
        "#       p,\n",
        "# \t]\n",
        "#   })})\n",
        "# .then(r => r.json())\n",
        "# .then(\n",
        "#   r => {\n",
        "#     let data = r.data;\n",
        "#   }\n",
        "# )"
      ],
      "id": "qVPYY-A4hbQF"
    },
    {
      "cell_type": "code",
      "execution_count": null,
      "metadata": {
        "id": "fT86y8Nkhucf"
      },
      "outputs": [],
      "source": [],
      "id": "fT86y8Nkhucf"
    },
    {
      "cell_type": "markdown",
      "metadata": {
        "id": "iyT3rEQjhvOi"
      },
      "source": [
        "# 🕺 It's done. Let's dance."
      ],
      "id": "iyT3rEQjhvOi"
    }
  ],
  "metadata": {
    "accelerator": "GPU",
    "colab": {
      "collapsed_sections": [
        "b1OahQ_YF9DS",
        "OaAd4XCMogvt"
      ],
      "machine_shape": "hm",
      "provenance": [],
      "include_colab_link": true
    },
    "kernelspec": {
      "display_name": "Python 3",
      "name": "python3"
    },
    "language_info": {
      "codemirror_mode": {
        "name": "ipython",
        "version": 3
      },
      "file_extension": ".py",
      "mimetype": "text/x-python",
      "name": "python",
      "nbconvert_exporter": "python",
      "pygments_lexer": "ipython3",
      "version": "3.10.6"
    },
    "widgets": {
      "application/vnd.jupyter.widget-state+json": {
        "a2cb759a15434d4b95676dffe50630c6": {
          "model_module": "@jupyter-widgets/controls",
          "model_name": "HBoxModel",
          "model_module_version": "1.5.0",
          "state": {
            "_dom_classes": [],
            "_model_module": "@jupyter-widgets/controls",
            "_model_module_version": "1.5.0",
            "_model_name": "HBoxModel",
            "_view_count": null,
            "_view_module": "@jupyter-widgets/controls",
            "_view_module_version": "1.5.0",
            "_view_name": "HBoxView",
            "box_style": "",
            "children": [
              "IPY_MODEL_6cc3aad93229407e9b1d5ad01461393c",
              "IPY_MODEL_bde3a912ba6e4474bfccd42ce0ddda3e",
              "IPY_MODEL_c4a308b0ad3347e8a998ae9335f8ee95"
            ],
            "layout": "IPY_MODEL_1b143acae10845f2804d1d4937f161c6"
          }
        },
        "6cc3aad93229407e9b1d5ad01461393c": {
          "model_module": "@jupyter-widgets/controls",
          "model_name": "HTMLModel",
          "model_module_version": "1.5.0",
          "state": {
            "_dom_classes": [],
            "_model_module": "@jupyter-widgets/controls",
            "_model_module_version": "1.5.0",
            "_model_name": "HTMLModel",
            "_view_count": null,
            "_view_module": "@jupyter-widgets/controls",
            "_view_module_version": "1.5.0",
            "_view_name": "HTMLView",
            "description": "",
            "description_tooltip": null,
            "layout": "IPY_MODEL_852c95db5adc4f1c9f44d1415c8da0fc",
            "placeholder": "​",
            "style": "IPY_MODEL_8691237bace547018674d7278f31916c",
            "value": "vector_store.json: 100%"
          }
        },
        "bde3a912ba6e4474bfccd42ce0ddda3e": {
          "model_module": "@jupyter-widgets/controls",
          "model_name": "FloatProgressModel",
          "model_module_version": "1.5.0",
          "state": {
            "_dom_classes": [],
            "_model_module": "@jupyter-widgets/controls",
            "_model_module_version": "1.5.0",
            "_model_name": "FloatProgressModel",
            "_view_count": null,
            "_view_module": "@jupyter-widgets/controls",
            "_view_module_version": "1.5.0",
            "_view_name": "ProgressView",
            "bar_style": "success",
            "description": "",
            "description_tooltip": null,
            "layout": "IPY_MODEL_d7dc68eb1afb4281a38959423356bd88",
            "max": 308712624,
            "min": 0,
            "orientation": "horizontal",
            "style": "IPY_MODEL_df4fa9baa30b4ac3b88df56805802973",
            "value": 308712624
          }
        },
        "c4a308b0ad3347e8a998ae9335f8ee95": {
          "model_module": "@jupyter-widgets/controls",
          "model_name": "HTMLModel",
          "model_module_version": "1.5.0",
          "state": {
            "_dom_classes": [],
            "_model_module": "@jupyter-widgets/controls",
            "_model_module_version": "1.5.0",
            "_model_name": "HTMLModel",
            "_view_count": null,
            "_view_module": "@jupyter-widgets/controls",
            "_view_module_version": "1.5.0",
            "_view_name": "HTMLView",
            "description": "",
            "description_tooltip": null,
            "layout": "IPY_MODEL_a585a9968f3247868af523180b2d6ed7",
            "placeholder": "​",
            "style": "IPY_MODEL_a008446de83a4f5cb0d04ca63be53991",
            "value": " 309M/309M [00:06&lt;00:00, 59.8MB/s]"
          }
        },
        "1b143acae10845f2804d1d4937f161c6": {
          "model_module": "@jupyter-widgets/base",
          "model_name": "LayoutModel",
          "model_module_version": "1.2.0",
          "state": {
            "_model_module": "@jupyter-widgets/base",
            "_model_module_version": "1.2.0",
            "_model_name": "LayoutModel",
            "_view_count": null,
            "_view_module": "@jupyter-widgets/base",
            "_view_module_version": "1.2.0",
            "_view_name": "LayoutView",
            "align_content": null,
            "align_items": null,
            "align_self": null,
            "border": null,
            "bottom": null,
            "display": null,
            "flex": null,
            "flex_flow": null,
            "grid_area": null,
            "grid_auto_columns": null,
            "grid_auto_flow": null,
            "grid_auto_rows": null,
            "grid_column": null,
            "grid_gap": null,
            "grid_row": null,
            "grid_template_areas": null,
            "grid_template_columns": null,
            "grid_template_rows": null,
            "height": null,
            "justify_content": null,
            "justify_items": null,
            "left": null,
            "margin": null,
            "max_height": null,
            "max_width": null,
            "min_height": null,
            "min_width": null,
            "object_fit": null,
            "object_position": null,
            "order": null,
            "overflow": null,
            "overflow_x": null,
            "overflow_y": null,
            "padding": null,
            "right": null,
            "top": null,
            "visibility": null,
            "width": null
          }
        },
        "852c95db5adc4f1c9f44d1415c8da0fc": {
          "model_module": "@jupyter-widgets/base",
          "model_name": "LayoutModel",
          "model_module_version": "1.2.0",
          "state": {
            "_model_module": "@jupyter-widgets/base",
            "_model_module_version": "1.2.0",
            "_model_name": "LayoutModel",
            "_view_count": null,
            "_view_module": "@jupyter-widgets/base",
            "_view_module_version": "1.2.0",
            "_view_name": "LayoutView",
            "align_content": null,
            "align_items": null,
            "align_self": null,
            "border": null,
            "bottom": null,
            "display": null,
            "flex": null,
            "flex_flow": null,
            "grid_area": null,
            "grid_auto_columns": null,
            "grid_auto_flow": null,
            "grid_auto_rows": null,
            "grid_column": null,
            "grid_gap": null,
            "grid_row": null,
            "grid_template_areas": null,
            "grid_template_columns": null,
            "grid_template_rows": null,
            "height": null,
            "justify_content": null,
            "justify_items": null,
            "left": null,
            "margin": null,
            "max_height": null,
            "max_width": null,
            "min_height": null,
            "min_width": null,
            "object_fit": null,
            "object_position": null,
            "order": null,
            "overflow": null,
            "overflow_x": null,
            "overflow_y": null,
            "padding": null,
            "right": null,
            "top": null,
            "visibility": null,
            "width": null
          }
        },
        "8691237bace547018674d7278f31916c": {
          "model_module": "@jupyter-widgets/controls",
          "model_name": "DescriptionStyleModel",
          "model_module_version": "1.5.0",
          "state": {
            "_model_module": "@jupyter-widgets/controls",
            "_model_module_version": "1.5.0",
            "_model_name": "DescriptionStyleModel",
            "_view_count": null,
            "_view_module": "@jupyter-widgets/base",
            "_view_module_version": "1.2.0",
            "_view_name": "StyleView",
            "description_width": ""
          }
        },
        "d7dc68eb1afb4281a38959423356bd88": {
          "model_module": "@jupyter-widgets/base",
          "model_name": "LayoutModel",
          "model_module_version": "1.2.0",
          "state": {
            "_model_module": "@jupyter-widgets/base",
            "_model_module_version": "1.2.0",
            "_model_name": "LayoutModel",
            "_view_count": null,
            "_view_module": "@jupyter-widgets/base",
            "_view_module_version": "1.2.0",
            "_view_name": "LayoutView",
            "align_content": null,
            "align_items": null,
            "align_self": null,
            "border": null,
            "bottom": null,
            "display": null,
            "flex": null,
            "flex_flow": null,
            "grid_area": null,
            "grid_auto_columns": null,
            "grid_auto_flow": null,
            "grid_auto_rows": null,
            "grid_column": null,
            "grid_gap": null,
            "grid_row": null,
            "grid_template_areas": null,
            "grid_template_columns": null,
            "grid_template_rows": null,
            "height": null,
            "justify_content": null,
            "justify_items": null,
            "left": null,
            "margin": null,
            "max_height": null,
            "max_width": null,
            "min_height": null,
            "min_width": null,
            "object_fit": null,
            "object_position": null,
            "order": null,
            "overflow": null,
            "overflow_x": null,
            "overflow_y": null,
            "padding": null,
            "right": null,
            "top": null,
            "visibility": null,
            "width": null
          }
        },
        "df4fa9baa30b4ac3b88df56805802973": {
          "model_module": "@jupyter-widgets/controls",
          "model_name": "ProgressStyleModel",
          "model_module_version": "1.5.0",
          "state": {
            "_model_module": "@jupyter-widgets/controls",
            "_model_module_version": "1.5.0",
            "_model_name": "ProgressStyleModel",
            "_view_count": null,
            "_view_module": "@jupyter-widgets/base",
            "_view_module_version": "1.2.0",
            "_view_name": "StyleView",
            "bar_color": null,
            "description_width": ""
          }
        },
        "a585a9968f3247868af523180b2d6ed7": {
          "model_module": "@jupyter-widgets/base",
          "model_name": "LayoutModel",
          "model_module_version": "1.2.0",
          "state": {
            "_model_module": "@jupyter-widgets/base",
            "_model_module_version": "1.2.0",
            "_model_name": "LayoutModel",
            "_view_count": null,
            "_view_module": "@jupyter-widgets/base",
            "_view_module_version": "1.2.0",
            "_view_name": "LayoutView",
            "align_content": null,
            "align_items": null,
            "align_self": null,
            "border": null,
            "bottom": null,
            "display": null,
            "flex": null,
            "flex_flow": null,
            "grid_area": null,
            "grid_auto_columns": null,
            "grid_auto_flow": null,
            "grid_auto_rows": null,
            "grid_column": null,
            "grid_gap": null,
            "grid_row": null,
            "grid_template_areas": null,
            "grid_template_columns": null,
            "grid_template_rows": null,
            "height": null,
            "justify_content": null,
            "justify_items": null,
            "left": null,
            "margin": null,
            "max_height": null,
            "max_width": null,
            "min_height": null,
            "min_width": null,
            "object_fit": null,
            "object_position": null,
            "order": null,
            "overflow": null,
            "overflow_x": null,
            "overflow_y": null,
            "padding": null,
            "right": null,
            "top": null,
            "visibility": null,
            "width": null
          }
        },
        "a008446de83a4f5cb0d04ca63be53991": {
          "model_module": "@jupyter-widgets/controls",
          "model_name": "DescriptionStyleModel",
          "model_module_version": "1.5.0",
          "state": {
            "_model_module": "@jupyter-widgets/controls",
            "_model_module_version": "1.5.0",
            "_model_name": "DescriptionStyleModel",
            "_view_count": null,
            "_view_module": "@jupyter-widgets/base",
            "_view_module_version": "1.2.0",
            "_view_name": "StyleView",
            "description_width": ""
          }
        },
        "bfc3b9d68c8e42e3b88bf6593c3238e6": {
          "model_module": "@jupyter-widgets/controls",
          "model_name": "HBoxModel",
          "model_module_version": "1.5.0",
          "state": {
            "_dom_classes": [],
            "_model_module": "@jupyter-widgets/controls",
            "_model_module_version": "1.5.0",
            "_model_name": "HBoxModel",
            "_view_count": null,
            "_view_module": "@jupyter-widgets/controls",
            "_view_module_version": "1.5.0",
            "_view_name": "HBoxView",
            "box_style": "",
            "children": [
              "IPY_MODEL_d7004c23819c4824862976edb1c103f8",
              "IPY_MODEL_48662b95e79742ebba276a1ffcfe1aa9",
              "IPY_MODEL_55e398dacb7745d19b7bcd88d5028180"
            ],
            "layout": "IPY_MODEL_c141ca86425245f99d5577301c60eb4f"
          }
        },
        "d7004c23819c4824862976edb1c103f8": {
          "model_module": "@jupyter-widgets/controls",
          "model_name": "HTMLModel",
          "model_module_version": "1.5.0",
          "state": {
            "_dom_classes": [],
            "_model_module": "@jupyter-widgets/controls",
            "_model_module_version": "1.5.0",
            "_model_name": "HTMLModel",
            "_view_count": null,
            "_view_module": "@jupyter-widgets/controls",
            "_view_module_version": "1.5.0",
            "_view_name": "HTMLView",
            "description": "",
            "description_tooltip": null,
            "layout": "IPY_MODEL_df3992c799dd40e3a0271cadb76a02a8",
            "placeholder": "​",
            "style": "IPY_MODEL_1c2c4c74fcc84789a64323d6bffb73e0",
            "value": "docstore.json: 100%"
          }
        },
        "48662b95e79742ebba276a1ffcfe1aa9": {
          "model_module": "@jupyter-widgets/controls",
          "model_name": "FloatProgressModel",
          "model_module_version": "1.5.0",
          "state": {
            "_dom_classes": [],
            "_model_module": "@jupyter-widgets/controls",
            "_model_module_version": "1.5.0",
            "_model_name": "FloatProgressModel",
            "_view_count": null,
            "_view_module": "@jupyter-widgets/controls",
            "_view_module_version": "1.5.0",
            "_view_name": "ProgressView",
            "bar_style": "success",
            "description": "",
            "description_tooltip": null,
            "layout": "IPY_MODEL_779ba9b5398440be8842658057d0c9b5",
            "max": 24836186,
            "min": 0,
            "orientation": "horizontal",
            "style": "IPY_MODEL_ace8b5a96ac64793b97b03cdae55ec51",
            "value": 24836186
          }
        },
        "55e398dacb7745d19b7bcd88d5028180": {
          "model_module": "@jupyter-widgets/controls",
          "model_name": "HTMLModel",
          "model_module_version": "1.5.0",
          "state": {
            "_dom_classes": [],
            "_model_module": "@jupyter-widgets/controls",
            "_model_module_version": "1.5.0",
            "_model_name": "HTMLModel",
            "_view_count": null,
            "_view_module": "@jupyter-widgets/controls",
            "_view_module_version": "1.5.0",
            "_view_name": "HTMLView",
            "description": "",
            "description_tooltip": null,
            "layout": "IPY_MODEL_442b611faf474e9199c87319cdb7d211",
            "placeholder": "​",
            "style": "IPY_MODEL_b3662dbcccc24c9b87a79614c7d9a826",
            "value": " 24.8M/24.8M [00:00&lt;00:00, 37.2MB/s]"
          }
        },
        "c141ca86425245f99d5577301c60eb4f": {
          "model_module": "@jupyter-widgets/base",
          "model_name": "LayoutModel",
          "model_module_version": "1.2.0",
          "state": {
            "_model_module": "@jupyter-widgets/base",
            "_model_module_version": "1.2.0",
            "_model_name": "LayoutModel",
            "_view_count": null,
            "_view_module": "@jupyter-widgets/base",
            "_view_module_version": "1.2.0",
            "_view_name": "LayoutView",
            "align_content": null,
            "align_items": null,
            "align_self": null,
            "border": null,
            "bottom": null,
            "display": null,
            "flex": null,
            "flex_flow": null,
            "grid_area": null,
            "grid_auto_columns": null,
            "grid_auto_flow": null,
            "grid_auto_rows": null,
            "grid_column": null,
            "grid_gap": null,
            "grid_row": null,
            "grid_template_areas": null,
            "grid_template_columns": null,
            "grid_template_rows": null,
            "height": null,
            "justify_content": null,
            "justify_items": null,
            "left": null,
            "margin": null,
            "max_height": null,
            "max_width": null,
            "min_height": null,
            "min_width": null,
            "object_fit": null,
            "object_position": null,
            "order": null,
            "overflow": null,
            "overflow_x": null,
            "overflow_y": null,
            "padding": null,
            "right": null,
            "top": null,
            "visibility": null,
            "width": null
          }
        },
        "df3992c799dd40e3a0271cadb76a02a8": {
          "model_module": "@jupyter-widgets/base",
          "model_name": "LayoutModel",
          "model_module_version": "1.2.0",
          "state": {
            "_model_module": "@jupyter-widgets/base",
            "_model_module_version": "1.2.0",
            "_model_name": "LayoutModel",
            "_view_count": null,
            "_view_module": "@jupyter-widgets/base",
            "_view_module_version": "1.2.0",
            "_view_name": "LayoutView",
            "align_content": null,
            "align_items": null,
            "align_self": null,
            "border": null,
            "bottom": null,
            "display": null,
            "flex": null,
            "flex_flow": null,
            "grid_area": null,
            "grid_auto_columns": null,
            "grid_auto_flow": null,
            "grid_auto_rows": null,
            "grid_column": null,
            "grid_gap": null,
            "grid_row": null,
            "grid_template_areas": null,
            "grid_template_columns": null,
            "grid_template_rows": null,
            "height": null,
            "justify_content": null,
            "justify_items": null,
            "left": null,
            "margin": null,
            "max_height": null,
            "max_width": null,
            "min_height": null,
            "min_width": null,
            "object_fit": null,
            "object_position": null,
            "order": null,
            "overflow": null,
            "overflow_x": null,
            "overflow_y": null,
            "padding": null,
            "right": null,
            "top": null,
            "visibility": null,
            "width": null
          }
        },
        "1c2c4c74fcc84789a64323d6bffb73e0": {
          "model_module": "@jupyter-widgets/controls",
          "model_name": "DescriptionStyleModel",
          "model_module_version": "1.5.0",
          "state": {
            "_model_module": "@jupyter-widgets/controls",
            "_model_module_version": "1.5.0",
            "_model_name": "DescriptionStyleModel",
            "_view_count": null,
            "_view_module": "@jupyter-widgets/base",
            "_view_module_version": "1.2.0",
            "_view_name": "StyleView",
            "description_width": ""
          }
        },
        "779ba9b5398440be8842658057d0c9b5": {
          "model_module": "@jupyter-widgets/base",
          "model_name": "LayoutModel",
          "model_module_version": "1.2.0",
          "state": {
            "_model_module": "@jupyter-widgets/base",
            "_model_module_version": "1.2.0",
            "_model_name": "LayoutModel",
            "_view_count": null,
            "_view_module": "@jupyter-widgets/base",
            "_view_module_version": "1.2.0",
            "_view_name": "LayoutView",
            "align_content": null,
            "align_items": null,
            "align_self": null,
            "border": null,
            "bottom": null,
            "display": null,
            "flex": null,
            "flex_flow": null,
            "grid_area": null,
            "grid_auto_columns": null,
            "grid_auto_flow": null,
            "grid_auto_rows": null,
            "grid_column": null,
            "grid_gap": null,
            "grid_row": null,
            "grid_template_areas": null,
            "grid_template_columns": null,
            "grid_template_rows": null,
            "height": null,
            "justify_content": null,
            "justify_items": null,
            "left": null,
            "margin": null,
            "max_height": null,
            "max_width": null,
            "min_height": null,
            "min_width": null,
            "object_fit": null,
            "object_position": null,
            "order": null,
            "overflow": null,
            "overflow_x": null,
            "overflow_y": null,
            "padding": null,
            "right": null,
            "top": null,
            "visibility": null,
            "width": null
          }
        },
        "ace8b5a96ac64793b97b03cdae55ec51": {
          "model_module": "@jupyter-widgets/controls",
          "model_name": "ProgressStyleModel",
          "model_module_version": "1.5.0",
          "state": {
            "_model_module": "@jupyter-widgets/controls",
            "_model_module_version": "1.5.0",
            "_model_name": "ProgressStyleModel",
            "_view_count": null,
            "_view_module": "@jupyter-widgets/base",
            "_view_module_version": "1.2.0",
            "_view_name": "StyleView",
            "bar_color": null,
            "description_width": ""
          }
        },
        "442b611faf474e9199c87319cdb7d211": {
          "model_module": "@jupyter-widgets/base",
          "model_name": "LayoutModel",
          "model_module_version": "1.2.0",
          "state": {
            "_model_module": "@jupyter-widgets/base",
            "_model_module_version": "1.2.0",
            "_model_name": "LayoutModel",
            "_view_count": null,
            "_view_module": "@jupyter-widgets/base",
            "_view_module_version": "1.2.0",
            "_view_name": "LayoutView",
            "align_content": null,
            "align_items": null,
            "align_self": null,
            "border": null,
            "bottom": null,
            "display": null,
            "flex": null,
            "flex_flow": null,
            "grid_area": null,
            "grid_auto_columns": null,
            "grid_auto_flow": null,
            "grid_auto_rows": null,
            "grid_column": null,
            "grid_gap": null,
            "grid_row": null,
            "grid_template_areas": null,
            "grid_template_columns": null,
            "grid_template_rows": null,
            "height": null,
            "justify_content": null,
            "justify_items": null,
            "left": null,
            "margin": null,
            "max_height": null,
            "max_width": null,
            "min_height": null,
            "min_width": null,
            "object_fit": null,
            "object_position": null,
            "order": null,
            "overflow": null,
            "overflow_x": null,
            "overflow_y": null,
            "padding": null,
            "right": null,
            "top": null,
            "visibility": null,
            "width": null
          }
        },
        "b3662dbcccc24c9b87a79614c7d9a826": {
          "model_module": "@jupyter-widgets/controls",
          "model_name": "DescriptionStyleModel",
          "model_module_version": "1.5.0",
          "state": {
            "_model_module": "@jupyter-widgets/controls",
            "_model_module_version": "1.5.0",
            "_model_name": "DescriptionStyleModel",
            "_view_count": null,
            "_view_module": "@jupyter-widgets/base",
            "_view_module_version": "1.2.0",
            "_view_name": "StyleView",
            "description_width": ""
          }
        },
        "6f66d1d0445e412da1ba3ef7930c60d6": {
          "model_module": "@jupyter-widgets/controls",
          "model_name": "HBoxModel",
          "model_module_version": "1.5.0",
          "state": {
            "_dom_classes": [],
            "_model_module": "@jupyter-widgets/controls",
            "_model_module_version": "1.5.0",
            "_model_name": "HBoxModel",
            "_view_count": null,
            "_view_module": "@jupyter-widgets/controls",
            "_view_module_version": "1.5.0",
            "_view_name": "HBoxView",
            "box_style": "",
            "children": [
              "IPY_MODEL_32ba80e043f8451c96f37e7648eb0fd7",
              "IPY_MODEL_f85e94c7fe3b4b7eb2d4545044fa8ee3",
              "IPY_MODEL_b80c035805f945b18fe70002a01b4bb6"
            ],
            "layout": "IPY_MODEL_3f721df8a59248a192a282b6a42cd0ad"
          }
        },
        "32ba80e043f8451c96f37e7648eb0fd7": {
          "model_module": "@jupyter-widgets/controls",
          "model_name": "HTMLModel",
          "model_module_version": "1.5.0",
          "state": {
            "_dom_classes": [],
            "_model_module": "@jupyter-widgets/controls",
            "_model_module_version": "1.5.0",
            "_model_name": "HTMLModel",
            "_view_count": null,
            "_view_module": "@jupyter-widgets/controls",
            "_view_module_version": "1.5.0",
            "_view_name": "HTMLView",
            "description": "",
            "description_tooltip": null,
            "layout": "IPY_MODEL_0bc5ea46572b4da08927d5153465f9aa",
            "placeholder": "​",
            "style": "IPY_MODEL_eef9f4035bf1463b9287a3c000c5cabb",
            "value": "Upload 2 LFS files: 100%"
          }
        },
        "f85e94c7fe3b4b7eb2d4545044fa8ee3": {
          "model_module": "@jupyter-widgets/controls",
          "model_name": "FloatProgressModel",
          "model_module_version": "1.5.0",
          "state": {
            "_dom_classes": [],
            "_model_module": "@jupyter-widgets/controls",
            "_model_module_version": "1.5.0",
            "_model_name": "FloatProgressModel",
            "_view_count": null,
            "_view_module": "@jupyter-widgets/controls",
            "_view_module_version": "1.5.0",
            "_view_name": "ProgressView",
            "bar_style": "success",
            "description": "",
            "description_tooltip": null,
            "layout": "IPY_MODEL_4037f5d5be094947ad050296ba105669",
            "max": 2,
            "min": 0,
            "orientation": "horizontal",
            "style": "IPY_MODEL_b32b94ad8b3c46d4b21d5a0714835d5e",
            "value": 2
          }
        },
        "b80c035805f945b18fe70002a01b4bb6": {
          "model_module": "@jupyter-widgets/controls",
          "model_name": "HTMLModel",
          "model_module_version": "1.5.0",
          "state": {
            "_dom_classes": [],
            "_model_module": "@jupyter-widgets/controls",
            "_model_module_version": "1.5.0",
            "_model_name": "HTMLModel",
            "_view_count": null,
            "_view_module": "@jupyter-widgets/controls",
            "_view_module_version": "1.5.0",
            "_view_name": "HTMLView",
            "description": "",
            "description_tooltip": null,
            "layout": "IPY_MODEL_3e50f013da1b4eb595b2bd28dc43d639",
            "placeholder": "​",
            "style": "IPY_MODEL_5a21072e7adc43bb9e51cb5d96232b41",
            "value": " 2/2 [00:06&lt;00:00,  3.72s/it]"
          }
        },
        "3f721df8a59248a192a282b6a42cd0ad": {
          "model_module": "@jupyter-widgets/base",
          "model_name": "LayoutModel",
          "model_module_version": "1.2.0",
          "state": {
            "_model_module": "@jupyter-widgets/base",
            "_model_module_version": "1.2.0",
            "_model_name": "LayoutModel",
            "_view_count": null,
            "_view_module": "@jupyter-widgets/base",
            "_view_module_version": "1.2.0",
            "_view_name": "LayoutView",
            "align_content": null,
            "align_items": null,
            "align_self": null,
            "border": null,
            "bottom": null,
            "display": null,
            "flex": null,
            "flex_flow": null,
            "grid_area": null,
            "grid_auto_columns": null,
            "grid_auto_flow": null,
            "grid_auto_rows": null,
            "grid_column": null,
            "grid_gap": null,
            "grid_row": null,
            "grid_template_areas": null,
            "grid_template_columns": null,
            "grid_template_rows": null,
            "height": null,
            "justify_content": null,
            "justify_items": null,
            "left": null,
            "margin": null,
            "max_height": null,
            "max_width": null,
            "min_height": null,
            "min_width": null,
            "object_fit": null,
            "object_position": null,
            "order": null,
            "overflow": null,
            "overflow_x": null,
            "overflow_y": null,
            "padding": null,
            "right": null,
            "top": null,
            "visibility": null,
            "width": null
          }
        },
        "0bc5ea46572b4da08927d5153465f9aa": {
          "model_module": "@jupyter-widgets/base",
          "model_name": "LayoutModel",
          "model_module_version": "1.2.0",
          "state": {
            "_model_module": "@jupyter-widgets/base",
            "_model_module_version": "1.2.0",
            "_model_name": "LayoutModel",
            "_view_count": null,
            "_view_module": "@jupyter-widgets/base",
            "_view_module_version": "1.2.0",
            "_view_name": "LayoutView",
            "align_content": null,
            "align_items": null,
            "align_self": null,
            "border": null,
            "bottom": null,
            "display": null,
            "flex": null,
            "flex_flow": null,
            "grid_area": null,
            "grid_auto_columns": null,
            "grid_auto_flow": null,
            "grid_auto_rows": null,
            "grid_column": null,
            "grid_gap": null,
            "grid_row": null,
            "grid_template_areas": null,
            "grid_template_columns": null,
            "grid_template_rows": null,
            "height": null,
            "justify_content": null,
            "justify_items": null,
            "left": null,
            "margin": null,
            "max_height": null,
            "max_width": null,
            "min_height": null,
            "min_width": null,
            "object_fit": null,
            "object_position": null,
            "order": null,
            "overflow": null,
            "overflow_x": null,
            "overflow_y": null,
            "padding": null,
            "right": null,
            "top": null,
            "visibility": null,
            "width": null
          }
        },
        "eef9f4035bf1463b9287a3c000c5cabb": {
          "model_module": "@jupyter-widgets/controls",
          "model_name": "DescriptionStyleModel",
          "model_module_version": "1.5.0",
          "state": {
            "_model_module": "@jupyter-widgets/controls",
            "_model_module_version": "1.5.0",
            "_model_name": "DescriptionStyleModel",
            "_view_count": null,
            "_view_module": "@jupyter-widgets/base",
            "_view_module_version": "1.2.0",
            "_view_name": "StyleView",
            "description_width": ""
          }
        },
        "4037f5d5be094947ad050296ba105669": {
          "model_module": "@jupyter-widgets/base",
          "model_name": "LayoutModel",
          "model_module_version": "1.2.0",
          "state": {
            "_model_module": "@jupyter-widgets/base",
            "_model_module_version": "1.2.0",
            "_model_name": "LayoutModel",
            "_view_count": null,
            "_view_module": "@jupyter-widgets/base",
            "_view_module_version": "1.2.0",
            "_view_name": "LayoutView",
            "align_content": null,
            "align_items": null,
            "align_self": null,
            "border": null,
            "bottom": null,
            "display": null,
            "flex": null,
            "flex_flow": null,
            "grid_area": null,
            "grid_auto_columns": null,
            "grid_auto_flow": null,
            "grid_auto_rows": null,
            "grid_column": null,
            "grid_gap": null,
            "grid_row": null,
            "grid_template_areas": null,
            "grid_template_columns": null,
            "grid_template_rows": null,
            "height": null,
            "justify_content": null,
            "justify_items": null,
            "left": null,
            "margin": null,
            "max_height": null,
            "max_width": null,
            "min_height": null,
            "min_width": null,
            "object_fit": null,
            "object_position": null,
            "order": null,
            "overflow": null,
            "overflow_x": null,
            "overflow_y": null,
            "padding": null,
            "right": null,
            "top": null,
            "visibility": null,
            "width": null
          }
        },
        "b32b94ad8b3c46d4b21d5a0714835d5e": {
          "model_module": "@jupyter-widgets/controls",
          "model_name": "ProgressStyleModel",
          "model_module_version": "1.5.0",
          "state": {
            "_model_module": "@jupyter-widgets/controls",
            "_model_module_version": "1.5.0",
            "_model_name": "ProgressStyleModel",
            "_view_count": null,
            "_view_module": "@jupyter-widgets/base",
            "_view_module_version": "1.2.0",
            "_view_name": "StyleView",
            "bar_color": null,
            "description_width": ""
          }
        },
        "3e50f013da1b4eb595b2bd28dc43d639": {
          "model_module": "@jupyter-widgets/base",
          "model_name": "LayoutModel",
          "model_module_version": "1.2.0",
          "state": {
            "_model_module": "@jupyter-widgets/base",
            "_model_module_version": "1.2.0",
            "_model_name": "LayoutModel",
            "_view_count": null,
            "_view_module": "@jupyter-widgets/base",
            "_view_module_version": "1.2.0",
            "_view_name": "LayoutView",
            "align_content": null,
            "align_items": null,
            "align_self": null,
            "border": null,
            "bottom": null,
            "display": null,
            "flex": null,
            "flex_flow": null,
            "grid_area": null,
            "grid_auto_columns": null,
            "grid_auto_flow": null,
            "grid_auto_rows": null,
            "grid_column": null,
            "grid_gap": null,
            "grid_row": null,
            "grid_template_areas": null,
            "grid_template_columns": null,
            "grid_template_rows": null,
            "height": null,
            "justify_content": null,
            "justify_items": null,
            "left": null,
            "margin": null,
            "max_height": null,
            "max_width": null,
            "min_height": null,
            "min_width": null,
            "object_fit": null,
            "object_position": null,
            "order": null,
            "overflow": null,
            "overflow_x": null,
            "overflow_y": null,
            "padding": null,
            "right": null,
            "top": null,
            "visibility": null,
            "width": null
          }
        },
        "5a21072e7adc43bb9e51cb5d96232b41": {
          "model_module": "@jupyter-widgets/controls",
          "model_name": "DescriptionStyleModel",
          "model_module_version": "1.5.0",
          "state": {
            "_model_module": "@jupyter-widgets/controls",
            "_model_module_version": "1.5.0",
            "_model_name": "DescriptionStyleModel",
            "_view_count": null,
            "_view_module": "@jupyter-widgets/base",
            "_view_module_version": "1.2.0",
            "_view_name": "StyleView",
            "description_width": ""
          }
        }
      }
    }
  },
  "nbformat": 4,
  "nbformat_minor": 5
}