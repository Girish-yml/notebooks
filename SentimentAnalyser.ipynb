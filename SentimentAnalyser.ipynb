{
  "cells": [
    {
      "attachments": {},
      "cell_type": "markdown",
      "metadata": {
        "colab_type": "text",
        "id": "view-in-github"
      },
      "source": [
        "<a href=\"https://colab.research.google.com/github/Girish-yml/notebooks/blob/main/SentimentAnalyser.ipynb\" target=\"_parent\"><img src=\"https://colab.research.google.com/assets/colab-badge.svg\" alt=\"Open In Colab\"/></a>"
      ]
    },
    {
      "attachments": {},
      "cell_type": "markdown",
      "metadata": {
        "id": "L31WBIUK29wk"
      },
      "source": [
        "# Utility"
      ]
    },
    {
      "cell_type": "code",
      "execution_count": null,
      "metadata": {
        "id": "_6I2BL3t2z9X"
      },
      "outputs": [],
      "source": [
        "!pip install huggingface_hub\n",
        "!pip install torch\n",
        "!pip install cryptography\n",
        "!pip install psutil"
      ]
    },
    {
      "cell_type": "code",
      "execution_count": 24,
      "metadata": {
        "id": "KX5EDnCK0Bdo"
      },
      "outputs": [
        {
          "name": "stdout",
          "output_type": "stream",
          "text": [
            "Overwriting app.py\n"
          ]
        }
      ],
      "source": [
        "# %%writefile app.py\n",
        "\n",
        "\"\"\" A Utility calss which contains most commonly used functions \"\"\"\n",
        "\n",
        "import huggingface_hub\n",
        "import huggingface_hub.hf_api\n",
        "import psutil\n",
        "import torch\n",
        "import functools\n",
        "import socket\n",
        "import cryptography\n",
        "import cryptography.fernet\n",
        "import os\n",
        "\n",
        "class Utility(object):\n",
        "\n",
        "  def __init__(self, name=\"Utility\") -> None:\n",
        "    self.name = name\n",
        "    self.author = \"Duc Haba, Girish\"\n",
        "    self._pp(\"Hello from class\", str(self.__class__) + \" Class: \" + str(self.__class__.__name__))\n",
        "    self._pp(\"Code name\", self.name)\n",
        "\n",
        "    #Define encrypted keys\n",
        "    self._huggingface_key=\"gAAAAABkgtmOIjpnjwXFWmgh1j2et2kMjHUze-ym6h3BieAp34Sqkqv3EVYvRinETvpw-kXu7RSRl5_9FqrYe-7unfakMvMkU8nHrfB3hBSC76ZTXwkVSzlN0RfBNs9NL8BGjaSJ8mz8\"\n",
        "\n",
        "    #Key for crypto\n",
        "    self._fkey=os.getenv(\"hf_encrypt_decrypt_key\")\n",
        "    return\n",
        "\n",
        "  # Print : Pretty print output name-value line\n",
        "  def _pp(self, a, b,is_print=True):\n",
        "    # print(\"%34s : %s\" % (str(a), str(b)))\n",
        "    x = f'{\"%34s\" % str(a)} : {str(b)}'\n",
        "    y = None\n",
        "    if (is_print):\n",
        "      print(x)\n",
        "    else:\n",
        "      y = x\n",
        "    return y\n",
        "\n",
        "  # Print : Pretty print the header or footer lines\n",
        "  def _ph(self,is_print=True):\n",
        "    x = f'{\"-\"*34} : {\"-\"*34}'\n",
        "    y = None\n",
        "    if (is_print):\n",
        "      print(x)\n",
        "    else:\n",
        "      y = x\n",
        "    return y\n",
        "\n",
        "  # Hugging face : Login to Hugging face\n",
        "  def _login_hface(self):\n",
        "    huggingface_hub.login(self._decrypt_it(self._huggingface_key),\n",
        "      add_to_git_credential=True) # non-blocking login\n",
        "    self._ph()\n",
        "    return\n",
        "\n",
        "  # Hugging face : Push files to Hugging face\n",
        "  def push_hface_files(self,\n",
        "    hf_names,\n",
        "    hf_space=\"GirishKiran/yml\",\n",
        "    local_dir=\"/content/\"):\n",
        "    f = str(hf_names) + \" is not iteratable, type: \" + str(type(hf_names))\n",
        "    try:\n",
        "      for f in hf_names:\n",
        "        lo = local_dir + f\n",
        "        huggingface_hub.upload_file(\n",
        "          path_or_fileobj=lo,\n",
        "          path_in_repo=f,\n",
        "          repo_id=hf_space,\n",
        "          repo_type=huggingface_hub.REPO_TYPE_SPACE)\n",
        "    except Exception as e:\n",
        "      self._pp(\"*Error\", e)\n",
        "    return\n",
        "\n",
        "  # Hugging face : Push folders to Hugging face\n",
        "  def push_hface_folder(self, hf_folder, hf_space_id, hf_dest_folder=None):\n",
        "    api = huggingface_hub.HfApi()\n",
        "    api.upload_folder(folder_path=hf_folder,\n",
        "      repo_id=hf_space_id,\n",
        "      path_in_repo=hf_dest_folder,\n",
        "      repo_type=\"space\")\n",
        "    return\n",
        "\n",
        "  # Hugging face : Login to Hugging face\n",
        "  def _login_hface(self):\n",
        "    huggingface_hub.login(self._decrypt_it(self._huggingface_key),\n",
        "      add_to_git_credential=True) # non-blocking login\n",
        "    self._ph()\n",
        "    return\n",
        "\n",
        "  # System Info : Fetch available CPU and RAM of the system\n",
        "  def fetch_system_info(self):\n",
        "    s=''\n",
        "    # Get CPU usage as a percentage\n",
        "    cpu_usage = psutil.cpu_percent()\n",
        "    # Get available memory in bytes\n",
        "    mem = psutil.virtual_memory()\n",
        "    # Convert bytes to gigabytes\n",
        "    mem_total_gb = mem.total / (1024 ** 3)\n",
        "    mem_available_gb = mem.available / (1024 ** 3)\n",
        "    mem_used_gb = mem.used / (1024 ** 3)\n",
        "    # Print the results\n",
        "    s += f\"CPU usage: {cpu_usage}%\\n\"\n",
        "    s += f\"Total memory: {mem_total_gb:.2f} GB\\n\"\n",
        "    s += f\"Available memory: {mem_available_gb:.2f} GB\\n\"\n",
        "    # print(f\"Used memory: {mem_used_gb:.2f} GB\")\n",
        "    s += f\"Memory usage: {mem_used_gb/mem_total_gb:.2f}%\\n\"\n",
        "    return\n",
        "\n",
        "  # System Info : Fetch GPU information of the system\n",
        "  def fetch_gpu_info(self):\n",
        "    s=''\n",
        "    try:\n",
        "      s += f'Your GPU is the {torch.cuda.get_device_name(0)}\\n'\n",
        "      s += f'GPU ready staus {torch.cuda.is_available()}\\n'\n",
        "      s += f'GPU allocated RAM: {round(torch.cuda.memory_allocated(0)/1024**3,1)} GB\\n'\n",
        "      s += f'GPU reserved RAM {round(torch.cuda.memory_reserved(0)/1024**3,1)} GB\\n'\n",
        "    except Exception as e:\n",
        "      s += f'**Warning, No GPU: {e}'\n",
        "    return s\n",
        "\n",
        "  # System Info : Fetch host ip address\n",
        "  def fetch_host_ip(self):\n",
        "    s=''\n",
        "    hostname = socket.gethostname()\n",
        "    ip_address = socket.gethostbyname(hostname)\n",
        "    s += f\"Hostname: {hostname}\\n\"\n",
        "    s += f\"IP Address: {ip_address}\\n\"\n",
        "    return s\n",
        "\n",
        "  # Create and writes data to the file\n",
        "  def write_file(self,fname, txt):\n",
        "    f = open(fname, \"w\")\n",
        "    f.writelines(\"\\n\".join(txt))\n",
        "    f.close()\n",
        "    return\n",
        "\n",
        "  # Crypto : Fetch crypto key\n",
        "  def _fetch_crypt(self,is_generate=False):\n",
        "    s=self._fkey[::-1]\n",
        "    if (is_generate):\n",
        "      s=open(self._xkeyfile, \"rb\").read()\n",
        "    return s\n",
        "\n",
        "  # Crypto : Decrypt value\n",
        "  def _decrypt_it(self, x):\n",
        "    y = self._fetch_crypt()\n",
        "    f = cryptography.fernet.Fernet(y)\n",
        "    m = f.decrypt(x)\n",
        "    return m.decode()\n",
        "\n",
        "  # Crypto : Encrypt value\n",
        "  def _encrypt_it(self, x):\n",
        "    key = self._fetch_crypt()\n",
        "    p = x.encode()\n",
        "    f = cryptography.fernet.Fernet(key)\n",
        "    y = f.encrypt(p)\n",
        "    return y\n",
        "\n",
        "  # Capitalizes the first letter of each word in a list.\n",
        "  def capitalize_first_letter(self, list_of_words):\n",
        "    capitalized_words = []\n",
        "    for word in list_of_words:\n",
        "      capitalized_word = word[0].upper() + word[1:]\n",
        "      capitalized_words.append(capitalized_word)\n",
        "    return capitalized_words\n",
        "  \n",
        "# Add method to class\n",
        "def add_method(cls):\n",
        "  def decorator(func):\n",
        "    @functools.wraps(func)\n",
        "    def wrapper(*args, **kwargs):\n",
        "      return func(*args, **kwargs)\n",
        "    setattr(cls, func.__name__, wrapper)\n",
        "    return func # returning func means func can still be used normally\n",
        "  return decorator\n"
      ]
    },
    {
      "attachments": {},
      "cell_type": "markdown",
      "metadata": {
        "id": "XbbwSXxCwwHj"
      },
      "source": [
        "# Sentiment"
      ]
    },
    {
      "cell_type": "code",
      "execution_count": null,
      "metadata": {
        "id": "MKe7-RNKhmRO"
      },
      "outputs": [],
      "source": [
        "!pip install transformers\n",
        "!pip install scipy\n",
        "!pip install line_profiler\n",
        "!pip install git+https://github.com/openai/whisper.git"
      ]
    },
    {
      "cell_type": "code",
      "execution_count": 25,
      "metadata": {
        "colab": {
          "base_uri": "https://localhost:8080/",
          "height": 554,
          "referenced_widgets": [
            "8ccb9f14b7084060b09455dbde3437b9",
            "cf233a88cce048d1a473c180b3e78455",
            "fb38b032f96641709696b9600a8eb21e",
            "cbf9bdb8c08c457f815f1a497951a920",
            "68008cdf8f5b4243a3f45ba2aefb9502",
            "b4e85014b80c401091c457312bcc84ab",
            "07145a523c0245c68e4b6ddcdc6fb31c",
            "9273862ea47a410c84a5df265d8fdffb",
            "eb8040b1b1d943c8a5eb73b300687e96",
            "ea1e536f96d448aca9236c6c0bca6af6",
            "14dee8d38a314932b927754d2c1c33b9",
            "46672b314e5e448cb630a07fc07aa54a",
            "a839298696ef4115bf65c4965d3debc7",
            "a58042d1304442e2831dd3c4f97df052",
            "1a430de2ce7f4ec7913b371d67aa5ede",
            "ef3f94e5844448618e202530842ae127",
            "e45694880be2417fa70b853605d0ccec",
            "d1071e7afeac473da897f37d10b4b792",
            "13ef164e30604365afacf22e818d79de",
            "e8ca413f07f2428c8426dbb391ae6c3d",
            "686d3d277a044f44952508ea299ea0dd",
            "92eefbff0c1c4f8ab804a7d1008602b6",
            "68b1231d244c4f8781df27a6ef29825b",
            "d1fdbbd4f99c48149e7f653388a36587",
            "cc2cd36b63844edc9f6f39f0514be10a",
            "8a79a2f4ec494a02b39671edd348696a",
            "11fa064e1e2d4cb4a8831aeec986e68a",
            "917705b4c51448069c9db6f782b5383b",
            "a57d6656d7eb4882b63434aee2f355ea",
            "60d65456831841a8b8569b4db1e909cc",
            "2f32228b82174722a1bf4c56ed259124",
            "4c996411008243b3b9340ead380ce843",
            "1ac889e3e9254144975b5e3bf0cd1c9f",
            "b2cab4de7a3945c5ad2171b09826185e",
            "249de39ebcf042b4b72636c1ab3cfdfa",
            "d274eb2885bc45f2941965616a45fcc3",
            "16580ad725cc4549a3faf9e6d1d1df2a",
            "b5dfff9ae67f4d83a943050cbaba3127",
            "2245504957234adda09367a4dc1adba1",
            "62e0335fabce4397b4dbe3b688825f04",
            "008d6e4825ea48dc8cfa6ded03f88cb1",
            "9078399c5cbf4823b11320fa5c22b297",
            "4b92ebb5c5ef4125bb37be1ead32d29b",
            "41902284a1914a9a8cd2731b8b3727e6",
            "517e1fe4b8394ae0bdabd6c699c732e6",
            "166e0b1a41224c92860d110110265649",
            "d926f4da106d47cf92105f1c942c412d",
            "397b88c441d848d98fa3423544ec6043",
            "76bcef90c5694fd7a8483a539753bd5c",
            "e2d5349acfc849c8a26a1d3df9c3f102",
            "fd3e53c49cdd4578ba27ba21e5af8264",
            "8879b96cfefe436eb1476a6530399bce",
            "e6e1c9136b7c45eb8d441181b54b949c",
            "78fde79192a446b7908784eebf08d204",
            "3a3bb61e5051485289a28fcc8a1da3ca"
          ]
        },
        "id": "KwFjaWw1mc_D",
        "outputId": "f88b5de7-7c76-4629-c574-2db0268871a6"
      },
      "outputs": [
        {
          "name": "stdout",
          "output_type": "stream",
          "text": [
            "Appending to app.py\n"
          ]
        }
      ],
      "source": [
        "# %%writefile -a app.py\n",
        "\n",
        "\"\"\" This file contains multiple Python classes and responssible to provide Emotions based on the given user input\n",
        "    Currently it supports emotions like Anger, Joy, Optimism and Sadness\"\"\"\n",
        "\n",
        "from transformers import AutoTokenizer, AutoModelForSequenceClassification\n",
        "from  matplotlib.colors import LinearSegmentedColormap\n",
        "import scipy\n",
        "import scipy.special\n",
        "import pandas\n",
        "import whisper\n",
        "\n",
        "class SentimentAnalyser(object):\n",
        "\n",
        "  # initialize the object\n",
        "  def __init__(self, name=\"Sentiment\",*args, **kwargs):\n",
        "    super(SentimentAnalyser, self).__init__(*args, **kwargs)\n",
        "    self.author = \"Duc Haba, Girish\"\n",
        "    self.name = name\n",
        "    utility = Utility(name=\"Calling From SentimentAnalyser\")\n",
        "    self.utility = utility\n",
        "    utility._ph()\n",
        "    utility._pp(\"Hello from class\", str(self.__class__) + \" Class: \" + str(self.__class__.__name__))\n",
        "    utility._pp(\"Code name\", self.name)\n",
        "    utility._pp(\"Author is\" , self.author)\n",
        "    utility._ph()\n",
        "    print(utility.fetch_system_info())\n",
        "    utility._ph()\n",
        "    # print(utility.fetch_gpu_info())\n",
        "    utility._ph()\n",
        "    # print(utility.fetch_host_ip())\n",
        "    utility._ph()\n",
        "    self._init_model()\n",
        "    utility._login_hface()\n",
        "    return\n",
        "\n",
        "  # initalise the model\n",
        "  def _init_model(self):\n",
        "    modelLink = \"bhadresh-savani/distilbert-base-uncased-emotion\" #\"SamLowe/roberta-base-go_emotions\"\n",
        "    self.tokenizer = AutoTokenizer.from_pretrained(modelLink)\n",
        "    self.model = AutoModelForSequenceClassification.from_pretrained(modelLink)\n",
        "    self.whisper_model = whisper.load_model(\"small\")\n",
        "    return\n",
        "\n",
        "sentiment = SentimentAnalyser(name=\"EmotionAnalyser\")"
      ]
    },
    {
      "cell_type": "code",
      "execution_count": 26,
      "metadata": {
        "id": "ZaYOSNS2Rjtk"
      },
      "outputs": [
        {
          "name": "stdout",
          "output_type": "stream",
          "text": [
            "Appending to app.py\n"
          ]
        }
      ],
      "source": [
        "# %%writefile -a app.py\n",
        "\n",
        "@add_method(SentimentAnalyser)\n",
        "def _predict_sentiment(p):\n",
        "  # Tokenize input\n",
        "  inputs = sentiment.tokenizer(p, return_tensors=\"pt\")\n",
        "  # Pass inputs through model\n",
        "  outputs = sentiment.model(**inputs)\n",
        "  sentiment_map = sentiment.utility.capitalize_first_letter(sentiment.model.config.label2id.keys())\n",
        "  out_data = outputs[0][0]\n",
        "  scores = out_data.detach().numpy()\n",
        "  scores = scipy.special.softmax(scores)\n",
        "  # sentiment_map = ['Sadness', 'Joy', 'Love', 'Anger', 'Fear' , \"Surprise\"]\n",
        "  df_out = pandas.DataFrame([scores], columns=sentiment_map)\n",
        "  df_out = df_out[['Love' , 'Joy', 'Surprise' , 'Fear', 'Sadness', 'Anger']]\n",
        "  return df_out\n",
        "  \n",
        "@add_method(SentimentAnalyser)\n",
        "def draw_bar_plot(df_data, title='Sentiment Analysis', xlabel='p string', ylabel='Emotion Score'):\n",
        "  graphCmap=LinearSegmentedColormap.from_list('gr',[\"g\", \"w\", \"r\"])\n",
        "  pic = df_data.plot.bar(cmap=graphCmap,\n",
        "        title=title,\n",
        "        ylabel=ylabel,\n",
        "        xlabel=xlabel,\n",
        "        grid=True)\n",
        "  return pic\n",
        "\n",
        "@add_method(SentimentAnalyser)\n",
        "def inference(audio):\n",
        "  audio = whisper.load_audio(audio)\n",
        "  audio = whisper.pad_or_trim(audio)\n",
        "\n",
        "  mel = whisper.log_mel_spectrogram(audio).to(sentiment.whisper_model.device)\n",
        "\n",
        "  _, probs = sentiment.whisper_model.detect_language(mel)\n",
        "\n",
        "  options = whisper.DecodingOptions(fp16 = False)\n",
        "  result = whisper.decode(sentiment.whisper_model, mel, options)\n",
        "\n",
        "  print(result.text)\n",
        "  return result.text\n",
        "  \n",
        "@add_method(SentimentAnalyser)\n",
        "def predict_sentiment(input_text, input_audio = None, audio_text_btn = None):\n",
        "  df_out = _predict_sentiment(input_text)\n",
        "  max_column = df_out.loc[0].idxmax()\n",
        "  max_value = df_out.loc[0].max()\n",
        "  title = f'Sentiment Analysis: {max_column}: {round(max_value*100,1)}%'\n",
        "  xlabel= f'Input: {input_text}'\n",
        "  pic = draw_bar_plot(df_out, title=title, xlabel=xlabel)\n",
        "  return pic.get_figure(), df_out.to_json()"
      ]
    },
    {
      "attachments": {},
      "cell_type": "markdown",
      "metadata": {
        "id": "dEHEvrkQk9UP"
      },
      "source": [
        "# Verification"
      ]
    },
    {
      "cell_type": "code",
      "execution_count": null,
      "metadata": {
        "id": "pKod-6DrDRPE"
      },
      "outputs": [],
      "source": [
        "sentences = [\n",
        "    \"I love you more than words can say.\",\n",
        "    \"I'm so in love with you, it makes me feel like I could fly.\",\n",
        "    \"The way you look at me makes my heart melt.\",\n",
        "    \"I can't imagine my life without you.\",\n",
        "    \"You're the love of my life.\",\n",
        "    \"I'm so angry I could spit!\",\n",
        "    \"I'm going to explode!\",\n",
        "    \"How dare you do that to me?\",\n",
        "    \"I'm so furious, I can't even think straight.\",\n",
        "    \"I'm so mad, I could punch a wall.\",\n",
        "    \"I'm so sad, I could cry.\",\n",
        "    \"I feel like my heart is breaking.\",\n",
        "    \"I'm so depressed, I don't know what to do.\",\n",
        "    \"I'm so lonely, I could die.\",\n",
        "    \"I'm so sad, I just want to curl up in a ball and disappear.\",\n",
        "    \"I'm so happy, I could burst!\",\n",
        "    \"I'm so excited, I can't sit still.\",\n",
        "    \"I'm so thrilled, I could scream.\",\n",
        "    \"I'm so happy, I could kiss the world.\",\n",
        "    \"I'm so joyful, I could dance all day.\",\n",
        "    \"I'm so surprised, I don't know what to say.\",\n",
        "    \"I'm so shocked, I think I'm going to faint.\",\n",
        "    \"I'm so surprised, I'm speechless.\",\n",
        "    \"I'm so surprised, I could cry.\",\n",
        "    \"I'm so surprised, I'm going to need a minute to process this.\",\n",
        "    \"I'm so scared, I can't breathe.\",\n",
        "    \"I'm so afraid, I'm shaking.\",\n",
        "    \"I'm so terrified, I think I'm going to pass out.\",\n",
        "    \"I'm so scared, I don't know what to do.\",\n",
        "    \"I'm so afraid, I'm going to die.\",\n",
        "    \"She is scared\",\n",
        "]"
      ]
    },
    {
      "cell_type": "code",
      "execution_count": 23,
      "metadata": {
        "colab": {
          "base_uri": "https://localhost:8080/",
          "height": 466
        },
        "id": "hxI7sZ9iJghY",
        "outputId": "8496564e-06b7-4f5f-890a-67695af463be"
      },
      "outputs": [
        {
          "data": {
            "image/png": "[encoded data removed]",
            "text/plain": [
              "<Figure size 640x480 with 1 Axes>"
            ]
          },
          "metadata": {},
          "output_type": "display_data"
        }
      ],
      "source": [
        "# x,y = predict_sentiment(\"\"\"Predict the emotions as Love, Joy, Surprise, Fear, Sadness, or Anger for the sentence.: I'm so happy, I could burst! \"\"\")\n",
        "x,y = predict_sentiment(\"I hate you.\")"
      ]
    },
    {
      "cell_type": "code",
      "execution_count": null,
      "metadata": {
        "colab": {
          "base_uri": "https://localhost:8080/",
          "height": 538
        },
        "id": "xFEMZyyXdx-o",
        "outputId": "1294fe34-5538-461a-fd05-b43cb9d8ccdd"
      },
      "outputs": [
        {
          "name": "stdout",
          "output_type": "stream",
          "text": [
            "CPU times: user 170 ms, sys: 21.1 ms, total: 191 ms\n",
            "Wall time: 562 ms\n"
          ]
        },
        {
          "data": {
            "application/vnd.google.colaboratory.intrinsic+json": {
              "type": "string"
            },
            "text/plain": [
              "'{\"Love\":{\"0\":0.0052802628},\"Joy\":{\"0\":0.0032730007},\"Surprise\":{\"0\":0.0004067017},\"Fear\":{\"0\":0.0016012036},\"Sadness\":{\"0\":0.0262293909},\"Anger\":{\"0\":0.9632093906}}'"
            ]
          },
          "execution_count": 6,
          "metadata": {},
          "output_type": "execute_result"
        },
        {
          "data": {
            "image/png": "[encoded data removed]",
            "text/plain": [
              "<Figure size 640x480 with 1 Axes>"
            ]
          },
          "metadata": {},
          "output_type": "display_data"
        }
      ],
      "source": [
        "# Test the function\n",
        "%%time\n",
        "for sentence in sentences:\n",
        "    x,y = predict_sentiment(\"\"\"Predict the emotions as Love, Joy, Surprise, Fear, Sadness, or Anger for the sentence.: ${sentence} \"\"\")\n",
        "    print(y)\n",
        "\n",
        "# CPU times: user 5.92 s, sys: 1.13 s, total: 7.05 s\n",
        "# Wall time: 1.85 s"
      ]
    },
    {
      "attachments": {},
      "cell_type": "markdown",
      "metadata": {
        "id": "SAjiy9Hsjk0g"
      },
      "source": [
        "# Gradio UI"
      ]
    },
    {
      "cell_type": "code",
      "execution_count": null,
      "metadata": {
        "id": "yjnkFHTrb4n_"
      },
      "outputs": [],
      "source": [
        "!pip install gradio"
      ]
    },
    {
      "cell_type": "code",
      "execution_count": 27,
      "metadata": {
        "id": "7d2QElvCjgYU"
      },
      "outputs": [
        {
          "name": "stdout",
          "output_type": "stream",
          "text": [
            "Appending to app.py\n"
          ]
        }
      ],
      "source": [
        "# %%writefile -a app.py\n",
        "\n",
        "import gradio\n",
        "whisper_audio = gradio.Audio(label=\"Audio Input\",\n",
        "                    source=\"microphone\",\n",
        "                    type=\"filepath\")\n",
        "whisper_button = gradio.Button(\"Convert Audio to Text\")\n",
        "input_text = gradio.Textbox(lines=1, label=\"Text Input\", placeholder=\"type text here\")\n",
        "\n",
        "in_box = [input_text,whisper_audio,whisper_button]\n",
        "out_box = [gradio.Plot(label=\"Sentiment Score:\"),\n",
        "  gradio.Textbox(lines=4, label=\"Raw JSON Response:\")]\n",
        "\n",
        "title = \"Sentiment Analysis: Understanding the Emotional Tone of Text\"\n",
        "desc = \"Sentiment analysis is a powerful tool that can be used to gain insights into how people feel about the world around them.\"\n",
        "exp = [\n",
        "  ['I am feeling very bad today.'],\n",
        "  ['I hate to swim early morning.']\n",
        " ]\n",
        "arti= \"<b>DistilBERT is 27 times faster than OpenAI, making it the clear winner for speed-sensitive applications.</b>\\n\\nWe did a comparision of OpenAI vs DestilBert model (which we are currently using in this space) by running 31 sentences in a loop and found DestilBert is 27 times faster than OpenAI.\""
      ]
    },
    {
      "cell_type": "code",
      "execution_count": 28,
      "metadata": {
        "colab": {
          "base_uri": "https://localhost:8080/"
        },
        "id": "KQGYXCDIjuR4",
        "outputId": "a3db3e9e-a939-4e52-f2c8-3d8da2d5a6a0"
      },
      "outputs": [
        {
          "name": "stdout",
          "output_type": "stream",
          "text": [
            "Appending to app.py\n"
          ]
        }
      ],
      "source": [
        "# %%writefile -a app.py\n",
        "\n",
        "with gradio.Interface(fn=predict_sentiment,\n",
        "  inputs=in_box,\n",
        "  outputs=out_box,\n",
        "  title=title,\n",
        "  description=desc,\n",
        "  examples=exp,\n",
        "  article=arti) as demo:\n",
        "    with gradio.Blocks() as block:\n",
        "      whisper_button.click(inference, inputs=[whisper_audio], outputs=[input_text])\n",
        "demo.launch(debug=True)\n"
      ]
    },
    {
      "attachments": {},
      "cell_type": "markdown",
      "metadata": {
        "id": "Nc-35HJklHRx"
      },
      "source": [
        "# Uploading to Hugging face"
      ]
    },
    {
      "attachments": {},
      "cell_type": "markdown",
      "metadata": {
        "id": "tWeohUlenFy4"
      },
      "source": [
        "## Create requirment.txt"
      ]
    },
    {
      "cell_type": "code",
      "execution_count": 29,
      "metadata": {
        "id": "Qhf1njPCnKTs"
      },
      "outputs": [],
      "source": [
        "# create the requirements.txt file\n",
        "txt = [\"huggingface_hub\", \"torch\",\n",
        "  \"transformers\", \"scipy\", \"gradio\", \"cryptography\", \"psutil\", \"git+https://github.com/openai/whisper.git\"]\n",
        "sentiment.utility.write_file(\"requirements.txt\", txt)"
      ]
    },
    {
      "cell_type": "code",
      "execution_count": 30,
      "metadata": {
        "colab": {
          "base_uri": "https://localhost:8080/"
        },
        "id": "yVt59QhHnEv8",
        "outputId": "9a18fd00-c170-4f6b-c5d8-116bbdb002cd"
      },
      "outputs": [
        {
          "name": "stdout",
          "output_type": "stream",
          "text": [
            "huggingface/tokenizers: The current process just got forked, after parallelism has already been used. Disabling parallelism to avoid deadlocks...\n",
            "To disable this warning, you can either:\n",
            "\t- Avoid using `tokenizers` before the fork if possible\n",
            "\t- Explicitly set the environment variable TOKENIZERS_PARALLELISM=(true | false)\n",
            "1149.22s - pydevd: Sending message related to process being replaced timed-out after 5 seconds\n",
            "huggingface_hub\n",
            "torch\n",
            "transformers\n",
            "scipy\n",
            "gradio\n",
            "cryptography\n",
            "psutil\n",
            "git+https://github.com/openai/whisper.git"
          ]
        }
      ],
      "source": [
        "# optional double check it\n",
        "!cat requirements.txt"
      ]
    },
    {
      "cell_type": "code",
      "execution_count": 34,
      "metadata": {
        "id": "x9BFQpGKlNui"
      },
      "outputs": [],
      "source": [
        "sentiment.hface_space = 'GirishKiran/sentiment'\n",
        "up_files = [\"./app.py\", \"./requirements.txt\"]\n",
        "sentiment.utility.push_hface_files(up_files, hf_space=sentiment.hface_space, local_dir='')"
      ]
    },
    {
      "attachments": {},
      "cell_type": "markdown",
      "metadata": {
        "id": "MiRGb1dsUNSa"
      },
      "source": [
        "# API"
      ]
    },
    {
      "attachments": {},
      "cell_type": "markdown",
      "metadata": {
        "id": "F1ad9UceVxho"
      },
      "source": [
        "## Post"
      ]
    },
    {
      "cell_type": "code",
      "execution_count": null,
      "metadata": {
        "colab": {
          "base_uri": "https://localhost:8080/"
        },
        "id": "6wPLAdm0V1Pe",
        "outputId": "87faaa3f-6cb5-48c0-d62e-130ea8b744e8"
      },
      "outputs": [
        {
          "name": "stdout",
          "output_type": "stream",
          "text": [
            "{\"Sadness\":{\"0\":0.0234352797},\"Joy\":{\"0\":0.1141998619},\"Love\":{\"0\":0.0036023685},\"Anger\":{\"0\":0.0805795714},\"Fear\":{\"0\":0.7764459848},\"Surprise\":{\"0\":0.0017369982}}\n"
          ]
        }
      ],
      "source": [
        "import requests\n",
        "\n",
        "end_point = 'https://girishkiran-sentiment.hf.space/run/predict'\n",
        "response = requests.post(end_point, json={\n",
        "  \"data\": [\n",
        "    \"I hate to swim early morning.\",\n",
        "]}).json()\n",
        "\n",
        "data = response[\"data\"]\n",
        "print(data[1])"
      ]
    },
    {
      "attachments": {},
      "cell_type": "markdown",
      "metadata": {
        "id": "xeDmMW6qVCl9"
      },
      "source": [
        "## Python"
      ]
    },
    {
      "cell_type": "code",
      "execution_count": null,
      "metadata": {
        "id": "JtL0m8BZURtv"
      },
      "outputs": [],
      "source": [
        "!pip install gradio_client"
      ]
    },
    {
      "cell_type": "code",
      "execution_count": null,
      "metadata": {
        "colab": {
          "base_uri": "https://localhost:8080/"
        },
        "id": "JurVntGtUWR4",
        "outputId": "80aa2be5-6375-452b-9ff1-5869ebdc3ee6"
      },
      "outputs": [
        {
          "name": "stdout",
          "output_type": "stream",
          "text": [
            "Loaded as API: https://girishkiran-sentiment.hf.space/ ✔\n",
            "{\"Sadness\":{\"0\":0.0151823629},\"Joy\":{\"0\":0.1143344864},\"Love\":{\"0\":0.0031632562},\"Anger\":{\"0\":0.7523047328},\"Fear\":{\"0\":0.0804230794},\"Surprise\":{\"0\":0.0345920473}}\n"
          ]
        }
      ],
      "source": [
        "from gradio_client import Client\n",
        "\n",
        "client = Client(\"https://girishkiran-sentiment.hf.space/\")\n",
        "result = client.predict(\n",
        "\t\t\t\t\"I hate to swim early morning.\",\n",
        "\t\t\t\tapi_name=\"/predict\"\n",
        ")\n",
        "print(result[1])\n"
      ]
    },
    {
      "attachments": {},
      "cell_type": "markdown",
      "metadata": {
        "id": "Jg8LHuRGwQ3E"
      },
      "source": [
        "# Scratch pad"
      ]
    },
    {
      "cell_type": "code",
      "execution_count": null,
      "metadata": {
        "id": "cuLQYO05km6k"
      },
      "outputs": [],
      "source": [
        "import gradio\n",
        "\n",
        "md='models/bhadresh-savani/distilbert-base-uncased-emotion'\n",
        "t='Maggie: YML Hackathon Image Generation'\n",
        "d='This space is for the YML Hackathon. The API link is on the bottom of the page.'\n",
        "a = f'Note: The underline model is the Stable Diffusion: {md}'\n",
        "gradio.load(md,title=t,description=d,article=a).launch(share=True)"
      ]
    },
    {
      "attachments": {},
      "cell_type": "markdown",
      "metadata": {
        "id": "isF9ieSxAFUH"
      },
      "source": [
        "##  OpenAI"
      ]
    },
    {
      "cell_type": "code",
      "execution_count": null,
      "metadata": {
        "id": "BKqWCSzHAUeM"
      },
      "outputs": [],
      "source": [
        "!pip install openai\n",
        "!pip install xformers\n",
        "!pip install line_profiler"
      ]
    },
    {
      "cell_type": "code",
      "execution_count": null,
      "metadata": {
        "colab": {
          "base_uri": "https://localhost:8080/"
        },
        "id": "lN7L2l4qAXCD",
        "outputId": "70a3a8e4-93f3-4ac2-e9d4-5301d1050602"
      },
      "outputs": [
        {
          "name": "stdout",
          "output_type": "stream",
          "text": [
            "b'gAAAAABklYjgIeYBFYqhAR9jPNoyMpXAGgIIrJbJZzge54N4Yf3maIHDgBNuthZbc6cZrdISWp1XmuaoCdWYkmAdHWGuDIJuPd7oQpLt-EuvhYINv-ti_EXCAc3-3zVTQ5zpsP-9pHqn8grcRkzQvAlewbsVbUAaFw=='\n"
          ]
        }
      ],
      "source": [
        "import openai\n",
        "\n",
        "openai.api_key = sentiment.utility._decrypt_it(\"key-goes-here\")\n"
      ]
    },
    {
      "cell_type": "code",
      "execution_count": null,
      "metadata": {
        "colab": {
          "base_uri": "https://localhost:8080/",
          "height": 149
        },
        "id": "u09JaHbb9Wwi",
        "outputId": "b1714afa-46f2-4b45-893f-0b96dc9e52be"
      },
      "outputs": [
        {
          "ename": "NameError",
          "evalue": "ignored",
          "output_type": "error",
          "traceback": [
            "\u001b[0;31m---------------------------------------------------------------------------\u001b[0m",
            "\u001b[0;31mNameError\u001b[0m                                 Traceback (most recent call last)",
            "\u001b[0;32m<timed exec>\u001b[0m in \u001b[0;36m<module>\u001b[0;34m\u001b[0m\n",
            "\u001b[0;31mNameError\u001b[0m: name 'openai' is not defined"
          ]
        }
      ],
      "source": [
        "%%time\n",
        "for sentence in sentences:\n",
        "    response = openai.Completion.create(\n",
        "        engine=\"text-davinci-003\",\n",
        "        prompt= \"\"\"Predict the emotions as Love, Joy, Surprise, Fear, Sadness, or Anger for the sentence.: ${sentence} \"\"\"\n",
        "    )\n",
        "\n",
        "    # Print the generated text\n",
        "    print(response[\"choices\"][0][\"text\"])\n",
        "\n",
        "# CPU times: user 179 ms, sys: 60.9 ms, total: 240 ms\n",
        "# Wall time: 50.9 s"
      ]
    },
    {
      "cell_type": "code",
      "execution_count": null,
      "metadata": {
        "colab": {
          "base_uri": "https://localhost:8080/"
        },
        "id": "hg236CARb4va",
        "outputId": "0305f35a-dc14-4641-8a88-257b4f97ea0d"
      },
      "outputs": [
        {
          "name": "stderr",
          "output_type": "stream",
          "text": [
            "/usr/local/lib/python3.10/dist-packages/transformers/pipelines/text_classification.py:104: UserWarning: `return_all_scores` is now deprecated,  if want a similar funcionality use `top_k=None` instead of `return_all_scores=True` or `top_k=1` instead of `return_all_scores=False`.\n",
            "  warnings.warn(\n",
            "Xformers is not installed correctly. If you want to use memory_efficient_attention to accelerate training use the following command to install Xformers\n",
            "pip install xformers.\n"
          ]
        },
        {
          "name": "stdout",
          "output_type": "stream",
          "text": [
            "[[{'label': 'sadness', 'score': 0.026229390874505043}, {'label': 'joy', 'score': 0.00327300070784986}, {'label': 'love', 'score': 0.005280262790620327}, {'label': 'anger', 'score': 0.9632093906402588}, {'label': 'fear', 'score': 0.001601203577592969}, {'label': 'surprise', 'score': 0.00040670172893442214}]]\n"
          ]
        }
      ],
      "source": [
        "# Print classifiers like Joy, Anger , Sad , etc\n",
        "from transformers import pipeline\n",
        "classifier = pipeline(\"text-classification\",model='bhadresh-savani/distilbert-base-uncased-emotion', return_all_scores=True)\n",
        "prediction = classifier(\"ahhh, i hate you.\", )\n",
        "print(prediction)"
      ]
    }
  ],
  "metadata": {
    "colab": {
      "authorship_tag": "ABX9TyO2aAG2GDDlEaws1AIGCNef",
      "collapsed_sections": [
        "dEHEvrkQk9UP",
        "SAjiy9Hsjk0g",
        "Nc-35HJklHRx",
        "tWeohUlenFy4",
        "Jg8LHuRGwQ3E"
      ],
      "include_colab_link": true,
      "provenance": [],
      "toc_visible": true
    },
    "kernelspec": {
      "display_name": "Python 3",
      "name": "python3"
    },
    "language_info": {
      "codemirror_mode": {
        "name": "ipython",
        "version": 3
      },
      "file_extension": ".py",
      "mimetype": "text/x-python",
      "name": "python",
      "nbconvert_exporter": "python",
      "pygments_lexer": "ipython3",
      "version": "3.11.4"
    },
    "widgets": {
      "application/vnd.jupyter.widget-state+json": {
        "008d6e4825ea48dc8cfa6ded03f88cb1": {
          "model_module": "@jupyter-widgets/base",
          "model_module_version": "1.2.0",
          "model_name": "LayoutModel",
          "state": {
            "_model_module": "@jupyter-widgets/base",
            "_model_module_version": "1.2.0",
            "_model_name": "LayoutModel",
            "_view_count": null,
            "_view_module": "@jupyter-widgets/base",
            "_view_module_version": "1.2.0",
            "_view_name": "LayoutView",
            "align_content": null,
            "align_items": null,
            "align_self": null,
            "border": null,
            "bottom": null,
            "display": null,
            "flex": null,
            "flex_flow": null,
            "grid_area": null,
            "grid_auto_columns": null,
            "grid_auto_flow": null,
            "grid_auto_rows": null,
            "grid_column": null,
            "grid_gap": null,
            "grid_row": null,
            "grid_template_areas": null,
            "grid_template_columns": null,
            "grid_template_rows": null,
            "height": null,
            "justify_content": null,
            "justify_items": null,
            "left": null,
            "margin": null,
            "max_height": null,
            "max_width": null,
            "min_height": null,
            "min_width": null,
            "object_fit": null,
            "object_position": null,
            "order": null,
            "overflow": null,
            "overflow_x": null,
            "overflow_y": null,
            "padding": null,
            "right": null,
            "top": null,
            "visibility": null,
            "width": null
          }
        },
        "07145a523c0245c68e4b6ddcdc6fb31c": {
          "model_module": "@jupyter-widgets/controls",
          "model_module_version": "1.5.0",
          "model_name": "DescriptionStyleModel",
          "state": {
            "_model_module": "@jupyter-widgets/controls",
            "_model_module_version": "1.5.0",
            "_model_name": "DescriptionStyleModel",
            "_view_count": null,
            "_view_module": "@jupyter-widgets/base",
            "_view_module_version": "1.2.0",
            "_view_name": "StyleView",
            "description_width": ""
          }
        },
        "11fa064e1e2d4cb4a8831aeec986e68a": {
          "model_module": "@jupyter-widgets/base",
          "model_module_version": "1.2.0",
          "model_name": "LayoutModel",
          "state": {
            "_model_module": "@jupyter-widgets/base",
            "_model_module_version": "1.2.0",
            "_model_name": "LayoutModel",
            "_view_count": null,
            "_view_module": "@jupyter-widgets/base",
            "_view_module_version": "1.2.0",
            "_view_name": "LayoutView",
            "align_content": null,
            "align_items": null,
            "align_self": null,
            "border": null,
            "bottom": null,
            "display": null,
            "flex": null,
            "flex_flow": null,
            "grid_area": null,
            "grid_auto_columns": null,
            "grid_auto_flow": null,
            "grid_auto_rows": null,
            "grid_column": null,
            "grid_gap": null,
            "grid_row": null,
            "grid_template_areas": null,
            "grid_template_columns": null,
            "grid_template_rows": null,
            "height": null,
            "justify_content": null,
            "justify_items": null,
            "left": null,
            "margin": null,
            "max_height": null,
            "max_width": null,
            "min_height": null,
            "min_width": null,
            "object_fit": null,
            "object_position": null,
            "order": null,
            "overflow": null,
            "overflow_x": null,
            "overflow_y": null,
            "padding": null,
            "right": null,
            "top": null,
            "visibility": null,
            "width": null
          }
        },
        "13ef164e30604365afacf22e818d79de": {
          "model_module": "@jupyter-widgets/base",
          "model_module_version": "1.2.0",
          "model_name": "LayoutModel",
          "state": {
            "_model_module": "@jupyter-widgets/base",
            "_model_module_version": "1.2.0",
            "_model_name": "LayoutModel",
            "_view_count": null,
            "_view_module": "@jupyter-widgets/base",
            "_view_module_version": "1.2.0",
            "_view_name": "LayoutView",
            "align_content": null,
            "align_items": null,
            "align_self": null,
            "border": null,
            "bottom": null,
            "display": null,
            "flex": null,
            "flex_flow": null,
            "grid_area": null,
            "grid_auto_columns": null,
            "grid_auto_flow": null,
            "grid_auto_rows": null,
            "grid_column": null,
            "grid_gap": null,
            "grid_row": null,
            "grid_template_areas": null,
            "grid_template_columns": null,
            "grid_template_rows": null,
            "height": null,
            "justify_content": null,
            "justify_items": null,
            "left": null,
            "margin": null,
            "max_height": null,
            "max_width": null,
            "min_height": null,
            "min_width": null,
            "object_fit": null,
            "object_position": null,
            "order": null,
            "overflow": null,
            "overflow_x": null,
            "overflow_y": null,
            "padding": null,
            "right": null,
            "top": null,
            "visibility": null,
            "width": null
          }
        },
        "14dee8d38a314932b927754d2c1c33b9": {
          "model_module": "@jupyter-widgets/controls",
          "model_module_version": "1.5.0",
          "model_name": "DescriptionStyleModel",
          "state": {
            "_model_module": "@jupyter-widgets/controls",
            "_model_module_version": "1.5.0",
            "_model_name": "DescriptionStyleModel",
            "_view_count": null,
            "_view_module": "@jupyter-widgets/base",
            "_view_module_version": "1.2.0",
            "_view_name": "StyleView",
            "description_width": ""
          }
        },
        "16580ad725cc4549a3faf9e6d1d1df2a": {
          "model_module": "@jupyter-widgets/controls",
          "model_module_version": "1.5.0",
          "model_name": "HTMLModel",
          "state": {
            "_dom_classes": [],
            "_model_module": "@jupyter-widgets/controls",
            "_model_module_version": "1.5.0",
            "_model_name": "HTMLModel",
            "_view_count": null,
            "_view_module": "@jupyter-widgets/controls",
            "_view_module_version": "1.5.0",
            "_view_name": "HTMLView",
            "description": "",
            "description_tooltip": null,
            "layout": "IPY_MODEL_4b92ebb5c5ef4125bb37be1ead32d29b",
            "placeholder": "​",
            "style": "IPY_MODEL_41902284a1914a9a8cd2731b8b3727e6",
            "value": " 112/112 [00:00&lt;00:00, 1.63kB/s]"
          }
        },
        "166e0b1a41224c92860d110110265649": {
          "model_module": "@jupyter-widgets/controls",
          "model_module_version": "1.5.0",
          "model_name": "HTMLModel",
          "state": {
            "_dom_classes": [],
            "_model_module": "@jupyter-widgets/controls",
            "_model_module_version": "1.5.0",
            "_model_name": "HTMLModel",
            "_view_count": null,
            "_view_module": "@jupyter-widgets/controls",
            "_view_module_version": "1.5.0",
            "_view_name": "HTMLView",
            "description": "",
            "description_tooltip": null,
            "layout": "IPY_MODEL_e2d5349acfc849c8a26a1d3df9c3f102",
            "placeholder": "​",
            "style": "IPY_MODEL_fd3e53c49cdd4578ba27ba21e5af8264",
            "value": "Downloading pytorch_model.bin: 100%"
          }
        },
        "1a430de2ce7f4ec7913b371d67aa5ede": {
          "model_module": "@jupyter-widgets/controls",
          "model_module_version": "1.5.0",
          "model_name": "HTMLModel",
          "state": {
            "_dom_classes": [],
            "_model_module": "@jupyter-widgets/controls",
            "_model_module_version": "1.5.0",
            "_model_name": "HTMLModel",
            "_view_count": null,
            "_view_module": "@jupyter-widgets/controls",
            "_view_module_version": "1.5.0",
            "_view_name": "HTMLView",
            "description": "",
            "description_tooltip": null,
            "layout": "IPY_MODEL_686d3d277a044f44952508ea299ea0dd",
            "placeholder": "​",
            "style": "IPY_MODEL_92eefbff0c1c4f8ab804a7d1008602b6",
            "value": " 768/768 [00:00&lt;00:00, 34.1kB/s]"
          }
        },
        "1ac889e3e9254144975b5e3bf0cd1c9f": {
          "model_module": "@jupyter-widgets/controls",
          "model_module_version": "1.5.0",
          "model_name": "DescriptionStyleModel",
          "state": {
            "_model_module": "@jupyter-widgets/controls",
            "_model_module_version": "1.5.0",
            "_model_name": "DescriptionStyleModel",
            "_view_count": null,
            "_view_module": "@jupyter-widgets/base",
            "_view_module_version": "1.2.0",
            "_view_name": "StyleView",
            "description_width": ""
          }
        },
        "2245504957234adda09367a4dc1adba1": {
          "model_module": "@jupyter-widgets/base",
          "model_module_version": "1.2.0",
          "model_name": "LayoutModel",
          "state": {
            "_model_module": "@jupyter-widgets/base",
            "_model_module_version": "1.2.0",
            "_model_name": "LayoutModel",
            "_view_count": null,
            "_view_module": "@jupyter-widgets/base",
            "_view_module_version": "1.2.0",
            "_view_name": "LayoutView",
            "align_content": null,
            "align_items": null,
            "align_self": null,
            "border": null,
            "bottom": null,
            "display": null,
            "flex": null,
            "flex_flow": null,
            "grid_area": null,
            "grid_auto_columns": null,
            "grid_auto_flow": null,
            "grid_auto_rows": null,
            "grid_column": null,
            "grid_gap": null,
            "grid_row": null,
            "grid_template_areas": null,
            "grid_template_columns": null,
            "grid_template_rows": null,
            "height": null,
            "justify_content": null,
            "justify_items": null,
            "left": null,
            "margin": null,
            "max_height": null,
            "max_width": null,
            "min_height": null,
            "min_width": null,
            "object_fit": null,
            "object_position": null,
            "order": null,
            "overflow": null,
            "overflow_x": null,
            "overflow_y": null,
            "padding": null,
            "right": null,
            "top": null,
            "visibility": null,
            "width": null
          }
        },
        "249de39ebcf042b4b72636c1ab3cfdfa": {
          "model_module": "@jupyter-widgets/controls",
          "model_module_version": "1.5.0",
          "model_name": "HTMLModel",
          "state": {
            "_dom_classes": [],
            "_model_module": "@jupyter-widgets/controls",
            "_model_module_version": "1.5.0",
            "_model_name": "HTMLModel",
            "_view_count": null,
            "_view_module": "@jupyter-widgets/controls",
            "_view_module_version": "1.5.0",
            "_view_name": "HTMLView",
            "description": "",
            "description_tooltip": null,
            "layout": "IPY_MODEL_2245504957234adda09367a4dc1adba1",
            "placeholder": "​",
            "style": "IPY_MODEL_62e0335fabce4397b4dbe3b688825f04",
            "value": "Downloading (…)cial_tokens_map.json: 100%"
          }
        },
        "2f32228b82174722a1bf4c56ed259124": {
          "model_module": "@jupyter-widgets/controls",
          "model_module_version": "1.5.0",
          "model_name": "ProgressStyleModel",
          "state": {
            "_model_module": "@jupyter-widgets/controls",
            "_model_module_version": "1.5.0",
            "_model_name": "ProgressStyleModel",
            "_view_count": null,
            "_view_module": "@jupyter-widgets/base",
            "_view_module_version": "1.2.0",
            "_view_name": "StyleView",
            "bar_color": null,
            "description_width": ""
          }
        },
        "397b88c441d848d98fa3423544ec6043": {
          "model_module": "@jupyter-widgets/controls",
          "model_module_version": "1.5.0",
          "model_name": "HTMLModel",
          "state": {
            "_dom_classes": [],
            "_model_module": "@jupyter-widgets/controls",
            "_model_module_version": "1.5.0",
            "_model_name": "HTMLModel",
            "_view_count": null,
            "_view_module": "@jupyter-widgets/controls",
            "_view_module_version": "1.5.0",
            "_view_name": "HTMLView",
            "description": "",
            "description_tooltip": null,
            "layout": "IPY_MODEL_78fde79192a446b7908784eebf08d204",
            "placeholder": "​",
            "style": "IPY_MODEL_3a3bb61e5051485289a28fcc8a1da3ca",
            "value": " 268M/268M [00:03&lt;00:00, 83.3MB/s]"
          }
        },
        "3a3bb61e5051485289a28fcc8a1da3ca": {
          "model_module": "@jupyter-widgets/controls",
          "model_module_version": "1.5.0",
          "model_name": "DescriptionStyleModel",
          "state": {
            "_model_module": "@jupyter-widgets/controls",
            "_model_module_version": "1.5.0",
            "_model_name": "DescriptionStyleModel",
            "_view_count": null,
            "_view_module": "@jupyter-widgets/base",
            "_view_module_version": "1.2.0",
            "_view_name": "StyleView",
            "description_width": ""
          }
        },
        "41902284a1914a9a8cd2731b8b3727e6": {
          "model_module": "@jupyter-widgets/controls",
          "model_module_version": "1.5.0",
          "model_name": "DescriptionStyleModel",
          "state": {
            "_model_module": "@jupyter-widgets/controls",
            "_model_module_version": "1.5.0",
            "_model_name": "DescriptionStyleModel",
            "_view_count": null,
            "_view_module": "@jupyter-widgets/base",
            "_view_module_version": "1.2.0",
            "_view_name": "StyleView",
            "description_width": ""
          }
        },
        "46672b314e5e448cb630a07fc07aa54a": {
          "model_module": "@jupyter-widgets/controls",
          "model_module_version": "1.5.0",
          "model_name": "HBoxModel",
          "state": {
            "_dom_classes": [],
            "_model_module": "@jupyter-widgets/controls",
            "_model_module_version": "1.5.0",
            "_model_name": "HBoxModel",
            "_view_count": null,
            "_view_module": "@jupyter-widgets/controls",
            "_view_module_version": "1.5.0",
            "_view_name": "HBoxView",
            "box_style": "",
            "children": [
              "IPY_MODEL_a839298696ef4115bf65c4965d3debc7",
              "IPY_MODEL_a58042d1304442e2831dd3c4f97df052",
              "IPY_MODEL_1a430de2ce7f4ec7913b371d67aa5ede"
            ],
            "layout": "IPY_MODEL_ef3f94e5844448618e202530842ae127"
          }
        },
        "4b92ebb5c5ef4125bb37be1ead32d29b": {
          "model_module": "@jupyter-widgets/base",
          "model_module_version": "1.2.0",
          "model_name": "LayoutModel",
          "state": {
            "_model_module": "@jupyter-widgets/base",
            "_model_module_version": "1.2.0",
            "_model_name": "LayoutModel",
            "_view_count": null,
            "_view_module": "@jupyter-widgets/base",
            "_view_module_version": "1.2.0",
            "_view_name": "LayoutView",
            "align_content": null,
            "align_items": null,
            "align_self": null,
            "border": null,
            "bottom": null,
            "display": null,
            "flex": null,
            "flex_flow": null,
            "grid_area": null,
            "grid_auto_columns": null,
            "grid_auto_flow": null,
            "grid_auto_rows": null,
            "grid_column": null,
            "grid_gap": null,
            "grid_row": null,
            "grid_template_areas": null,
            "grid_template_columns": null,
            "grid_template_rows": null,
            "height": null,
            "justify_content": null,
            "justify_items": null,
            "left": null,
            "margin": null,
            "max_height": null,
            "max_width": null,
            "min_height": null,
            "min_width": null,
            "object_fit": null,
            "object_position": null,
            "order": null,
            "overflow": null,
            "overflow_x": null,
            "overflow_y": null,
            "padding": null,
            "right": null,
            "top": null,
            "visibility": null,
            "width": null
          }
        },
        "4c996411008243b3b9340ead380ce843": {
          "model_module": "@jupyter-widgets/base",
          "model_module_version": "1.2.0",
          "model_name": "LayoutModel",
          "state": {
            "_model_module": "@jupyter-widgets/base",
            "_model_module_version": "1.2.0",
            "_model_name": "LayoutModel",
            "_view_count": null,
            "_view_module": "@jupyter-widgets/base",
            "_view_module_version": "1.2.0",
            "_view_name": "LayoutView",
            "align_content": null,
            "align_items": null,
            "align_self": null,
            "border": null,
            "bottom": null,
            "display": null,
            "flex": null,
            "flex_flow": null,
            "grid_area": null,
            "grid_auto_columns": null,
            "grid_auto_flow": null,
            "grid_auto_rows": null,
            "grid_column": null,
            "grid_gap": null,
            "grid_row": null,
            "grid_template_areas": null,
            "grid_template_columns": null,
            "grid_template_rows": null,
            "height": null,
            "justify_content": null,
            "justify_items": null,
            "left": null,
            "margin": null,
            "max_height": null,
            "max_width": null,
            "min_height": null,
            "min_width": null,
            "object_fit": null,
            "object_position": null,
            "order": null,
            "overflow": null,
            "overflow_x": null,
            "overflow_y": null,
            "padding": null,
            "right": null,
            "top": null,
            "visibility": null,
            "width": null
          }
        },
        "517e1fe4b8394ae0bdabd6c699c732e6": {
          "model_module": "@jupyter-widgets/controls",
          "model_module_version": "1.5.0",
          "model_name": "HBoxModel",
          "state": {
            "_dom_classes": [],
            "_model_module": "@jupyter-widgets/controls",
            "_model_module_version": "1.5.0",
            "_model_name": "HBoxModel",
            "_view_count": null,
            "_view_module": "@jupyter-widgets/controls",
            "_view_module_version": "1.5.0",
            "_view_name": "HBoxView",
            "box_style": "",
            "children": [
              "IPY_MODEL_166e0b1a41224c92860d110110265649",
              "IPY_MODEL_d926f4da106d47cf92105f1c942c412d",
              "IPY_MODEL_397b88c441d848d98fa3423544ec6043"
            ],
            "layout": "IPY_MODEL_76bcef90c5694fd7a8483a539753bd5c"
          }
        },
        "60d65456831841a8b8569b4db1e909cc": {
          "model_module": "@jupyter-widgets/base",
          "model_module_version": "1.2.0",
          "model_name": "LayoutModel",
          "state": {
            "_model_module": "@jupyter-widgets/base",
            "_model_module_version": "1.2.0",
            "_model_name": "LayoutModel",
            "_view_count": null,
            "_view_module": "@jupyter-widgets/base",
            "_view_module_version": "1.2.0",
            "_view_name": "LayoutView",
            "align_content": null,
            "align_items": null,
            "align_self": null,
            "border": null,
            "bottom": null,
            "display": null,
            "flex": null,
            "flex_flow": null,
            "grid_area": null,
            "grid_auto_columns": null,
            "grid_auto_flow": null,
            "grid_auto_rows": null,
            "grid_column": null,
            "grid_gap": null,
            "grid_row": null,
            "grid_template_areas": null,
            "grid_template_columns": null,
            "grid_template_rows": null,
            "height": null,
            "justify_content": null,
            "justify_items": null,
            "left": null,
            "margin": null,
            "max_height": null,
            "max_width": null,
            "min_height": null,
            "min_width": null,
            "object_fit": null,
            "object_position": null,
            "order": null,
            "overflow": null,
            "overflow_x": null,
            "overflow_y": null,
            "padding": null,
            "right": null,
            "top": null,
            "visibility": null,
            "width": "20px"
          }
        },
        "62e0335fabce4397b4dbe3b688825f04": {
          "model_module": "@jupyter-widgets/controls",
          "model_module_version": "1.5.0",
          "model_name": "DescriptionStyleModel",
          "state": {
            "_model_module": "@jupyter-widgets/controls",
            "_model_module_version": "1.5.0",
            "_model_name": "DescriptionStyleModel",
            "_view_count": null,
            "_view_module": "@jupyter-widgets/base",
            "_view_module_version": "1.2.0",
            "_view_name": "StyleView",
            "description_width": ""
          }
        },
        "68008cdf8f5b4243a3f45ba2aefb9502": {
          "model_module": "@jupyter-widgets/base",
          "model_module_version": "1.2.0",
          "model_name": "LayoutModel",
          "state": {
            "_model_module": "@jupyter-widgets/base",
            "_model_module_version": "1.2.0",
            "_model_name": "LayoutModel",
            "_view_count": null,
            "_view_module": "@jupyter-widgets/base",
            "_view_module_version": "1.2.0",
            "_view_name": "LayoutView",
            "align_content": null,
            "align_items": null,
            "align_self": null,
            "border": null,
            "bottom": null,
            "display": null,
            "flex": null,
            "flex_flow": null,
            "grid_area": null,
            "grid_auto_columns": null,
            "grid_auto_flow": null,
            "grid_auto_rows": null,
            "grid_column": null,
            "grid_gap": null,
            "grid_row": null,
            "grid_template_areas": null,
            "grid_template_columns": null,
            "grid_template_rows": null,
            "height": null,
            "justify_content": null,
            "justify_items": null,
            "left": null,
            "margin": null,
            "max_height": null,
            "max_width": null,
            "min_height": null,
            "min_width": null,
            "object_fit": null,
            "object_position": null,
            "order": null,
            "overflow": null,
            "overflow_x": null,
            "overflow_y": null,
            "padding": null,
            "right": null,
            "top": null,
            "visibility": null,
            "width": null
          }
        },
        "686d3d277a044f44952508ea299ea0dd": {
          "model_module": "@jupyter-widgets/base",
          "model_module_version": "1.2.0",
          "model_name": "LayoutModel",
          "state": {
            "_model_module": "@jupyter-widgets/base",
            "_model_module_version": "1.2.0",
            "_model_name": "LayoutModel",
            "_view_count": null,
            "_view_module": "@jupyter-widgets/base",
            "_view_module_version": "1.2.0",
            "_view_name": "LayoutView",
            "align_content": null,
            "align_items": null,
            "align_self": null,
            "border": null,
            "bottom": null,
            "display": null,
            "flex": null,
            "flex_flow": null,
            "grid_area": null,
            "grid_auto_columns": null,
            "grid_auto_flow": null,
            "grid_auto_rows": null,
            "grid_column": null,
            "grid_gap": null,
            "grid_row": null,
            "grid_template_areas": null,
            "grid_template_columns": null,
            "grid_template_rows": null,
            "height": null,
            "justify_content": null,
            "justify_items": null,
            "left": null,
            "margin": null,
            "max_height": null,
            "max_width": null,
            "min_height": null,
            "min_width": null,
            "object_fit": null,
            "object_position": null,
            "order": null,
            "overflow": null,
            "overflow_x": null,
            "overflow_y": null,
            "padding": null,
            "right": null,
            "top": null,
            "visibility": null,
            "width": null
          }
        },
        "68b1231d244c4f8781df27a6ef29825b": {
          "model_module": "@jupyter-widgets/controls",
          "model_module_version": "1.5.0",
          "model_name": "HBoxModel",
          "state": {
            "_dom_classes": [],
            "_model_module": "@jupyter-widgets/controls",
            "_model_module_version": "1.5.0",
            "_model_name": "HBoxModel",
            "_view_count": null,
            "_view_module": "@jupyter-widgets/controls",
            "_view_module_version": "1.5.0",
            "_view_name": "HBoxView",
            "box_style": "",
            "children": [
              "IPY_MODEL_d1fdbbd4f99c48149e7f653388a36587",
              "IPY_MODEL_cc2cd36b63844edc9f6f39f0514be10a",
              "IPY_MODEL_8a79a2f4ec494a02b39671edd348696a"
            ],
            "layout": "IPY_MODEL_11fa064e1e2d4cb4a8831aeec986e68a"
          }
        },
        "76bcef90c5694fd7a8483a539753bd5c": {
          "model_module": "@jupyter-widgets/base",
          "model_module_version": "1.2.0",
          "model_name": "LayoutModel",
          "state": {
            "_model_module": "@jupyter-widgets/base",
            "_model_module_version": "1.2.0",
            "_model_name": "LayoutModel",
            "_view_count": null,
            "_view_module": "@jupyter-widgets/base",
            "_view_module_version": "1.2.0",
            "_view_name": "LayoutView",
            "align_content": null,
            "align_items": null,
            "align_self": null,
            "border": null,
            "bottom": null,
            "display": null,
            "flex": null,
            "flex_flow": null,
            "grid_area": null,
            "grid_auto_columns": null,
            "grid_auto_flow": null,
            "grid_auto_rows": null,
            "grid_column": null,
            "grid_gap": null,
            "grid_row": null,
            "grid_template_areas": null,
            "grid_template_columns": null,
            "grid_template_rows": null,
            "height": null,
            "justify_content": null,
            "justify_items": null,
            "left": null,
            "margin": null,
            "max_height": null,
            "max_width": null,
            "min_height": null,
            "min_width": null,
            "object_fit": null,
            "object_position": null,
            "order": null,
            "overflow": null,
            "overflow_x": null,
            "overflow_y": null,
            "padding": null,
            "right": null,
            "top": null,
            "visibility": null,
            "width": null
          }
        },
        "78fde79192a446b7908784eebf08d204": {
          "model_module": "@jupyter-widgets/base",
          "model_module_version": "1.2.0",
          "model_name": "LayoutModel",
          "state": {
            "_model_module": "@jupyter-widgets/base",
            "_model_module_version": "1.2.0",
            "_model_name": "LayoutModel",
            "_view_count": null,
            "_view_module": "@jupyter-widgets/base",
            "_view_module_version": "1.2.0",
            "_view_name": "LayoutView",
            "align_content": null,
            "align_items": null,
            "align_self": null,
            "border": null,
            "bottom": null,
            "display": null,
            "flex": null,
            "flex_flow": null,
            "grid_area": null,
            "grid_auto_columns": null,
            "grid_auto_flow": null,
            "grid_auto_rows": null,
            "grid_column": null,
            "grid_gap": null,
            "grid_row": null,
            "grid_template_areas": null,
            "grid_template_columns": null,
            "grid_template_rows": null,
            "height": null,
            "justify_content": null,
            "justify_items": null,
            "left": null,
            "margin": null,
            "max_height": null,
            "max_width": null,
            "min_height": null,
            "min_width": null,
            "object_fit": null,
            "object_position": null,
            "order": null,
            "overflow": null,
            "overflow_x": null,
            "overflow_y": null,
            "padding": null,
            "right": null,
            "top": null,
            "visibility": null,
            "width": null
          }
        },
        "8879b96cfefe436eb1476a6530399bce": {
          "model_module": "@jupyter-widgets/base",
          "model_module_version": "1.2.0",
          "model_name": "LayoutModel",
          "state": {
            "_model_module": "@jupyter-widgets/base",
            "_model_module_version": "1.2.0",
            "_model_name": "LayoutModel",
            "_view_count": null,
            "_view_module": "@jupyter-widgets/base",
            "_view_module_version": "1.2.0",
            "_view_name": "LayoutView",
            "align_content": null,
            "align_items": null,
            "align_self": null,
            "border": null,
            "bottom": null,
            "display": null,
            "flex": null,
            "flex_flow": null,
            "grid_area": null,
            "grid_auto_columns": null,
            "grid_auto_flow": null,
            "grid_auto_rows": null,
            "grid_column": null,
            "grid_gap": null,
            "grid_row": null,
            "grid_template_areas": null,
            "grid_template_columns": null,
            "grid_template_rows": null,
            "height": null,
            "justify_content": null,
            "justify_items": null,
            "left": null,
            "margin": null,
            "max_height": null,
            "max_width": null,
            "min_height": null,
            "min_width": null,
            "object_fit": null,
            "object_position": null,
            "order": null,
            "overflow": null,
            "overflow_x": null,
            "overflow_y": null,
            "padding": null,
            "right": null,
            "top": null,
            "visibility": null,
            "width": null
          }
        },
        "8a79a2f4ec494a02b39671edd348696a": {
          "model_module": "@jupyter-widgets/controls",
          "model_module_version": "1.5.0",
          "model_name": "HTMLModel",
          "state": {
            "_dom_classes": [],
            "_model_module": "@jupyter-widgets/controls",
            "_model_module_version": "1.5.0",
            "_model_name": "HTMLModel",
            "_view_count": null,
            "_view_module": "@jupyter-widgets/controls",
            "_view_module_version": "1.5.0",
            "_view_name": "HTMLView",
            "description": "",
            "description_tooltip": null,
            "layout": "IPY_MODEL_4c996411008243b3b9340ead380ce843",
            "placeholder": "​",
            "style": "IPY_MODEL_1ac889e3e9254144975b5e3bf0cd1c9f",
            "value": " 232k/? [00:00&lt;00:00, 1.06MB/s]"
          }
        },
        "8ccb9f14b7084060b09455dbde3437b9": {
          "model_module": "@jupyter-widgets/controls",
          "model_module_version": "1.5.0",
          "model_name": "HBoxModel",
          "state": {
            "_dom_classes": [],
            "_model_module": "@jupyter-widgets/controls",
            "_model_module_version": "1.5.0",
            "_model_name": "HBoxModel",
            "_view_count": null,
            "_view_module": "@jupyter-widgets/controls",
            "_view_module_version": "1.5.0",
            "_view_name": "HBoxView",
            "box_style": "",
            "children": [
              "IPY_MODEL_cf233a88cce048d1a473c180b3e78455",
              "IPY_MODEL_fb38b032f96641709696b9600a8eb21e",
              "IPY_MODEL_cbf9bdb8c08c457f815f1a497951a920"
            ],
            "layout": "IPY_MODEL_68008cdf8f5b4243a3f45ba2aefb9502"
          }
        },
        "9078399c5cbf4823b11320fa5c22b297": {
          "model_module": "@jupyter-widgets/controls",
          "model_module_version": "1.5.0",
          "model_name": "ProgressStyleModel",
          "state": {
            "_model_module": "@jupyter-widgets/controls",
            "_model_module_version": "1.5.0",
            "_model_name": "ProgressStyleModel",
            "_view_count": null,
            "_view_module": "@jupyter-widgets/base",
            "_view_module_version": "1.2.0",
            "_view_name": "StyleView",
            "bar_color": null,
            "description_width": ""
          }
        },
        "917705b4c51448069c9db6f782b5383b": {
          "model_module": "@jupyter-widgets/base",
          "model_module_version": "1.2.0",
          "model_name": "LayoutModel",
          "state": {
            "_model_module": "@jupyter-widgets/base",
            "_model_module_version": "1.2.0",
            "_model_name": "LayoutModel",
            "_view_count": null,
            "_view_module": "@jupyter-widgets/base",
            "_view_module_version": "1.2.0",
            "_view_name": "LayoutView",
            "align_content": null,
            "align_items": null,
            "align_self": null,
            "border": null,
            "bottom": null,
            "display": null,
            "flex": null,
            "flex_flow": null,
            "grid_area": null,
            "grid_auto_columns": null,
            "grid_auto_flow": null,
            "grid_auto_rows": null,
            "grid_column": null,
            "grid_gap": null,
            "grid_row": null,
            "grid_template_areas": null,
            "grid_template_columns": null,
            "grid_template_rows": null,
            "height": null,
            "justify_content": null,
            "justify_items": null,
            "left": null,
            "margin": null,
            "max_height": null,
            "max_width": null,
            "min_height": null,
            "min_width": null,
            "object_fit": null,
            "object_position": null,
            "order": null,
            "overflow": null,
            "overflow_x": null,
            "overflow_y": null,
            "padding": null,
            "right": null,
            "top": null,
            "visibility": null,
            "width": null
          }
        },
        "9273862ea47a410c84a5df265d8fdffb": {
          "model_module": "@jupyter-widgets/base",
          "model_module_version": "1.2.0",
          "model_name": "LayoutModel",
          "state": {
            "_model_module": "@jupyter-widgets/base",
            "_model_module_version": "1.2.0",
            "_model_name": "LayoutModel",
            "_view_count": null,
            "_view_module": "@jupyter-widgets/base",
            "_view_module_version": "1.2.0",
            "_view_name": "LayoutView",
            "align_content": null,
            "align_items": null,
            "align_self": null,
            "border": null,
            "bottom": null,
            "display": null,
            "flex": null,
            "flex_flow": null,
            "grid_area": null,
            "grid_auto_columns": null,
            "grid_auto_flow": null,
            "grid_auto_rows": null,
            "grid_column": null,
            "grid_gap": null,
            "grid_row": null,
            "grid_template_areas": null,
            "grid_template_columns": null,
            "grid_template_rows": null,
            "height": null,
            "justify_content": null,
            "justify_items": null,
            "left": null,
            "margin": null,
            "max_height": null,
            "max_width": null,
            "min_height": null,
            "min_width": null,
            "object_fit": null,
            "object_position": null,
            "order": null,
            "overflow": null,
            "overflow_x": null,
            "overflow_y": null,
            "padding": null,
            "right": null,
            "top": null,
            "visibility": null,
            "width": null
          }
        },
        "92eefbff0c1c4f8ab804a7d1008602b6": {
          "model_module": "@jupyter-widgets/controls",
          "model_module_version": "1.5.0",
          "model_name": "DescriptionStyleModel",
          "state": {
            "_model_module": "@jupyter-widgets/controls",
            "_model_module_version": "1.5.0",
            "_model_name": "DescriptionStyleModel",
            "_view_count": null,
            "_view_module": "@jupyter-widgets/base",
            "_view_module_version": "1.2.0",
            "_view_name": "StyleView",
            "description_width": ""
          }
        },
        "a57d6656d7eb4882b63434aee2f355ea": {
          "model_module": "@jupyter-widgets/controls",
          "model_module_version": "1.5.0",
          "model_name": "DescriptionStyleModel",
          "state": {
            "_model_module": "@jupyter-widgets/controls",
            "_model_module_version": "1.5.0",
            "_model_name": "DescriptionStyleModel",
            "_view_count": null,
            "_view_module": "@jupyter-widgets/base",
            "_view_module_version": "1.2.0",
            "_view_name": "StyleView",
            "description_width": ""
          }
        },
        "a58042d1304442e2831dd3c4f97df052": {
          "model_module": "@jupyter-widgets/controls",
          "model_module_version": "1.5.0",
          "model_name": "FloatProgressModel",
          "state": {
            "_dom_classes": [],
            "_model_module": "@jupyter-widgets/controls",
            "_model_module_version": "1.5.0",
            "_model_name": "FloatProgressModel",
            "_view_count": null,
            "_view_module": "@jupyter-widgets/controls",
            "_view_module_version": "1.5.0",
            "_view_name": "ProgressView",
            "bar_style": "success",
            "description": "",
            "description_tooltip": null,
            "layout": "IPY_MODEL_13ef164e30604365afacf22e818d79de",
            "max": 768,
            "min": 0,
            "orientation": "horizontal",
            "style": "IPY_MODEL_e8ca413f07f2428c8426dbb391ae6c3d",
            "value": 768
          }
        },
        "a839298696ef4115bf65c4965d3debc7": {
          "model_module": "@jupyter-widgets/controls",
          "model_module_version": "1.5.0",
          "model_name": "HTMLModel",
          "state": {
            "_dom_classes": [],
            "_model_module": "@jupyter-widgets/controls",
            "_model_module_version": "1.5.0",
            "_model_name": "HTMLModel",
            "_view_count": null,
            "_view_module": "@jupyter-widgets/controls",
            "_view_module_version": "1.5.0",
            "_view_name": "HTMLView",
            "description": "",
            "description_tooltip": null,
            "layout": "IPY_MODEL_e45694880be2417fa70b853605d0ccec",
            "placeholder": "​",
            "style": "IPY_MODEL_d1071e7afeac473da897f37d10b4b792",
            "value": "Downloading (…)lve/main/config.json: 100%"
          }
        },
        "b2cab4de7a3945c5ad2171b09826185e": {
          "model_module": "@jupyter-widgets/controls",
          "model_module_version": "1.5.0",
          "model_name": "HBoxModel",
          "state": {
            "_dom_classes": [],
            "_model_module": "@jupyter-widgets/controls",
            "_model_module_version": "1.5.0",
            "_model_name": "HBoxModel",
            "_view_count": null,
            "_view_module": "@jupyter-widgets/controls",
            "_view_module_version": "1.5.0",
            "_view_name": "HBoxView",
            "box_style": "",
            "children": [
              "IPY_MODEL_249de39ebcf042b4b72636c1ab3cfdfa",
              "IPY_MODEL_d274eb2885bc45f2941965616a45fcc3",
              "IPY_MODEL_16580ad725cc4549a3faf9e6d1d1df2a"
            ],
            "layout": "IPY_MODEL_b5dfff9ae67f4d83a943050cbaba3127"
          }
        },
        "b4e85014b80c401091c457312bcc84ab": {
          "model_module": "@jupyter-widgets/base",
          "model_module_version": "1.2.0",
          "model_name": "LayoutModel",
          "state": {
            "_model_module": "@jupyter-widgets/base",
            "_model_module_version": "1.2.0",
            "_model_name": "LayoutModel",
            "_view_count": null,
            "_view_module": "@jupyter-widgets/base",
            "_view_module_version": "1.2.0",
            "_view_name": "LayoutView",
            "align_content": null,
            "align_items": null,
            "align_self": null,
            "border": null,
            "bottom": null,
            "display": null,
            "flex": null,
            "flex_flow": null,
            "grid_area": null,
            "grid_auto_columns": null,
            "grid_auto_flow": null,
            "grid_auto_rows": null,
            "grid_column": null,
            "grid_gap": null,
            "grid_row": null,
            "grid_template_areas": null,
            "grid_template_columns": null,
            "grid_template_rows": null,
            "height": null,
            "justify_content": null,
            "justify_items": null,
            "left": null,
            "margin": null,
            "max_height": null,
            "max_width": null,
            "min_height": null,
            "min_width": null,
            "object_fit": null,
            "object_position": null,
            "order": null,
            "overflow": null,
            "overflow_x": null,
            "overflow_y": null,
            "padding": null,
            "right": null,
            "top": null,
            "visibility": null,
            "width": null
          }
        },
        "b5dfff9ae67f4d83a943050cbaba3127": {
          "model_module": "@jupyter-widgets/base",
          "model_module_version": "1.2.0",
          "model_name": "LayoutModel",
          "state": {
            "_model_module": "@jupyter-widgets/base",
            "_model_module_version": "1.2.0",
            "_model_name": "LayoutModel",
            "_view_count": null,
            "_view_module": "@jupyter-widgets/base",
            "_view_module_version": "1.2.0",
            "_view_name": "LayoutView",
            "align_content": null,
            "align_items": null,
            "align_self": null,
            "border": null,
            "bottom": null,
            "display": null,
            "flex": null,
            "flex_flow": null,
            "grid_area": null,
            "grid_auto_columns": null,
            "grid_auto_flow": null,
            "grid_auto_rows": null,
            "grid_column": null,
            "grid_gap": null,
            "grid_row": null,
            "grid_template_areas": null,
            "grid_template_columns": null,
            "grid_template_rows": null,
            "height": null,
            "justify_content": null,
            "justify_items": null,
            "left": null,
            "margin": null,
            "max_height": null,
            "max_width": null,
            "min_height": null,
            "min_width": null,
            "object_fit": null,
            "object_position": null,
            "order": null,
            "overflow": null,
            "overflow_x": null,
            "overflow_y": null,
            "padding": null,
            "right": null,
            "top": null,
            "visibility": null,
            "width": null
          }
        },
        "cbf9bdb8c08c457f815f1a497951a920": {
          "model_module": "@jupyter-widgets/controls",
          "model_module_version": "1.5.0",
          "model_name": "HTMLModel",
          "state": {
            "_dom_classes": [],
            "_model_module": "@jupyter-widgets/controls",
            "_model_module_version": "1.5.0",
            "_model_name": "HTMLModel",
            "_view_count": null,
            "_view_module": "@jupyter-widgets/controls",
            "_view_module_version": "1.5.0",
            "_view_name": "HTMLView",
            "description": "",
            "description_tooltip": null,
            "layout": "IPY_MODEL_ea1e536f96d448aca9236c6c0bca6af6",
            "placeholder": "​",
            "style": "IPY_MODEL_14dee8d38a314932b927754d2c1c33b9",
            "value": " 291/291 [00:00&lt;00:00, 17.0kB/s]"
          }
        },
        "cc2cd36b63844edc9f6f39f0514be10a": {
          "model_module": "@jupyter-widgets/controls",
          "model_module_version": "1.5.0",
          "model_name": "FloatProgressModel",
          "state": {
            "_dom_classes": [],
            "_model_module": "@jupyter-widgets/controls",
            "_model_module_version": "1.5.0",
            "_model_name": "FloatProgressModel",
            "_view_count": null,
            "_view_module": "@jupyter-widgets/controls",
            "_view_module_version": "1.5.0",
            "_view_name": "ProgressView",
            "bar_style": "success",
            "description": "",
            "description_tooltip": null,
            "layout": "IPY_MODEL_60d65456831841a8b8569b4db1e909cc",
            "max": 1,
            "min": 0,
            "orientation": "horizontal",
            "style": "IPY_MODEL_2f32228b82174722a1bf4c56ed259124",
            "value": 1
          }
        },
        "cf233a88cce048d1a473c180b3e78455": {
          "model_module": "@jupyter-widgets/controls",
          "model_module_version": "1.5.0",
          "model_name": "HTMLModel",
          "state": {
            "_dom_classes": [],
            "_model_module": "@jupyter-widgets/controls",
            "_model_module_version": "1.5.0",
            "_model_name": "HTMLModel",
            "_view_count": null,
            "_view_module": "@jupyter-widgets/controls",
            "_view_module_version": "1.5.0",
            "_view_name": "HTMLView",
            "description": "",
            "description_tooltip": null,
            "layout": "IPY_MODEL_b4e85014b80c401091c457312bcc84ab",
            "placeholder": "​",
            "style": "IPY_MODEL_07145a523c0245c68e4b6ddcdc6fb31c",
            "value": "Downloading (…)okenizer_config.json: 100%"
          }
        },
        "d1071e7afeac473da897f37d10b4b792": {
          "model_module": "@jupyter-widgets/controls",
          "model_module_version": "1.5.0",
          "model_name": "DescriptionStyleModel",
          "state": {
            "_model_module": "@jupyter-widgets/controls",
            "_model_module_version": "1.5.0",
            "_model_name": "DescriptionStyleModel",
            "_view_count": null,
            "_view_module": "@jupyter-widgets/base",
            "_view_module_version": "1.2.0",
            "_view_name": "StyleView",
            "description_width": ""
          }
        },
        "d1fdbbd4f99c48149e7f653388a36587": {
          "model_module": "@jupyter-widgets/controls",
          "model_module_version": "1.5.0",
          "model_name": "HTMLModel",
          "state": {
            "_dom_classes": [],
            "_model_module": "@jupyter-widgets/controls",
            "_model_module_version": "1.5.0",
            "_model_name": "HTMLModel",
            "_view_count": null,
            "_view_module": "@jupyter-widgets/controls",
            "_view_module_version": "1.5.0",
            "_view_name": "HTMLView",
            "description": "",
            "description_tooltip": null,
            "layout": "IPY_MODEL_917705b4c51448069c9db6f782b5383b",
            "placeholder": "​",
            "style": "IPY_MODEL_a57d6656d7eb4882b63434aee2f355ea",
            "value": "Downloading (…)solve/main/vocab.txt: "
          }
        },
        "d274eb2885bc45f2941965616a45fcc3": {
          "model_module": "@jupyter-widgets/controls",
          "model_module_version": "1.5.0",
          "model_name": "FloatProgressModel",
          "state": {
            "_dom_classes": [],
            "_model_module": "@jupyter-widgets/controls",
            "_model_module_version": "1.5.0",
            "_model_name": "FloatProgressModel",
            "_view_count": null,
            "_view_module": "@jupyter-widgets/controls",
            "_view_module_version": "1.5.0",
            "_view_name": "ProgressView",
            "bar_style": "success",
            "description": "",
            "description_tooltip": null,
            "layout": "IPY_MODEL_008d6e4825ea48dc8cfa6ded03f88cb1",
            "max": 112,
            "min": 0,
            "orientation": "horizontal",
            "style": "IPY_MODEL_9078399c5cbf4823b11320fa5c22b297",
            "value": 112
          }
        },
        "d926f4da106d47cf92105f1c942c412d": {
          "model_module": "@jupyter-widgets/controls",
          "model_module_version": "1.5.0",
          "model_name": "FloatProgressModel",
          "state": {
            "_dom_classes": [],
            "_model_module": "@jupyter-widgets/controls",
            "_model_module_version": "1.5.0",
            "_model_name": "FloatProgressModel",
            "_view_count": null,
            "_view_module": "@jupyter-widgets/controls",
            "_view_module_version": "1.5.0",
            "_view_name": "ProgressView",
            "bar_style": "success",
            "description": "",
            "description_tooltip": null,
            "layout": "IPY_MODEL_8879b96cfefe436eb1476a6530399bce",
            "max": 267875479,
            "min": 0,
            "orientation": "horizontal",
            "style": "IPY_MODEL_e6e1c9136b7c45eb8d441181b54b949c",
            "value": 267875479
          }
        },
        "e2d5349acfc849c8a26a1d3df9c3f102": {
          "model_module": "@jupyter-widgets/base",
          "model_module_version": "1.2.0",
          "model_name": "LayoutModel",
          "state": {
            "_model_module": "@jupyter-widgets/base",
            "_model_module_version": "1.2.0",
            "_model_name": "LayoutModel",
            "_view_count": null,
            "_view_module": "@jupyter-widgets/base",
            "_view_module_version": "1.2.0",
            "_view_name": "LayoutView",
            "align_content": null,
            "align_items": null,
            "align_self": null,
            "border": null,
            "bottom": null,
            "display": null,
            "flex": null,
            "flex_flow": null,
            "grid_area": null,
            "grid_auto_columns": null,
            "grid_auto_flow": null,
            "grid_auto_rows": null,
            "grid_column": null,
            "grid_gap": null,
            "grid_row": null,
            "grid_template_areas": null,
            "grid_template_columns": null,
            "grid_template_rows": null,
            "height": null,
            "justify_content": null,
            "justify_items": null,
            "left": null,
            "margin": null,
            "max_height": null,
            "max_width": null,
            "min_height": null,
            "min_width": null,
            "object_fit": null,
            "object_position": null,
            "order": null,
            "overflow": null,
            "overflow_x": null,
            "overflow_y": null,
            "padding": null,
            "right": null,
            "top": null,
            "visibility": null,
            "width": null
          }
        },
        "e45694880be2417fa70b853605d0ccec": {
          "model_module": "@jupyter-widgets/base",
          "model_module_version": "1.2.0",
          "model_name": "LayoutModel",
          "state": {
            "_model_module": "@jupyter-widgets/base",
            "_model_module_version": "1.2.0",
            "_model_name": "LayoutModel",
            "_view_count": null,
            "_view_module": "@jupyter-widgets/base",
            "_view_module_version": "1.2.0",
            "_view_name": "LayoutView",
            "align_content": null,
            "align_items": null,
            "align_self": null,
            "border": null,
            "bottom": null,
            "display": null,
            "flex": null,
            "flex_flow": null,
            "grid_area": null,
            "grid_auto_columns": null,
            "grid_auto_flow": null,
            "grid_auto_rows": null,
            "grid_column": null,
            "grid_gap": null,
            "grid_row": null,
            "grid_template_areas": null,
            "grid_template_columns": null,
            "grid_template_rows": null,
            "height": null,
            "justify_content": null,
            "justify_items": null,
            "left": null,
            "margin": null,
            "max_height": null,
            "max_width": null,
            "min_height": null,
            "min_width": null,
            "object_fit": null,
            "object_position": null,
            "order": null,
            "overflow": null,
            "overflow_x": null,
            "overflow_y": null,
            "padding": null,
            "right": null,
            "top": null,
            "visibility": null,
            "width": null
          }
        },
        "e6e1c9136b7c45eb8d441181b54b949c": {
          "model_module": "@jupyter-widgets/controls",
          "model_module_version": "1.5.0",
          "model_name": "ProgressStyleModel",
          "state": {
            "_model_module": "@jupyter-widgets/controls",
            "_model_module_version": "1.5.0",
            "_model_name": "ProgressStyleModel",
            "_view_count": null,
            "_view_module": "@jupyter-widgets/base",
            "_view_module_version": "1.2.0",
            "_view_name": "StyleView",
            "bar_color": null,
            "description_width": ""
          }
        },
        "e8ca413f07f2428c8426dbb391ae6c3d": {
          "model_module": "@jupyter-widgets/controls",
          "model_module_version": "1.5.0",
          "model_name": "ProgressStyleModel",
          "state": {
            "_model_module": "@jupyter-widgets/controls",
            "_model_module_version": "1.5.0",
            "_model_name": "ProgressStyleModel",
            "_view_count": null,
            "_view_module": "@jupyter-widgets/base",
            "_view_module_version": "1.2.0",
            "_view_name": "StyleView",
            "bar_color": null,
            "description_width": ""
          }
        },
        "ea1e536f96d448aca9236c6c0bca6af6": {
          "model_module": "@jupyter-widgets/base",
          "model_module_version": "1.2.0",
          "model_name": "LayoutModel",
          "state": {
            "_model_module": "@jupyter-widgets/base",
            "_model_module_version": "1.2.0",
            "_model_name": "LayoutModel",
            "_view_count": null,
            "_view_module": "@jupyter-widgets/base",
            "_view_module_version": "1.2.0",
            "_view_name": "LayoutView",
            "align_content": null,
            "align_items": null,
            "align_self": null,
            "border": null,
            "bottom": null,
            "display": null,
            "flex": null,
            "flex_flow": null,
            "grid_area": null,
            "grid_auto_columns": null,
            "grid_auto_flow": null,
            "grid_auto_rows": null,
            "grid_column": null,
            "grid_gap": null,
            "grid_row": null,
            "grid_template_areas": null,
            "grid_template_columns": null,
            "grid_template_rows": null,
            "height": null,
            "justify_content": null,
            "justify_items": null,
            "left": null,
            "margin": null,
            "max_height": null,
            "max_width": null,
            "min_height": null,
            "min_width": null,
            "object_fit": null,
            "object_position": null,
            "order": null,
            "overflow": null,
            "overflow_x": null,
            "overflow_y": null,
            "padding": null,
            "right": null,
            "top": null,
            "visibility": null,
            "width": null
          }
        },
        "eb8040b1b1d943c8a5eb73b300687e96": {
          "model_module": "@jupyter-widgets/controls",
          "model_module_version": "1.5.0",
          "model_name": "ProgressStyleModel",
          "state": {
            "_model_module": "@jupyter-widgets/controls",
            "_model_module_version": "1.5.0",
            "_model_name": "ProgressStyleModel",
            "_view_count": null,
            "_view_module": "@jupyter-widgets/base",
            "_view_module_version": "1.2.0",
            "_view_name": "StyleView",
            "bar_color": null,
            "description_width": ""
          }
        },
        "ef3f94e5844448618e202530842ae127": {
          "model_module": "@jupyter-widgets/base",
          "model_module_version": "1.2.0",
          "model_name": "LayoutModel",
          "state": {
            "_model_module": "@jupyter-widgets/base",
            "_model_module_version": "1.2.0",
            "_model_name": "LayoutModel",
            "_view_count": null,
            "_view_module": "@jupyter-widgets/base",
            "_view_module_version": "1.2.0",
            "_view_name": "LayoutView",
            "align_content": null,
            "align_items": null,
            "align_self": null,
            "border": null,
            "bottom": null,
            "display": null,
            "flex": null,
            "flex_flow": null,
            "grid_area": null,
            "grid_auto_columns": null,
            "grid_auto_flow": null,
            "grid_auto_rows": null,
            "grid_column": null,
            "grid_gap": null,
            "grid_row": null,
            "grid_template_areas": null,
            "grid_template_columns": null,
            "grid_template_rows": null,
            "height": null,
            "justify_content": null,
            "justify_items": null,
            "left": null,
            "margin": null,
            "max_height": null,
            "max_width": null,
            "min_height": null,
            "min_width": null,
            "object_fit": null,
            "object_position": null,
            "order": null,
            "overflow": null,
            "overflow_x": null,
            "overflow_y": null,
            "padding": null,
            "right": null,
            "top": null,
            "visibility": null,
            "width": null
          }
        },
        "fb38b032f96641709696b9600a8eb21e": {
          "model_module": "@jupyter-widgets/controls",
          "model_module_version": "1.5.0",
          "model_name": "FloatProgressModel",
          "state": {
            "_dom_classes": [],
            "_model_module": "@jupyter-widgets/controls",
            "_model_module_version": "1.5.0",
            "_model_name": "FloatProgressModel",
            "_view_count": null,
            "_view_module": "@jupyter-widgets/controls",
            "_view_module_version": "1.5.0",
            "_view_name": "ProgressView",
            "bar_style": "success",
            "description": "",
            "description_tooltip": null,
            "layout": "IPY_MODEL_9273862ea47a410c84a5df265d8fdffb",
            "max": 291,
            "min": 0,
            "orientation": "horizontal",
            "style": "IPY_MODEL_eb8040b1b1d943c8a5eb73b300687e96",
            "value": 291
          }
        },
        "fd3e53c49cdd4578ba27ba21e5af8264": {
          "model_module": "@jupyter-widgets/controls",
          "model_module_version": "1.5.0",
          "model_name": "DescriptionStyleModel",
          "state": {
            "_model_module": "@jupyter-widgets/controls",
            "_model_module_version": "1.5.0",
            "_model_name": "DescriptionStyleModel",
            "_view_count": null,
            "_view_module": "@jupyter-widgets/base",
            "_view_module_version": "1.2.0",
            "_view_name": "StyleView",
            "description_width": ""
          }
        }
      }
    }
  },
  "nbformat": 4,
  "nbformat_minor": 0
}
