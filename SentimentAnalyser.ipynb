{
  "nbformat": 4,
  "nbformat_minor": 0,
  "metadata": {
    "colab": {
      "provenance": [],
      "collapsed_sections": [
        "dEHEvrkQk9UP",
        "SAjiy9Hsjk0g",
        "Nc-35HJklHRx",
        "tWeohUlenFy4",
        "Jg8LHuRGwQ3E"
      ],
      "toc_visible": true,
      "authorship_tag": "ABX9TyNYajs1YBi/kb6Xn1v48Mb/",
      "include_colab_link": true
    },
    "kernelspec": {
      "name": "python3",
      "display_name": "Python 3"
    },
    "language_info": {
      "name": "python"
    }
  },
  "cells": [
    {
      "cell_type": "markdown",
      "metadata": {
        "id": "view-in-github",
        "colab_type": "text"
      },
      "source": [
        "<a href=\"https://colab.research.google.com/github/Girish-yml/notebooks/blob/main/SentimentAnalyser.ipynb\" target=\"_parent\"><img src=\"https://colab.research.google.com/assets/colab-badge.svg\" alt=\"Open In Colab\"/></a>"
      ]
    },
    {
      "cell_type": "markdown",
      "source": [
        "# Utility"
      ],
      "metadata": {
        "id": "L31WBIUK29wk"
      }
    },
    {
      "cell_type": "code",
      "source": [
        "!pip install huggingface_hub\n",
        "!pip install torch\n",
        "!pip install cryptography\n",
        "!pip install psutil"
      ],
      "metadata": {
        "id": "_6I2BL3t2z9X"
      },
      "execution_count": null,
      "outputs": []
    },
    {
      "cell_type": "code",
      "source": [
        "# %%writefile app.py\n",
        "\n",
        "\"\"\" A Utility calss which contains most commonly used functions \"\"\"\n",
        "\n",
        "import huggingface_hub\n",
        "import huggingface_hub.hf_api\n",
        "import psutil\n",
        "import torch\n",
        "import functools\n",
        "import socket\n",
        "import cryptography\n",
        "import cryptography.fernet\n",
        "\n",
        "class Utility(object):\n",
        "\n",
        "  def __init__(self, name=\"Utility\") -> None:\n",
        "    self.name = name\n",
        "    self.author = \"Duc Haba, Girish\"\n",
        "    self._pp(\"Hello from class\", str(self.__class__) + \" Class: \" + str(self.__class__.__name__))\n",
        "    self._pp(\"Code name\", self.name)\n",
        "\n",
        "    #Define encrypted keys\n",
        "    self._huggingface_key=\"gAAAAABkgtmOIjpnjwXFWmgh1j2et2kMjHUze-ym6h3BieAp34Sqkqv3EVYvRinETvpw-kXu7RSRl5_9FqrYe-7unfakMvMkU8nHrfB3hBSC76ZTXwkVSzlN0RfBNs9NL8BGjaSJ8mz8\"\n",
        "\n",
        "    #Key for crypto\n",
        "    self._fkey=\"=cvsOPRcWD6JONmdr4Sh6-PqF6nT1InYh965mI8f_sef\"\n",
        "    return\n",
        "\n",
        "  # Print : Pretty print output name-value line\n",
        "  def _pp(self, a, b,is_print=True):\n",
        "    # print(\"%34s : %s\" % (str(a), str(b)))\n",
        "    x = f'{\"%34s\" % str(a)} : {str(b)}'\n",
        "    y = None\n",
        "    if (is_print):\n",
        "      print(x)\n",
        "    else:\n",
        "      y = x\n",
        "    return y\n",
        "\n",
        "  # Print : Pretty print the header or footer lines\n",
        "  def _ph(self,is_print=True):\n",
        "    x = f'{\"-\"*34} : {\"-\"*34}'\n",
        "    y = None\n",
        "    if (is_print):\n",
        "      print(x)\n",
        "    else:\n",
        "      y = x\n",
        "    return y\n",
        "\n",
        "  # Hugging face : Login to Hugging face\n",
        "  def _login_hface(self):\n",
        "    huggingface_hub.login(self._decrypt_it(self._huggingface_key),\n",
        "      add_to_git_credential=True) # non-blocking login\n",
        "    self._ph()\n",
        "    return\n",
        "\n",
        "  # Hugging face : Push files to Hugging face\n",
        "  def push_hface_files(self,\n",
        "    hf_names,\n",
        "    hf_space=\"GirishKiran/yml\",\n",
        "    local_dir=\"/content/\"):\n",
        "    f = str(hf_names) + \" is not iteratable, type: \" + str(type(hf_names))\n",
        "    try:\n",
        "      for f in hf_names:\n",
        "        lo = local_dir + f\n",
        "        huggingface_hub.upload_file(\n",
        "          path_or_fileobj=lo,\n",
        "          path_in_repo=f,\n",
        "          repo_id=hf_space,\n",
        "          repo_type=huggingface_hub.REPO_TYPE_SPACE)\n",
        "    except Exception as e:\n",
        "      self._pp(\"*Error\", e)\n",
        "    return\n",
        "\n",
        "  # Hugging face : Push folders to Hugging face\n",
        "  def push_hface_folder(self, hf_folder, hf_space_id, hf_dest_folder=None):\n",
        "    api = huggingface_hub.HfApi()\n",
        "    api.upload_folder(folder_path=hf_folder,\n",
        "      repo_id=hf_space_id,\n",
        "      path_in_repo=hf_dest_folder,\n",
        "      repo_type=\"space\")\n",
        "    return\n",
        "\n",
        "  # Hugging face : Login to Hugging face\n",
        "  def _login_hface(self):\n",
        "    huggingface_hub.login(self._decrypt_it(self._huggingface_key),\n",
        "      add_to_git_credential=True) # non-blocking login\n",
        "    self._ph()\n",
        "    return\n",
        "\n",
        "  # System Info : Fetch available CPU and RAM of the system\n",
        "  def fetch_system_info(self):\n",
        "    s=''\n",
        "    # Get CPU usage as a percentage\n",
        "    cpu_usage = psutil.cpu_percent()\n",
        "    # Get available memory in bytes\n",
        "    mem = psutil.virtual_memory()\n",
        "    # Convert bytes to gigabytes\n",
        "    mem_total_gb = mem.total / (1024 ** 3)\n",
        "    mem_available_gb = mem.available / (1024 ** 3)\n",
        "    mem_used_gb = mem.used / (1024 ** 3)\n",
        "    # Print the results\n",
        "    s += f\"CPU usage: {cpu_usage}%\\n\"\n",
        "    s += f\"Total memory: {mem_total_gb:.2f} GB\\n\"\n",
        "    s += f\"Available memory: {mem_available_gb:.2f} GB\\n\"\n",
        "    # print(f\"Used memory: {mem_used_gb:.2f} GB\")\n",
        "    s += f\"Memory usage: {mem_used_gb/mem_total_gb:.2f}%\\n\"\n",
        "    return\n",
        "\n",
        "  # System Info : Fetch GPU information of the system\n",
        "  def fetch_gpu_info(self):\n",
        "    s=''\n",
        "    try:\n",
        "      s += f'Your GPU is the {torch.cuda.get_device_name(0)}\\n'\n",
        "      s += f'GPU ready staus {torch.cuda.is_available()}\\n'\n",
        "      s += f'GPU allocated RAM: {round(torch.cuda.memory_allocated(0)/1024**3,1)} GB\\n'\n",
        "      s += f'GPU reserved RAM {round(torch.cuda.memory_reserved(0)/1024**3,1)} GB\\n'\n",
        "    except Exception as e:\n",
        "      s += f'**Warning, No GPU: {e}'\n",
        "    return s\n",
        "\n",
        "  # System Info : Fetch host ip address\n",
        "  def fetch_host_ip(self):\n",
        "    s=''\n",
        "    hostname = socket.gethostname()\n",
        "    ip_address = socket.gethostbyname(hostname)\n",
        "    s += f\"Hostname: {hostname}\\n\"\n",
        "    s += f\"IP Address: {ip_address}\\n\"\n",
        "    return s\n",
        "\n",
        "  # Create and writes data to the file\n",
        "  def write_file(self,fname, txt):\n",
        "    f = open(fname, \"w\")\n",
        "    f.writelines(\"\\n\".join(txt))\n",
        "    f.close()\n",
        "    return\n",
        "\n",
        "  # Crypto : Fetch crypto key\n",
        "  def _fetch_crypt(self,is_generate=False):\n",
        "    s=self._fkey[::-1]\n",
        "    if (is_generate):\n",
        "      s=open(self._xkeyfile, \"rb\").read()\n",
        "    return s\n",
        "\n",
        "  # Crypto : Decrypt value\n",
        "  def _decrypt_it(self, x):\n",
        "    y = self._fetch_crypt()\n",
        "    f = cryptography.fernet.Fernet(y)\n",
        "    m = f.decrypt(x)\n",
        "    return m.decode()\n",
        "\n",
        "  # Crypto : Encrypt value\n",
        "  def _encrypt_it(self, x):\n",
        "    key = self._fetch_crypt()\n",
        "    p = x.encode()\n",
        "    f = cryptography.fernet.Fernet(key)\n",
        "    y = f.encrypt(p)\n",
        "    return y\n",
        "\n",
        "# Add method to class\n",
        "def add_method(cls):\n",
        "  def decorator(func):\n",
        "    @functools.wraps(func)\n",
        "    def wrapper(*args, **kwargs):\n",
        "      return func(*args, **kwargs)\n",
        "    setattr(cls, func.__name__, wrapper)\n",
        "    return func # returning func means func can still be used normally\n",
        "  return decorator\n",
        ""
      ],
      "metadata": {
        "id": "KX5EDnCK0Bdo"
      },
      "execution_count": 30,
      "outputs": []
    },
    {
      "cell_type": "markdown",
      "source": [
        "# Sentiment"
      ],
      "metadata": {
        "id": "XbbwSXxCwwHj"
      }
    },
    {
      "cell_type": "code",
      "execution_count": null,
      "metadata": {
        "id": "MKe7-RNKhmRO"
      },
      "outputs": [],
      "source": [
        "!pip install transformers\n",
        "!pip install scipy"
      ]
    },
    {
      "cell_type": "code",
      "source": [
        "# %%writefile -a app.py\n",
        "\n",
        "\"\"\" This file contains multiple Python classes and responssible to provide Emotions based on the given user input\n",
        "    Currently it supports emotions like Anger, Joy, Optimism and Sadness\"\"\"\n",
        "\n",
        "from transformers import AutoTokenizer, AutoModelForSequenceClassification\n",
        "import scipy\n",
        "import scipy.special\n",
        "import pandas\n",
        "\n",
        "class SentimentAnalyser(object):\n",
        "\n",
        "  global utility\n",
        "\n",
        "  # initialize the object\n",
        "  def __init__(self, name=\"Sentiment\",*args, **kwargs):\n",
        "    super(SentimentAnalyser, self).__init__(*args, **kwargs)\n",
        "    self.author = \"Duc Haba, Girish\"\n",
        "    self.name = name\n",
        "    utility = Utility(name=\"Calling From SentimentAnalyser\")\n",
        "    self.utility = utility\n",
        "    utility._ph()\n",
        "    utility._pp(\"Hello from class\", str(self.__class__) + \" Class: \" + str(self.__class__.__name__))\n",
        "    utility._pp(\"Code name\", self.name)\n",
        "    utility._pp(\"Author is\" , self.author)\n",
        "    utility._ph()\n",
        "    print(utility.fetch_system_info())\n",
        "    utility._ph()\n",
        "    print(utility.fetch_gpu_info())\n",
        "    utility._ph()\n",
        "    print(utility.fetch_host_ip())\n",
        "    utility._ph()\n",
        "    self._init_model()\n",
        "    utility._login_hface()\n",
        "    return\n",
        "\n",
        "  # initalise the model\n",
        "  def _init_model(self):\n",
        "    modelLink = \"bhadresh-savani/distilbert-base-uncased-emotion\"\n",
        "    self.tokenizer = AutoTokenizer.from_pretrained(modelLink)\n",
        "    self.model = AutoModelForSequenceClassification.from_pretrained(modelLink)\n",
        "    return\n",
        "\n",
        "sentiment = SentimentAnalyser(name=\"EmotionAnalyser\")"
      ],
      "metadata": {
        "colab": {
          "base_uri": "https://localhost:8080/"
        },
        "id": "KwFjaWw1mc_D",
        "outputId": "506b2011-aeb8-4faa-937e-007c5a21cd43"
      },
      "execution_count": 31,
      "outputs": [
        {
          "output_type": "stream",
          "name": "stdout",
          "text": [
            "                  Hello from class : <class '__main__.Utility'> Class: Utility\n",
            "                         Code name : Calling From SentimentAnalyser\n",
            "---------------------------------- : ----------------------------------\n",
            "                  Hello from class : <class '__main__.SentimentAnalyser'> Class: SentimentAnalyser\n",
            "                         Code name : EmotionAnalyser\n",
            "                         Author is : Duc Haba, Girish\n",
            "---------------------------------- : ----------------------------------\n",
            "None\n",
            "---------------------------------- : ----------------------------------\n",
            "**Warning, No GPU: Found no NVIDIA driver on your system. Please check that you have an NVIDIA GPU and installed a driver from http://www.nvidia.com/Download/index.aspx\n",
            "---------------------------------- : ----------------------------------\n",
            "Hostname: 88bf551c37d3\n",
            "IP Address: 172.28.0.12\n",
            "\n",
            "---------------------------------- : ----------------------------------\n",
            "Token is valid (permission: write).\n",
            "Your token has been saved in your configured git credential helpers (store).\n",
            "Your token has been saved to /root/.cache/huggingface/token\n",
            "Login successful\n",
            "---------------------------------- : ----------------------------------\n"
          ]
        }
      ]
    },
    {
      "cell_type": "code",
      "source": [
        "# %%writefile -a app.py\n",
        "\n",
        "@add_method(SentimentAnalyser)\n",
        "def _predict_sentiment(p):\n",
        "  # Tokenize input\n",
        "  inputs = sentiment.tokenizer(p, return_tensors=\"pt\")\n",
        "  # Pass inputs through model\n",
        "  outputs = sentiment.model(**inputs)\n",
        "  out_data = outputs[0][0]\n",
        "  scores = out_data.detach().numpy()\n",
        "  scores = scipy.special.softmax(scores)\n",
        "  sentiment_map = ['Sadness', 'Joy', 'Love', 'Anger', 'Fear' , \"Surprise\"]\n",
        "  df_out = pandas.DataFrame([scores], columns=sentiment_map)\n",
        "  return df_out\n",
        "\n",
        "@add_method(SentimentAnalyser)\n",
        "def draw_bar_plot(df_data, title='Sentiment Analysis', xlabel='p string', ylabel='Emotion Score'):\n",
        "  pic = df_data.plot.bar(color=['#e89096', '#747c0c', '#84c98c','#dc545c', '#a31a0e' , '#3fbfbf'],\n",
        "        title=title,\n",
        "        ylabel=ylabel,\n",
        "        xlabel=xlabel,\n",
        "        grid=True)\n",
        "  return pic\n",
        "\n",
        "@add_method(SentimentAnalyser)\n",
        "def predict_sentiment(p):\n",
        "  df_out = _predict_sentiment(p)\n",
        "  max_column = df_out.loc[0].idxmax()\n",
        "  max_value = df_out.loc[0].max()\n",
        "  title = f'Sentiment Analysis: {max_column}: {round(max_value*100,1)}%'\n",
        "  xlabel= f'Input: {p}'\n",
        "  pic = draw_bar_plot(df_out, title=title, xlabel=xlabel)\n",
        "  return pic.get_figure(), df_out.to_json()"
      ],
      "metadata": {
        "colab": {
          "base_uri": "https://localhost:8080/"
        },
        "id": "ZaYOSNS2Rjtk",
        "outputId": "f8a07257-ef17-4cc1-cc0c-a7284c189cac"
      },
      "execution_count": 23,
      "outputs": [
        {
          "output_type": "stream",
          "name": "stdout",
          "text": [
            "Appending to app.py\n"
          ]
        }
      ]
    },
    {
      "cell_type": "markdown",
      "source": [
        "# Verification"
      ],
      "metadata": {
        "id": "dEHEvrkQk9UP"
      }
    },
    {
      "cell_type": "code",
      "source": [
        "# Test the function\n",
        "x,y = predict_sentiment('Wow is this for me?')\n",
        "x\n",
        "y"
      ],
      "metadata": {
        "colab": {
          "base_uri": "https://localhost:8080/",
          "height": 0
        },
        "id": "xFEMZyyXdx-o",
        "outputId": "0962c459-c168-46e0-d4c6-13583e7afac2"
      },
      "execution_count": 20,
      "outputs": [
        {
          "output_type": "execute_result",
          "data": {
            "text/plain": [
              "'{\"Sadness\":{\"0\":0.0083456943},\"Joy\":{\"0\":0.5456659198},\"Love\":{\"0\":0.0032397688},\"Anger\":{\"0\":0.0153984884},\"Fear\":{\"0\":0.0282803718},\"Surprise\":{\"0\":0.3990697861}}'"
            ],
            "application/vnd.google.colaboratory.intrinsic+json": {
              "type": "string"
            }
          },
          "metadata": {},
          "execution_count": 20
        },
        {
          "output_type": "display_data",
          "data": {
            "text/plain": [
              "<Figure size 640x480 with 1 Axes>"
            ],
            "image/png": "[encoded data removed]"
          },
          "metadata": {}
        }
      ]
    },
    {
      "cell_type": "markdown",
      "source": [
        "# Gradio UI"
      ],
      "metadata": {
        "id": "SAjiy9Hsjk0g"
      }
    },
    {
      "cell_type": "code",
      "source": [
        "!pip install gradio"
      ],
      "metadata": {
        "id": "yjnkFHTrb4n_"
      },
      "execution_count": null,
      "outputs": []
    },
    {
      "cell_type": "code",
      "source": [
        "# %%writefile -a app.py\n",
        "\n",
        "import gradio\n",
        "in_box = [gradio.Textbox(lines=1, label=\"Input\", placeholder=\"type text here\")]\n",
        "out_box = [gradio.Plot(label=\"Sentiment Score:\"),\n",
        "  gradio.Textbox(lines=4, label=\"Raw JSON Response:\")]\n",
        "title = \"Sentiment Analysis: Understanding the Emotional Tone of Text\"\n",
        "desc = \"Sentiment analysis is a powerful tool that can be used to gain insights into how people feel about the world around them.\"\n",
        "exp = [\n",
        "  ['I am feeling very bad today.'],\n",
        "  ['I hate to swim early morning.']\n",
        " ]"
      ],
      "metadata": {
        "colab": {
          "base_uri": "https://localhost:8080/"
        },
        "id": "7d2QElvCjgYU",
        "outputId": "02eb993f-a288-4232-fee2-998b39a71f74"
      },
      "execution_count": 37,
      "outputs": [
        {
          "output_type": "stream",
          "name": "stdout",
          "text": [
            "Appending to app.py\n"
          ]
        }
      ]
    },
    {
      "cell_type": "code",
      "source": [
        "# %%writefile -a app.py\n",
        "\n",
        "gradio.Interface(fn=predict_sentiment,\n",
        "  inputs=in_box,\n",
        "  outputs=out_box,\n",
        "  title=title,\n",
        "  description=desc,\n",
        "  examples=exp).launch(debug=True)"
      ],
      "metadata": {
        "colab": {
          "base_uri": "https://localhost:8080/"
        },
        "id": "KQGYXCDIjuR4",
        "outputId": "88a54a26-0c29-48a0-cacb-3c71e0b89630"
      },
      "execution_count": 38,
      "outputs": [
        {
          "output_type": "stream",
          "name": "stdout",
          "text": [
            "Appending to app.py\n"
          ]
        }
      ]
    },
    {
      "cell_type": "markdown",
      "source": [
        "# Uploading to Hugging face"
      ],
      "metadata": {
        "id": "Nc-35HJklHRx"
      }
    },
    {
      "cell_type": "markdown",
      "source": [
        "## Create requirment.txt"
      ],
      "metadata": {
        "id": "tWeohUlenFy4"
      }
    },
    {
      "cell_type": "code",
      "source": [
        "# create the requirements.txt file\n",
        "txt = [\"huggingface_hub\", \"torch\",\n",
        "  \"transformers\", \"scipy\", \"gradio\", \"cryptography\", \"psutil\"]\n",
        "sentiment.utility.write_file(\"requirements.txt\", txt)"
      ],
      "metadata": {
        "id": "Qhf1njPCnKTs"
      },
      "execution_count": 39,
      "outputs": []
    },
    {
      "cell_type": "code",
      "source": [
        "# optional double check it\n",
        "!cat requirements.txt"
      ],
      "metadata": {
        "colab": {
          "base_uri": "https://localhost:8080/"
        },
        "id": "yVt59QhHnEv8",
        "outputId": "9a18fd00-c170-4f6b-c5d8-116bbdb002cd"
      },
      "execution_count": 40,
      "outputs": [
        {
          "output_type": "stream",
          "name": "stdout",
          "text": [
            "huggingface_hub\n",
            "torch\n",
            "transformers\n",
            "scipy\n",
            "gradio\n",
            "cryptography\n",
            "psutil"
          ]
        }
      ]
    },
    {
      "cell_type": "code",
      "source": [
        "sentiment.hface_space = 'GirishKiran/sentiment'\n",
        "up_files = [\"app.py\", \"requirements.txt\"]\n",
        "sentiment.utility.push_hface_files(up_files, hf_space=sentiment.hface_space)"
      ],
      "metadata": {
        "id": "x9BFQpGKlNui"
      },
      "execution_count": 44,
      "outputs": []
    },
    {
      "cell_type": "markdown",
      "source": [
        "# API"
      ],
      "metadata": {
        "id": "MiRGb1dsUNSa"
      }
    },
    {
      "cell_type": "markdown",
      "source": [
        "## Post"
      ],
      "metadata": {
        "id": "F1ad9UceVxho"
      }
    },
    {
      "cell_type": "code",
      "source": [
        "import requests\n",
        "\n",
        "end_point = 'https://girishkiran-sentiment.hf.space/run/predict'\n",
        "response = requests.post(end_point, json={\n",
        "  \"data\": [\n",
        "    \"I hate to swim early morning.\",\n",
        "]}).json()\n",
        "\n",
        "data = response[\"data\"]\n",
        "print(data[1])"
      ],
      "metadata": {
        "colab": {
          "base_uri": "https://localhost:8080/"
        },
        "id": "6wPLAdm0V1Pe",
        "outputId": "87faaa3f-6cb5-48c0-d62e-130ea8b744e8"
      },
      "execution_count": 9,
      "outputs": [
        {
          "output_type": "stream",
          "name": "stdout",
          "text": [
            "{\"Sadness\":{\"0\":0.0234352797},\"Joy\":{\"0\":0.1141998619},\"Love\":{\"0\":0.0036023685},\"Anger\":{\"0\":0.0805795714},\"Fear\":{\"0\":0.7764459848},\"Surprise\":{\"0\":0.0017369982}}\n"
          ]
        }
      ]
    },
    {
      "cell_type": "markdown",
      "source": [
        "## Python"
      ],
      "metadata": {
        "id": "xeDmMW6qVCl9"
      }
    },
    {
      "cell_type": "code",
      "source": [
        "!pip install gradio_client"
      ],
      "metadata": {
        "id": "JtL0m8BZURtv"
      },
      "execution_count": null,
      "outputs": []
    },
    {
      "cell_type": "code",
      "source": [
        "from gradio_client import Client\n",
        "\n",
        "client = Client(\"https://girishkiran-sentiment.hf.space/\")\n",
        "result = client.predict(\n",
        "\t\t\t\t\"I hate to swim early morning.\",\n",
        "\t\t\t\tapi_name=\"/predict\"\n",
        ")\n",
        "print(result[1])\n"
      ],
      "metadata": {
        "colab": {
          "base_uri": "https://localhost:8080/"
        },
        "id": "JurVntGtUWR4",
        "outputId": "80aa2be5-6375-452b-9ff1-5869ebdc3ee6"
      },
      "execution_count": 3,
      "outputs": [
        {
          "output_type": "stream",
          "name": "stdout",
          "text": [
            "Loaded as API: https://girishkiran-sentiment.hf.space/ ✔\n",
            "{\"Sadness\":{\"0\":0.0151823629},\"Joy\":{\"0\":0.1143344864},\"Love\":{\"0\":0.0031632562},\"Anger\":{\"0\":0.7523047328},\"Fear\":{\"0\":0.0804230794},\"Surprise\":{\"0\":0.0345920473}}\n"
          ]
        }
      ]
    },
    {
      "cell_type": "markdown",
      "source": [
        "# Scratch pad"
      ],
      "metadata": {
        "id": "Jg8LHuRGwQ3E"
      }
    },
    {
      "cell_type": "code",
      "source": [
        "import gradio\n",
        "\n",
        "md='models/bhadresh-savani/distilbert-base-uncased-emotion'\n",
        "t='Maggie: YML Hackathon Image Generation'\n",
        "d='This space is for the YML Hackathon. The API link is on the bottom of the page.'\n",
        "a = f'Note: The underline model is the Stable Diffusion: {md}'\n",
        "gradio.load(md,title=t,description=d,article=a).launch(share=True)"
      ],
      "metadata": {
        "id": "cuLQYO05km6k"
      },
      "execution_count": null,
      "outputs": []
    },
    {
      "cell_type": "code",
      "source": [
        "# Print classifiers like Joy, Anger , Sad , etc\n",
        "from transformers import pipeline\n",
        "classifier = pipeline(\"text-classification\",model='bhadresh-savani/distilbert-base-uncased-emotion', return_all_scores=True)\n",
        "prediction = classifier(\"I was a lonely sheep who is lost in the wood.\", )\n",
        "print(prediction)"
      ],
      "metadata": {
        "id": "hg236CARb4va"
      },
      "execution_count": null,
      "outputs": []
    }
  ]
}